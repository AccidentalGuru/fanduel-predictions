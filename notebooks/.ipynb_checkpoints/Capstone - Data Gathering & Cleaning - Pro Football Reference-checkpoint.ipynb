{
 "cells": [
  {
   "cell_type": "markdown",
   "metadata": {},
   "source": [
    "# General Assembly DSI - Denver 2018\n",
    "## Capstone Project - DFS Model\n",
    "This is my capstone project at General Assembly's fifth [Data Science Immersive](https://generalassemb.ly/education/data-science-immersive) cohort in 2018. I am developing a model to assist in optimizing NFL lineups on the daily fantasy sports platforms [Draft Kings](https://www.draftkings.com/) and [Fan Duel](https://www.fanduel.com/).\n",
    "\n",
    "### Problem Statement\n",
    "\n",
    "Can we build a model to predict a football player’s fantasy football performance to estimate their value and implement the model in conjunction with a daily fantasy strategy to be profitable?"
   ]
  },
  {
   "cell_type": "code",
   "execution_count": 2,
   "metadata": {},
   "outputs": [],
   "source": [
    "import pandas as pd\n",
    "import requests\n",
    "import time\n",
    "from bs4 import BeautifulSoup"
   ]
  },
  {
   "cell_type": "markdown",
   "metadata": {},
   "source": [
    "### Quarterbacks"
   ]
  },
  {
   "cell_type": "code",
   "execution_count": 49,
   "metadata": {},
   "outputs": [],
   "source": [
    "quarterbacks = []\n",
    "\n",
    "for i in range(30):\n",
    "    url = 'https://www.pro-football-reference.com/play-index/pgl_finder.cgi?request=1&match=game&year_min=2011&year_max=2017&season_start=1&season_end=-1&pos=QB&game_type=R&career_game_num_min=1&career_game_num_max=400&game_num_min=0&game_num_max=99&week_num_min=1&week_num_max=17&is_active=Y&c1stat=pass_att&c1comp=gt&c1val=1&c5val=1.0&order_by=pass_rating&offset={}'.format(i * 100)\n",
    "    res = requests.get(url)\n",
    "    soup = BeautifulSoup(res.content, 'lxml')\n",
    "    \n",
    "    if res.status_code == 200:    \n",
    "        for row in soup.find_all('tr')[2:]:\n",
    "            try:\n",
    "                player_dict = {}\n",
    "                player_dict['Name'] = row.find('a').text.split()[1] + ', ' + row.find('a').text.split()[0]\n",
    "                player_dict['Age'] = row.find('td', attrs = {'data-stat': 'age'}).text\n",
    "                player_dict['Date'] = row.find('td', attrs = {'data-stat': \"game_date\"}).text\n",
    "                player_dict['Team'] = row.find('td', attrs = {'data-stat': 'team'}).text\n",
    "                player_dict['Oppt'] = row.find('td', attrs = {'data-stat': 'opp'}).text\n",
    "                player_dict['Week'] = row.find('td', attrs = {'data-stat': 'week_num'}).text\n",
    "                player_dict['Year'] = row.find('td', attrs = {'data-stat': \"game_date\"}).text[:4]\n",
    "                player_dict['Completions'] = row.find('td', attrs = {'data-stat': 'pass_cmp'}).text\n",
    "                player_dict['Attempts'] = row.find('td', attrs = {'data-stat': 'pass_att'}).text\n",
    "                player_dict['Yards'] = row.find('td', attrs = {'data-stat': 'pass_yds'}).text\n",
    "                player_dict['TDs'] = row.find('td', attrs = {'data-stat': 'pass_td'}).text\n",
    "                player_dict['Interceptions'] = row.find('td', attrs = {'data-stat': 'pass_int'}).text\n",
    "                player_dict['Rating'] = row.find('td', attrs = {'data-stat': 'pass_rating'}).text\n",
    "                player_dict['Y/A'] = row.find('td', attrs = {'data-stat': 'pass_yds_per_att'}).text\n",
    "                quarterbacks.append(player_dict)\n",
    "            except:\n",
    "                continue\n",
    "    else:\n",
    "        print(\"Oops something went wrong... Error Code: {}\".format(res.status_code))\n",
    "    time.sleep(.5)"
   ]
  },
  {
   "cell_type": "code",
   "execution_count": 55,
   "metadata": {},
   "outputs": [],
   "source": [
    "qb_stats = pd.DataFrame(quarterbacks)"
   ]
  },
  {
   "cell_type": "code",
   "execution_count": 59,
   "metadata": {},
   "outputs": [],
   "source": [
    "qb_stats = qb_stats.sort_values(['Week', 'Year'])"
   ]
  },
  {
   "cell_type": "code",
   "execution_count": 61,
   "metadata": {},
   "outputs": [],
   "source": [
    "qb_stats['Month'] = qb_stats['Date'].map(lambda x: x[5:7])"
   ]
  },
  {
   "cell_type": "code",
   "execution_count": 64,
   "metadata": {},
   "outputs": [],
   "source": [
    "qb_stats.drop(\"Date\", axis = 1, inplace = True)"
   ]
  },
  {
   "cell_type": "code",
   "execution_count": 67,
   "metadata": {},
   "outputs": [],
   "source": [
    "teams = {'NWE': 'NE', 'JAX': 'JAX', 'CIN': 'CIN', 'NOR': 'NO', 'BAL': 'BAL', 'ATL': 'ATL', 'DET': 'DET', 'NYG': 'NYG',\n",
    "        'PIT': 'PIT', 'GNB': 'GB', 'CAR': 'CAR', 'CLE': 'CLE', 'HOU': 'HOU', 'WAS': 'WAS', 'KAN': 'KC',\n",
    "        'BUF': 'BUF', 'SDG': 'LAC', 'SEA': 'SEA', 'OAK': 'OAK', 'IND': 'IND','NYJ': 'NYJ', 'MIA': 'MIA',\n",
    "        'PHI': 'PHI', 'TAM': 'TB', 'MIN': 'MIN', 'SFO': 'SF', 'TEN': 'TEN', 'STL': 'LAR', 'DEN': 'DEN', 'DAL': 'DAL',\n",
    "        'CHI': 'CHI', 'LAR': 'LAR', 'ARI': 'ARI', 'LAC': 'LAC'}"
   ]
  },
  {
   "cell_type": "code",
   "execution_count": 70,
   "metadata": {},
   "outputs": [],
   "source": [
    "qb_stats['Oppt'] = qb_stats['Oppt'].map(teams)\n",
    "qb_stats['Team'] = qb_stats['Team'].map(teams)"
   ]
  },
  {
   "cell_type": "code",
   "execution_count": 73,
   "metadata": {},
   "outputs": [],
   "source": [
    "qb_stats.reset_index(drop = True, inplace = True)"
   ]
  },
  {
   "cell_type": "code",
   "execution_count": 74,
   "metadata": {},
   "outputs": [],
   "source": [
    "qb_stats.to_csv('../data/qb_stats.csv', index = False)"
   ]
  },
  {
   "cell_type": "markdown",
   "metadata": {},
   "source": [
    "### Runningbacks"
   ]
  },
  {
   "cell_type": "code",
   "execution_count": 119,
   "metadata": {},
   "outputs": [],
   "source": [
    "runningbacks = []\n",
    "\n",
    "for i in range(43):\n",
    "    url = 'https://www.pro-football-reference.com/play-index/pgl_finder.cgi?request=1&match=game&year_min=2011&year_max=2017&season_start=1&season_end=-1&pos=RB&game_type=R&career_game_num_min=1&career_game_num_max=400&game_num_min=0&game_num_max=99&week_num_min=1&week_num_max=17&is_active=Y&c1stat=rush_att&c1comp=gt&c1val=1&c2stat=targets&c2comp=gt&c2val=0&c5val=1.0&order_by=game_date&offset={}'.format(i * 100)\n",
    "    res = requests.get(url)\n",
    "    soup = BeautifulSoup(res.content, 'lxml')\n",
    "    \n",
    "    if res.status_code == 200:    \n",
    "        for row in soup.find_all('tr')[2:]:\n",
    "            if row.find('td', attrs = {'data-stat': 'rush_att'}) == None:\n",
    "                continue\n",
    "            else:\n",
    "                player_dict = {}\n",
    "                player_dict['Name'] = row.find('a').text.split()[1] + ', ' + row.find('a').text.split()[0]\n",
    "                player_dict['Age'] = row.find('td', attrs = {'data-stat': 'age'}).text\n",
    "                player_dict['Date'] = row.find('td', attrs = {'data-stat': \"game_date\"}).text\n",
    "                player_dict['Team'] = row.find('td', attrs = {'data-stat': 'team'}).text\n",
    "                player_dict['Oppt'] = row.find('td', attrs = {'data-stat': 'opp'}).text\n",
    "                player_dict['Week'] = row.find('td', attrs = {'data-stat': 'week_num'}).text\n",
    "                player_dict['Year'] = row.find('td', attrs = {'data-stat': \"game_date\"}).text[:4]\n",
    "                player_dict['Month'] = row.find('td', attrs = {'data-stat': \"game_date\"}).text[5:7]\n",
    "                player_dict['Carries'] = row.find('td', attrs = {'data-stat': 'rush_att'}).text\n",
    "                player_dict['Rush_Yds'] = row.find('td', attrs = {'data-stat': 'rush_yds'}).text\n",
    "                player_dict['Rush_TDs'] = row.find('td', attrs = {'data-stat': 'rush_td'}).text\n",
    "                player_dict['Targets'] = row.find('td', attrs = {'data-stat': 'targets'}).text\n",
    "                player_dict['Receptions'] = row.find('td', attrs = {'data-stat': 'rec'}).text\n",
    "                player_dict['Rec_Yds'] = row.find('td', attrs = {'data-stat': 'rec_yds'}).text\n",
    "                player_dict['Rec_TDs'] = row.find('td', attrs = {'data-stat': 'rec_td'}).text\n",
    "                runningbacks.append(player_dict)\n",
    "    else:\n",
    "        print(\"Oops something went wrong... Error Code: {}\".format(res.status_code))\n",
    "    time.sleep(.5)"
   ]
  },
  {
   "cell_type": "code",
   "execution_count": 203,
   "metadata": {},
   "outputs": [],
   "source": [
    "rb_stats = pd.DataFrame(runningbacks)"
   ]
  },
  {
   "cell_type": "code",
   "execution_count": 204,
   "metadata": {},
   "outputs": [
    {
     "data": {
      "text/plain": [
       "(4289, 15)"
      ]
     },
     "execution_count": 204,
     "metadata": {},
     "output_type": "execute_result"
    }
   ],
   "source": [
    "rb_stats.shape"
   ]
  },
  {
   "cell_type": "code",
   "execution_count": 235,
   "metadata": {},
   "outputs": [],
   "source": [
    "# rb_stats.to_csv('../data/rb_stats.csv', index = False)"
   ]
  },
  {
   "cell_type": "code",
   "execution_count": 236,
   "metadata": {},
   "outputs": [],
   "source": [
    "rb_stats = pd.read_csv('../data/rb_stats.csv')"
   ]
  },
  {
   "cell_type": "code",
   "execution_count": 238,
   "metadata": {},
   "outputs": [],
   "source": [
    "rb_stats.drop('Date', axis = 1, inplace = True)"
   ]
  },
  {
   "cell_type": "code",
   "execution_count": 239,
   "metadata": {},
   "outputs": [],
   "source": [
    "rb_stats = rb_stats.sort_values(['Week', 'Year'])\n",
    "rb_stats.reset_index(inplace = True, drop = True)"
   ]
  },
  {
   "cell_type": "code",
   "execution_count": 240,
   "metadata": {},
   "outputs": [
    {
     "data": {
      "text/html": [
       "<div>\n",
       "<style scoped>\n",
       "    .dataframe tbody tr th:only-of-type {\n",
       "        vertical-align: middle;\n",
       "    }\n",
       "\n",
       "    .dataframe tbody tr th {\n",
       "        vertical-align: top;\n",
       "    }\n",
       "\n",
       "    .dataframe thead th {\n",
       "        text-align: right;\n",
       "    }\n",
       "</style>\n",
       "<table border=\"1\" class=\"dataframe\">\n",
       "  <thead>\n",
       "    <tr style=\"text-align: right;\">\n",
       "      <th></th>\n",
       "      <th>Age</th>\n",
       "      <th>Carries</th>\n",
       "      <th>Month</th>\n",
       "      <th>Name</th>\n",
       "      <th>Oppt</th>\n",
       "      <th>Rec_TDs</th>\n",
       "      <th>Rec_Yds</th>\n",
       "      <th>Receptions</th>\n",
       "      <th>Rush_TDs</th>\n",
       "      <th>Rush_Yds</th>\n",
       "      <th>Targets</th>\n",
       "      <th>Team</th>\n",
       "      <th>Week</th>\n",
       "      <th>Year</th>\n",
       "    </tr>\n",
       "  </thead>\n",
       "  <tbody>\n",
       "    <tr>\n",
       "      <th>0</th>\n",
       "      <td>24.287</td>\n",
       "      <td>9.666667</td>\n",
       "      <td>September</td>\n",
       "      <td>Blount, LeGarrette</td>\n",
       "      <td>MIN</td>\n",
       "      <td>0.0</td>\n",
       "      <td>2.000000</td>\n",
       "      <td>0.333333</td>\n",
       "      <td>0.333333</td>\n",
       "      <td>35.333333</td>\n",
       "      <td>0.666667</td>\n",
       "      <td>TB</td>\n",
       "      <td>2</td>\n",
       "      <td>2011</td>\n",
       "    </tr>\n",
       "    <tr>\n",
       "      <th>1</th>\n",
       "      <td>24.265</td>\n",
       "      <td>10.000000</td>\n",
       "      <td>September</td>\n",
       "      <td>Charles, Jamaal</td>\n",
       "      <td>DET</td>\n",
       "      <td>1.0</td>\n",
       "      <td>9.000000</td>\n",
       "      <td>5.000000</td>\n",
       "      <td>0.000000</td>\n",
       "      <td>56.000000</td>\n",
       "      <td>6.000000</td>\n",
       "      <td>KC</td>\n",
       "      <td>2</td>\n",
       "      <td>2011</td>\n",
       "    </tr>\n",
       "    <tr>\n",
       "      <th>2</th>\n",
       "      <td>28.127</td>\n",
       "      <td>17.000000</td>\n",
       "      <td>September</td>\n",
       "      <td>Gore, Frank</td>\n",
       "      <td>DAL</td>\n",
       "      <td>0.0</td>\n",
       "      <td>4.333333</td>\n",
       "      <td>0.333333</td>\n",
       "      <td>1.000000</td>\n",
       "      <td>73.333333</td>\n",
       "      <td>1.666667</td>\n",
       "      <td>SF</td>\n",
       "      <td>2</td>\n",
       "      <td>2011</td>\n",
       "    </tr>\n",
       "    <tr>\n",
       "      <th>3</th>\n",
       "      <td>21.271</td>\n",
       "      <td>12.333333</td>\n",
       "      <td>September</td>\n",
       "      <td>Ingram, Mark</td>\n",
       "      <td>CHI</td>\n",
       "      <td>0.0</td>\n",
       "      <td>5.666667</td>\n",
       "      <td>1.000000</td>\n",
       "      <td>0.666667</td>\n",
       "      <td>48.333333</td>\n",
       "      <td>1.666667</td>\n",
       "      <td>NO</td>\n",
       "      <td>2</td>\n",
       "      <td>2011</td>\n",
       "    </tr>\n",
       "    <tr>\n",
       "      <th>4</th>\n",
       "      <td>23.054</td>\n",
       "      <td>4.500000</td>\n",
       "      <td>September</td>\n",
       "      <td>Jones, Taiwan</td>\n",
       "      <td>BUF</td>\n",
       "      <td>0.0</td>\n",
       "      <td>0.000000</td>\n",
       "      <td>0.000000</td>\n",
       "      <td>0.000000</td>\n",
       "      <td>21.000000</td>\n",
       "      <td>0.000000</td>\n",
       "      <td>OAK</td>\n",
       "      <td>2</td>\n",
       "      <td>2011</td>\n",
       "    </tr>\n",
       "  </tbody>\n",
       "</table>\n",
       "</div>"
      ],
      "text/plain": [
       "      Age    Carries      Month                Name Oppt  Rec_TDs   Rec_Yds  \\\n",
       "0  24.287   9.666667  September  Blount, LeGarrette  MIN      0.0  2.000000   \n",
       "1  24.265  10.000000  September     Charles, Jamaal  DET      1.0  9.000000   \n",
       "2  28.127  17.000000  September         Gore, Frank  DAL      0.0  4.333333   \n",
       "3  21.271  12.333333  September        Ingram, Mark  CHI      0.0  5.666667   \n",
       "4  23.054   4.500000  September       Jones, Taiwan  BUF      0.0  0.000000   \n",
       "\n",
       "   Receptions  Rush_TDs   Rush_Yds   Targets Team  Week  Year  \n",
       "0    0.333333  0.333333  35.333333  0.666667   TB     2  2011  \n",
       "1    5.000000  0.000000  56.000000  6.000000   KC     2  2011  \n",
       "2    0.333333  1.000000  73.333333  1.666667   SF     2  2011  \n",
       "3    1.000000  0.666667  48.333333  1.666667   NO     2  2011  \n",
       "4    0.000000  0.000000  21.000000  0.000000  OAK     2  2011  "
      ]
     },
     "execution_count": 240,
     "metadata": {},
     "output_type": "execute_result"
    }
   ],
   "source": [
    "rb_stats.head()"
   ]
  },
  {
   "cell_type": "code",
   "execution_count": 210,
   "metadata": {},
   "outputs": [
    {
     "data": {
      "text/plain": [
       "December     1175\n",
       "October      1095\n",
       "November     1021\n",
       "September     882\n",
       "January       116\n",
       "Name: Month, dtype: int64"
      ]
     },
     "execution_count": 210,
     "metadata": {},
     "output_type": "execute_result"
    }
   ],
   "source": [
    "rb_stats['Month'].value_counts()"
   ]
  },
  {
   "cell_type": "code",
   "execution_count": 208,
   "metadata": {},
   "outputs": [],
   "source": [
    "rb_stats['Team'] = rb_stats['Team'].map(teams)\n",
    "rb_stats['Oppt'] = rb_stats['Oppt'].map(teams)"
   ]
  },
  {
   "cell_type": "code",
   "execution_count": 209,
   "metadata": {},
   "outputs": [],
   "source": [
    "rb_stats['Month'] = rb_stats['Month'].map({'09': 'September', '10': 'October', '11': 'November', \n",
    "                                           '12': 'December', '01': 'January'})"
   ]
  },
  {
   "cell_type": "code",
   "execution_count": 211,
   "metadata": {},
   "outputs": [],
   "source": [
    "features = ['Carries', 'Rec_TDs', 'Rec_Yds', 'Receptions', 'Rush_TDs', 'Rush_Yds', 'Targets']"
   ]
  },
  {
   "cell_type": "code",
   "execution_count": 212,
   "metadata": {},
   "outputs": [],
   "source": [
    "rolling_rb_stats = rb_stats.groupby(['Name', 'Year'])[features].rolling(window = 3, min_periods = 0).mean()"
   ]
  },
  {
   "cell_type": "code",
   "execution_count": 214,
   "metadata": {},
   "outputs": [],
   "source": [
    "shifted_rb_stats = rolling_rb_stats.groupby(level = [0,1]).shift()"
   ]
  },
  {
   "cell_type": "code",
   "execution_count": 217,
   "metadata": {},
   "outputs": [
    {
     "data": {
      "text/html": [
       "<div>\n",
       "<style scoped>\n",
       "    .dataframe tbody tr th:only-of-type {\n",
       "        vertical-align: middle;\n",
       "    }\n",
       "\n",
       "    .dataframe tbody tr th {\n",
       "        vertical-align: top;\n",
       "    }\n",
       "\n",
       "    .dataframe thead th {\n",
       "        text-align: right;\n",
       "    }\n",
       "</style>\n",
       "<table border=\"1\" class=\"dataframe\">\n",
       "  <thead>\n",
       "    <tr style=\"text-align: right;\">\n",
       "      <th></th>\n",
       "      <th></th>\n",
       "      <th></th>\n",
       "      <th>Carries</th>\n",
       "      <th>Rec_TDs</th>\n",
       "      <th>Rec_Yds</th>\n",
       "      <th>Receptions</th>\n",
       "      <th>Rush_TDs</th>\n",
       "      <th>Rush_Yds</th>\n",
       "      <th>Targets</th>\n",
       "    </tr>\n",
       "    <tr>\n",
       "      <th>Name</th>\n",
       "      <th>Year</th>\n",
       "      <th></th>\n",
       "      <th></th>\n",
       "      <th></th>\n",
       "      <th></th>\n",
       "      <th></th>\n",
       "      <th></th>\n",
       "      <th></th>\n",
       "      <th></th>\n",
       "    </tr>\n",
       "  </thead>\n",
       "  <tbody>\n",
       "    <tr>\n",
       "      <th rowspan=\"5\" valign=\"top\">Abdullah, Ameer</th>\n",
       "      <th rowspan=\"5\" valign=\"top\">2015</th>\n",
       "      <th>84</th>\n",
       "      <td>NaN</td>\n",
       "      <td>NaN</td>\n",
       "      <td>NaN</td>\n",
       "      <td>NaN</td>\n",
       "      <td>NaN</td>\n",
       "      <td>NaN</td>\n",
       "      <td>NaN</td>\n",
       "    </tr>\n",
       "    <tr>\n",
       "      <th>343</th>\n",
       "      <td>7.0</td>\n",
       "      <td>0.0</td>\n",
       "      <td>44.000000</td>\n",
       "      <td>4.0</td>\n",
       "      <td>1.000000</td>\n",
       "      <td>50.000000</td>\n",
       "      <td>4.000000</td>\n",
       "    </tr>\n",
       "    <tr>\n",
       "      <th>586</th>\n",
       "      <td>6.0</td>\n",
       "      <td>0.0</td>\n",
       "      <td>25.500000</td>\n",
       "      <td>2.5</td>\n",
       "      <td>0.500000</td>\n",
       "      <td>32.500000</td>\n",
       "      <td>2.500000</td>\n",
       "    </tr>\n",
       "    <tr>\n",
       "      <th>862</th>\n",
       "      <td>8.0</td>\n",
       "      <td>0.0</td>\n",
       "      <td>17.666667</td>\n",
       "      <td>2.0</td>\n",
       "      <td>0.333333</td>\n",
       "      <td>36.333333</td>\n",
       "      <td>2.333333</td>\n",
       "    </tr>\n",
       "    <tr>\n",
       "      <th>1132</th>\n",
       "      <td>11.0</td>\n",
       "      <td>0.0</td>\n",
       "      <td>7.000000</td>\n",
       "      <td>1.0</td>\n",
       "      <td>0.000000</td>\n",
       "      <td>40.666667</td>\n",
       "      <td>1.666667</td>\n",
       "    </tr>\n",
       "  </tbody>\n",
       "</table>\n",
       "</div>"
      ],
      "text/plain": [
       "                           Carries  Rec_TDs    Rec_Yds  Receptions  Rush_TDs  \\\n",
       "Name            Year                                                           \n",
       "Abdullah, Ameer 2015 84        NaN      NaN        NaN         NaN       NaN   \n",
       "                     343       7.0      0.0  44.000000         4.0  1.000000   \n",
       "                     586       6.0      0.0  25.500000         2.5  0.500000   \n",
       "                     862       8.0      0.0  17.666667         2.0  0.333333   \n",
       "                     1132     11.0      0.0   7.000000         1.0  0.000000   \n",
       "\n",
       "                            Rush_Yds   Targets  \n",
       "Name            Year                            \n",
       "Abdullah, Ameer 2015 84          NaN       NaN  \n",
       "                     343   50.000000  4.000000  \n",
       "                     586   32.500000  2.500000  \n",
       "                     862   36.333333  2.333333  \n",
       "                     1132  40.666667  1.666667  "
      ]
     },
     "execution_count": 217,
     "metadata": {},
     "output_type": "execute_result"
    }
   ],
   "source": [
    "shifted_rb_stats.head()"
   ]
  },
  {
   "cell_type": "code",
   "execution_count": 218,
   "metadata": {},
   "outputs": [],
   "source": [
    "for index, row in rb_stats.iterrows():\n",
    "    rolling_index = (row['Name'], row['Year'], index)\n",
    "    rb_stats.loc[index, features] = shifted_rb_stats.loc[rolling_index, features]"
   ]
  },
  {
   "cell_type": "code",
   "execution_count": 224,
   "metadata": {},
   "outputs": [
    {
     "data": {
      "text/html": [
       "<div>\n",
       "<style scoped>\n",
       "    .dataframe tbody tr th:only-of-type {\n",
       "        vertical-align: middle;\n",
       "    }\n",
       "\n",
       "    .dataframe tbody tr th {\n",
       "        vertical-align: top;\n",
       "    }\n",
       "\n",
       "    .dataframe thead th {\n",
       "        text-align: right;\n",
       "    }\n",
       "</style>\n",
       "<table border=\"1\" class=\"dataframe\">\n",
       "  <thead>\n",
       "    <tr style=\"text-align: right;\">\n",
       "      <th></th>\n",
       "      <th>Age</th>\n",
       "      <th>Carries</th>\n",
       "      <th>Date</th>\n",
       "      <th>Month</th>\n",
       "      <th>Name</th>\n",
       "      <th>Oppt</th>\n",
       "      <th>Rec_TDs</th>\n",
       "      <th>Rec_Yds</th>\n",
       "      <th>Receptions</th>\n",
       "      <th>Rush_TDs</th>\n",
       "      <th>Rush_Yds</th>\n",
       "      <th>Targets</th>\n",
       "      <th>Team</th>\n",
       "      <th>Week</th>\n",
       "      <th>Year</th>\n",
       "    </tr>\n",
       "  </thead>\n",
       "  <tbody>\n",
       "    <tr>\n",
       "      <th>0</th>\n",
       "      <td>24.280</td>\n",
       "      <td>NaN</td>\n",
       "      <td>2011-09-11</td>\n",
       "      <td>September</td>\n",
       "      <td>Blount, LeGarrette</td>\n",
       "      <td>DET</td>\n",
       "      <td>NaN</td>\n",
       "      <td>NaN</td>\n",
       "      <td>NaN</td>\n",
       "      <td>NaN</td>\n",
       "      <td>NaN</td>\n",
       "      <td>NaN</td>\n",
       "      <td>TB</td>\n",
       "      <td>1</td>\n",
       "      <td>2011</td>\n",
       "    </tr>\n",
       "    <tr>\n",
       "      <th>1</th>\n",
       "      <td>24.258</td>\n",
       "      <td>NaN</td>\n",
       "      <td>2011-09-11</td>\n",
       "      <td>September</td>\n",
       "      <td>Charles, Jamaal</td>\n",
       "      <td>BUF</td>\n",
       "      <td>NaN</td>\n",
       "      <td>NaN</td>\n",
       "      <td>NaN</td>\n",
       "      <td>NaN</td>\n",
       "      <td>NaN</td>\n",
       "      <td>NaN</td>\n",
       "      <td>KC</td>\n",
       "      <td>1</td>\n",
       "      <td>2011</td>\n",
       "    </tr>\n",
       "    <tr>\n",
       "      <th>2</th>\n",
       "      <td>28.120</td>\n",
       "      <td>NaN</td>\n",
       "      <td>2011-09-11</td>\n",
       "      <td>September</td>\n",
       "      <td>Gore, Frank</td>\n",
       "      <td>SEA</td>\n",
       "      <td>NaN</td>\n",
       "      <td>NaN</td>\n",
       "      <td>NaN</td>\n",
       "      <td>NaN</td>\n",
       "      <td>NaN</td>\n",
       "      <td>NaN</td>\n",
       "      <td>SF</td>\n",
       "      <td>1</td>\n",
       "      <td>2011</td>\n",
       "    </tr>\n",
       "    <tr>\n",
       "      <th>3</th>\n",
       "      <td>20.349</td>\n",
       "      <td>NaN</td>\n",
       "      <td>2011-09-11</td>\n",
       "      <td>September</td>\n",
       "      <td>Lewis, Dion</td>\n",
       "      <td>LAR</td>\n",
       "      <td>NaN</td>\n",
       "      <td>NaN</td>\n",
       "      <td>NaN</td>\n",
       "      <td>NaN</td>\n",
       "      <td>NaN</td>\n",
       "      <td>NaN</td>\n",
       "      <td>PHI</td>\n",
       "      <td>1</td>\n",
       "      <td>2011</td>\n",
       "    </tr>\n",
       "    <tr>\n",
       "      <th>4</th>\n",
       "      <td>25.142</td>\n",
       "      <td>NaN</td>\n",
       "      <td>2011-09-11</td>\n",
       "      <td>September</td>\n",
       "      <td>Lynch, Marshawn</td>\n",
       "      <td>SF</td>\n",
       "      <td>NaN</td>\n",
       "      <td>NaN</td>\n",
       "      <td>NaN</td>\n",
       "      <td>NaN</td>\n",
       "      <td>NaN</td>\n",
       "      <td>NaN</td>\n",
       "      <td>SEA</td>\n",
       "      <td>1</td>\n",
       "      <td>2011</td>\n",
       "    </tr>\n",
       "  </tbody>\n",
       "</table>\n",
       "</div>"
      ],
      "text/plain": [
       "      Age Carries        Date      Month                Name Oppt Rec_TDs  \\\n",
       "0  24.280     NaN  2011-09-11  September  Blount, LeGarrette  DET     NaN   \n",
       "1  24.258     NaN  2011-09-11  September     Charles, Jamaal  BUF     NaN   \n",
       "2  28.120     NaN  2011-09-11  September         Gore, Frank  SEA     NaN   \n",
       "3  20.349     NaN  2011-09-11  September         Lewis, Dion  LAR     NaN   \n",
       "4  25.142     NaN  2011-09-11  September     Lynch, Marshawn   SF     NaN   \n",
       "\n",
       "  Rec_Yds Receptions Rush_TDs Rush_Yds Targets Team Week  Year  \n",
       "0     NaN        NaN      NaN      NaN     NaN   TB    1  2011  \n",
       "1     NaN        NaN      NaN      NaN     NaN   KC    1  2011  \n",
       "2     NaN        NaN      NaN      NaN     NaN   SF    1  2011  \n",
       "3     NaN        NaN      NaN      NaN     NaN  PHI    1  2011  \n",
       "4     NaN        NaN      NaN      NaN     NaN  SEA    1  2011  "
      ]
     },
     "execution_count": 224,
     "metadata": {},
     "output_type": "execute_result"
    }
   ],
   "source": [
    "rb_stats.head()"
   ]
  },
  {
   "cell_type": "code",
   "execution_count": 225,
   "metadata": {},
   "outputs": [],
   "source": [
    "rb_stats.dropna(inplace = True)"
   ]
  },
  {
   "cell_type": "code",
   "execution_count": 226,
   "metadata": {},
   "outputs": [
    {
     "data": {
      "text/plain": [
       "December     1131\n",
       "October      1087\n",
       "November      904\n",
       "September     605\n",
       "January        99\n",
       "Name: Month, dtype: int64"
      ]
     },
     "execution_count": 226,
     "metadata": {},
     "output_type": "execute_result"
    }
   ],
   "source": [
    "rb_stats['Month'].value_counts()"
   ]
  },
  {
   "cell_type": "raw",
   "metadata": {},
   "source": []
  },
  {
   "cell_type": "markdown",
   "metadata": {},
   "source": [
    "### Wide Receivers"
   ]
  },
  {
   "cell_type": "code",
   "execution_count": 243,
   "metadata": {},
   "outputs": [],
   "source": [
    "receivers = []\n",
    "\n",
    "for i in range(77):\n",
    "    url = 'https://www.pro-football-reference.com/play-index/pgl_finder.cgi?request=1&match=game&year_min=2011&year_max=2017&season_start=1&season_end=-1&pos=WR&game_type=R&career_game_num_min=1&career_game_num_max=400&game_num_min=0&game_num_max=99&week_num_min=1&week_num_max=17&is_active=Y&c2stat=targets&c2comp=gt&c2val=1&c5val=1.0&order_by=game_date&offset={}'.format(i * 100)\n",
    "    res = requests.get(url)\n",
    "    soup = BeautifulSoup(res.content, 'lxml')\n",
    "    \n",
    "    if res.status_code == 200:    \n",
    "        for row in soup.find_all('tr')[2:]:\n",
    "            if row.find('td', attrs = {'data-stat': 'targets'}) == None:\n",
    "                continue\n",
    "            else:\n",
    "                player_dict = {}\n",
    "                player_dict['Name'] = row.find('a').text.split()[1] + ', ' + row.find('a').text.split()[0]\n",
    "                player_dict['Age'] = row.find('td', attrs = {'data-stat': 'age'}).text\n",
    "                player_dict['Team'] = row.find('td', attrs = {'data-stat': 'team'}).text\n",
    "                player_dict['Oppt'] = row.find('td', attrs = {'data-stat': 'opp'}).text\n",
    "                player_dict['Week'] = row.find('td', attrs = {'data-stat': 'week_num'}).text\n",
    "                player_dict['Year'] = row.find('td', attrs = {'data-stat': \"game_date\"}).text[:4]\n",
    "                player_dict['Month'] = row.find('td', attrs = {'data-stat': \"game_date\"}).text[5:7]\n",
    "                player_dict['Targets'] = row.find('td', attrs = {'data-stat': 'targets'}).text\n",
    "                player_dict['Receptions'] = row.find('td', attrs = {'data-stat': 'rec'}).text\n",
    "                player_dict['Rec_Yds'] = row.find('td', attrs = {'data-stat': 'rec_yds'}).text\n",
    "                player_dict['Rec_TDs'] = row.find('td', attrs = {'data-stat': 'rec_td'}).text\n",
    "                receivers.append(player_dict)\n",
    "    else:\n",
    "        print(\"Oops something went wrong... Error Code: {}\".format(res.status_code))\n",
    "    time.sleep(.5)"
   ]
  },
  {
   "cell_type": "code",
   "execution_count": 248,
   "metadata": {},
   "outputs": [],
   "source": [
    "wr_stats = pd.DataFrame(receivers)"
   ]
  },
  {
   "cell_type": "code",
   "execution_count": 251,
   "metadata": {},
   "outputs": [],
   "source": [
    "wr_stats = wr_stats.sort_values(['Week', 'Year'])\n",
    "wr_stats.reset_index(drop = True, inplace = True)"
   ]
  },
  {
   "cell_type": "code",
   "execution_count": 254,
   "metadata": {},
   "outputs": [
    {
     "data": {
      "text/html": [
       "<div>\n",
       "<style scoped>\n",
       "    .dataframe tbody tr th:only-of-type {\n",
       "        vertical-align: middle;\n",
       "    }\n",
       "\n",
       "    .dataframe tbody tr th {\n",
       "        vertical-align: top;\n",
       "    }\n",
       "\n",
       "    .dataframe thead th {\n",
       "        text-align: right;\n",
       "    }\n",
       "</style>\n",
       "<table border=\"1\" class=\"dataframe\">\n",
       "  <thead>\n",
       "    <tr style=\"text-align: right;\">\n",
       "      <th></th>\n",
       "      <th>Age</th>\n",
       "      <th>Month</th>\n",
       "      <th>Name</th>\n",
       "      <th>Oppt</th>\n",
       "      <th>Rec_TDs</th>\n",
       "      <th>Rec_Yds</th>\n",
       "      <th>Receptions</th>\n",
       "      <th>Targets</th>\n",
       "      <th>Team</th>\n",
       "      <th>Week</th>\n",
       "      <th>Year</th>\n",
       "    </tr>\n",
       "  </thead>\n",
       "  <tbody>\n",
       "    <tr>\n",
       "      <th>0</th>\n",
       "      <td>24.181</td>\n",
       "      <td>09</td>\n",
       "      <td>Decker, Eric</td>\n",
       "      <td>OAK</td>\n",
       "      <td>0</td>\n",
       "      <td>53</td>\n",
       "      <td>3</td>\n",
       "      <td>6</td>\n",
       "      <td>DEN</td>\n",
       "      <td>1</td>\n",
       "      <td>2011</td>\n",
       "    </tr>\n",
       "    <tr>\n",
       "      <th>1</th>\n",
       "      <td>25.113</td>\n",
       "      <td>09</td>\n",
       "      <td>Edelman, Julian</td>\n",
       "      <td>MIA</td>\n",
       "      <td>0</td>\n",
       "      <td>9</td>\n",
       "      <td>1</td>\n",
       "      <td>2</td>\n",
       "      <td>NE</td>\n",
       "      <td>1</td>\n",
       "      <td>2011</td>\n",
       "    </tr>\n",
       "    <tr>\n",
       "      <th>2</th>\n",
       "      <td>24.198</td>\n",
       "      <td>09</td>\n",
       "      <td>Heyward-Bey, Darrius</td>\n",
       "      <td>DEN</td>\n",
       "      <td>0</td>\n",
       "      <td>44</td>\n",
       "      <td>4</td>\n",
       "      <td>7</td>\n",
       "      <td>OAK</td>\n",
       "      <td>1</td>\n",
       "      <td>2011</td>\n",
       "    </tr>\n",
       "    <tr>\n",
       "      <th>3</th>\n",
       "      <td>27.173</td>\n",
       "      <td>09</td>\n",
       "      <td>Marshall, Brandon</td>\n",
       "      <td>NE</td>\n",
       "      <td>0</td>\n",
       "      <td>139</td>\n",
       "      <td>7</td>\n",
       "      <td>13</td>\n",
       "      <td>MIA</td>\n",
       "      <td>1</td>\n",
       "      <td>2011</td>\n",
       "    </tr>\n",
       "    <tr>\n",
       "      <th>4</th>\n",
       "      <td>26.003</td>\n",
       "      <td>09</td>\n",
       "      <td>Slater, Matt</td>\n",
       "      <td>MIA</td>\n",
       "      <td>0</td>\n",
       "      <td>46</td>\n",
       "      <td>1</td>\n",
       "      <td>2</td>\n",
       "      <td>NE</td>\n",
       "      <td>1</td>\n",
       "      <td>2011</td>\n",
       "    </tr>\n",
       "  </tbody>\n",
       "</table>\n",
       "</div>"
      ],
      "text/plain": [
       "      Age Month                  Name Oppt Rec_TDs Rec_Yds Receptions Targets  \\\n",
       "0  24.181    09          Decker, Eric  OAK       0      53          3       6   \n",
       "1  25.113    09       Edelman, Julian  MIA       0       9          1       2   \n",
       "2  24.198    09  Heyward-Bey, Darrius  DEN       0      44          4       7   \n",
       "3  27.173    09     Marshall, Brandon   NE       0     139          7      13   \n",
       "4  26.003    09          Slater, Matt  MIA       0      46          1       2   \n",
       "\n",
       "  Team Week  Year  \n",
       "0  DEN    1  2011  \n",
       "1   NE    1  2011  \n",
       "2  OAK    1  2011  \n",
       "3  MIA    1  2011  \n",
       "4   NE    1  2011  "
      ]
     },
     "execution_count": 254,
     "metadata": {},
     "output_type": "execute_result"
    }
   ],
   "source": [
    "wr_stats.head()"
   ]
  },
  {
   "cell_type": "code",
   "execution_count": 253,
   "metadata": {},
   "outputs": [],
   "source": [
    "wr_stats['Team'] = wr_stats['Team'].map(teams)\n",
    "wr_stats['Oppt'] = wr_stats['Oppt'].map(teams)"
   ]
  },
  {
   "cell_type": "code",
   "execution_count": 261,
   "metadata": {},
   "outputs": [],
   "source": [
    "# wr_stats.to_csv('../data/wr_stats.csv', index = False)\n",
    "wr_stats = pd.read_csv('../data/wr_stats.csv')"
   ]
  },
  {
   "cell_type": "code",
   "execution_count": 263,
   "metadata": {},
   "outputs": [],
   "source": [
    "features = ['Rec_TDs', 'Rec_Yds', 'Receptions', 'Targets']"
   ]
  },
  {
   "cell_type": "code",
   "execution_count": 264,
   "metadata": {},
   "outputs": [],
   "source": [
    "rolling_wr_stats = wr_stats.groupby(['Name', 'Year'])[features].rolling(window = 3, min_periods = 0).mean()"
   ]
  },
  {
   "cell_type": "code",
   "execution_count": 265,
   "metadata": {},
   "outputs": [],
   "source": [
    "shifted_wr_stats = rolling_wr_stats.groupby(level = [0,1]).shift()"
   ]
  },
  {
   "cell_type": "code",
   "execution_count": 268,
   "metadata": {},
   "outputs": [
    {
     "data": {
      "text/html": [
       "<div>\n",
       "<style scoped>\n",
       "    .dataframe tbody tr th:only-of-type {\n",
       "        vertical-align: middle;\n",
       "    }\n",
       "\n",
       "    .dataframe tbody tr th {\n",
       "        vertical-align: top;\n",
       "    }\n",
       "\n",
       "    .dataframe thead th {\n",
       "        text-align: right;\n",
       "    }\n",
       "</style>\n",
       "<table border=\"1\" class=\"dataframe\">\n",
       "  <thead>\n",
       "    <tr style=\"text-align: right;\">\n",
       "      <th></th>\n",
       "      <th></th>\n",
       "      <th></th>\n",
       "      <th>Rec_TDs</th>\n",
       "      <th>Rec_Yds</th>\n",
       "      <th>Receptions</th>\n",
       "      <th>Targets</th>\n",
       "    </tr>\n",
       "    <tr>\n",
       "      <th>Name</th>\n",
       "      <th>Year</th>\n",
       "      <th></th>\n",
       "      <th></th>\n",
       "      <th></th>\n",
       "      <th></th>\n",
       "      <th></th>\n",
       "    </tr>\n",
       "  </thead>\n",
       "  <tbody>\n",
       "    <tr>\n",
       "      <th rowspan=\"5\" valign=\"top\">Adams, Davante</th>\n",
       "      <th rowspan=\"5\" valign=\"top\">2014</th>\n",
       "      <th>546</th>\n",
       "      <td>NaN</td>\n",
       "      <td>NaN</td>\n",
       "      <td>NaN</td>\n",
       "      <td>NaN</td>\n",
       "    </tr>\n",
       "    <tr>\n",
       "      <th>974</th>\n",
       "      <td>0.000000</td>\n",
       "      <td>10.0</td>\n",
       "      <td>1.000000</td>\n",
       "      <td>2.000000</td>\n",
       "    </tr>\n",
       "    <tr>\n",
       "      <th>1401</th>\n",
       "      <td>0.500000</td>\n",
       "      <td>11.5</td>\n",
       "      <td>1.500000</td>\n",
       "      <td>2.000000</td>\n",
       "    </tr>\n",
       "    <tr>\n",
       "      <th>1871</th>\n",
       "      <td>0.333333</td>\n",
       "      <td>11.0</td>\n",
       "      <td>1.333333</td>\n",
       "      <td>2.666667</td>\n",
       "    </tr>\n",
       "    <tr>\n",
       "      <th>2814</th>\n",
       "      <td>0.333333</td>\n",
       "      <td>48.0</td>\n",
       "      <td>3.000000</td>\n",
       "      <td>5.666667</td>\n",
       "    </tr>\n",
       "  </tbody>\n",
       "</table>\n",
       "</div>"
      ],
      "text/plain": [
       "                           Rec_TDs  Rec_Yds  Receptions   Targets\n",
       "Name           Year                                              \n",
       "Adams, Davante 2014 546        NaN      NaN         NaN       NaN\n",
       "                    974   0.000000     10.0    1.000000  2.000000\n",
       "                    1401  0.500000     11.5    1.500000  2.000000\n",
       "                    1871  0.333333     11.0    1.333333  2.666667\n",
       "                    2814  0.333333     48.0    3.000000  5.666667"
      ]
     },
     "execution_count": 268,
     "metadata": {},
     "output_type": "execute_result"
    }
   ],
   "source": [
    "shifted_wr_stats.head()"
   ]
  },
  {
   "cell_type": "code",
   "execution_count": 269,
   "metadata": {},
   "outputs": [],
   "source": [
    "for index, row in wr_stats.iterrows():\n",
    "    rolling_index = (row['Name'], row['Year'], index)\n",
    "    wr_stats.loc[index, features] = shifted_wr_stats.loc[rolling_index, features]"
   ]
  },
  {
   "cell_type": "code",
   "execution_count": 276,
   "metadata": {},
   "outputs": [],
   "source": [
    "wr_stats.dropna(inplace = True)"
   ]
  },
  {
   "cell_type": "code",
   "execution_count": 280,
   "metadata": {},
   "outputs": [],
   "source": [
    "wr_stats = wr_stats.sort_values(['Week', 'Year'])\n",
    "wr_stats.reset_index(drop = True, inplace = True)"
   ]
  },
  {
   "cell_type": "code",
   "execution_count": 282,
   "metadata": {},
   "outputs": [],
   "source": [
    "# wr_stats.to_csv('../data/wr_stats.csv', index = False)"
   ]
  },
  {
   "cell_type": "markdown",
   "metadata": {},
   "source": [
    "### Tight Ends"
   ]
  },
  {
   "cell_type": "code",
   "execution_count": 283,
   "metadata": {},
   "outputs": [],
   "source": [
    "tight_ends = []\n",
    "\n",
    "for i in range(36):\n",
    "    url = 'https://www.pro-football-reference.com/play-index/pgl_finder.cgi?request=1&match=game&year_min=2011&year_max=2017&season_start=1&season_end=-1&pos=TE&game_type=R&career_game_num_min=1&career_game_num_max=400&game_num_min=0&game_num_max=99&week_num_min=1&week_num_max=17&is_active=Y&c2stat=targets&c2comp=gt&c2val=1&c5val=1.0&order_by=game_date&offset={}'.format(i * 100)\n",
    "    res = requests.get(url)\n",
    "    soup = BeautifulSoup(res.content, 'lxml')\n",
    "    \n",
    "    if res.status_code == 200:    \n",
    "        for row in soup.find_all('tr')[2:]:\n",
    "            if row.find('td', attrs = {'data-stat': 'targets'}) == None:\n",
    "                continue\n",
    "            else:\n",
    "                player_dict = {}\n",
    "                player_dict['Name'] = row.find('a').text.split()[1] + ', ' + row.find('a').text.split()[0]\n",
    "                player_dict['Age'] = row.find('td', attrs = {'data-stat': 'age'}).text\n",
    "                player_dict['Team'] = row.find('td', attrs = {'data-stat': 'team'}).text\n",
    "                player_dict['Oppt'] = row.find('td', attrs = {'data-stat': 'opp'}).text\n",
    "                player_dict['Week'] = row.find('td', attrs = {'data-stat': 'week_num'}).text\n",
    "                player_dict['Year'] = row.find('td', attrs = {'data-stat': \"game_date\"}).text[:4]\n",
    "                player_dict['Month'] = row.find('td', attrs = {'data-stat': \"game_date\"}).text[5:7]\n",
    "                player_dict['Targets'] = row.find('td', attrs = {'data-stat': 'targets'}).text\n",
    "                player_dict['Receptions'] = row.find('td', attrs = {'data-stat': 'rec'}).text\n",
    "                player_dict['Rec_Yds'] = row.find('td', attrs = {'data-stat': 'rec_yds'}).text\n",
    "                player_dict['Rec_TDs'] = row.find('td', attrs = {'data-stat': 'rec_td'}).text\n",
    "                tight_ends.append(player_dict)\n",
    "    else:\n",
    "        print(\"Oops something went wrong... Error Code: {}\".format(res.status_code))\n",
    "    time.sleep(.5)"
   ]
  },
  {
   "cell_type": "code",
   "execution_count": 317,
   "metadata": {},
   "outputs": [],
   "source": [
    "te_stats = pd.DataFrame(tight_ends)"
   ]
  },
  {
   "cell_type": "code",
   "execution_count": 318,
   "metadata": {},
   "outputs": [],
   "source": [
    "te_stats = te_stats.sort_values(['Week', 'Year'])\n",
    "te_stats.reset_index(drop = True, inplace = True)"
   ]
  },
  {
   "cell_type": "code",
   "execution_count": 319,
   "metadata": {},
   "outputs": [
    {
     "data": {
      "text/html": [
       "<div>\n",
       "<style scoped>\n",
       "    .dataframe tbody tr th:only-of-type {\n",
       "        vertical-align: middle;\n",
       "    }\n",
       "\n",
       "    .dataframe tbody tr th {\n",
       "        vertical-align: top;\n",
       "    }\n",
       "\n",
       "    .dataframe thead th {\n",
       "        text-align: right;\n",
       "    }\n",
       "</style>\n",
       "<table border=\"1\" class=\"dataframe\">\n",
       "  <thead>\n",
       "    <tr style=\"text-align: right;\">\n",
       "      <th></th>\n",
       "      <th>Age</th>\n",
       "      <th>Month</th>\n",
       "      <th>Name</th>\n",
       "      <th>Oppt</th>\n",
       "      <th>Rec_TDs</th>\n",
       "      <th>Rec_Yds</th>\n",
       "      <th>Receptions</th>\n",
       "      <th>Targets</th>\n",
       "      <th>Team</th>\n",
       "      <th>Week</th>\n",
       "      <th>Year</th>\n",
       "    </tr>\n",
       "  </thead>\n",
       "  <tbody>\n",
       "    <tr>\n",
       "      <th>0</th>\n",
       "      <td>22.121</td>\n",
       "      <td>09</td>\n",
       "      <td>Gronkowski, Rob</td>\n",
       "      <td>MIA</td>\n",
       "      <td>1</td>\n",
       "      <td>86</td>\n",
       "      <td>6</td>\n",
       "      <td>7</td>\n",
       "      <td>NWE</td>\n",
       "      <td>1</td>\n",
       "      <td>2011</td>\n",
       "    </tr>\n",
       "    <tr>\n",
       "      <th>1</th>\n",
       "      <td>24.157</td>\n",
       "      <td>09</td>\n",
       "      <td>Cook, Jared</td>\n",
       "      <td>JAX</td>\n",
       "      <td>0</td>\n",
       "      <td>7</td>\n",
       "      <td>1</td>\n",
       "      <td>2</td>\n",
       "      <td>TEN</td>\n",
       "      <td>1</td>\n",
       "      <td>2011</td>\n",
       "    </tr>\n",
       "    <tr>\n",
       "      <th>2</th>\n",
       "      <td>27.223</td>\n",
       "      <td>09</td>\n",
       "      <td>Davis, Vernon</td>\n",
       "      <td>SEA</td>\n",
       "      <td>0</td>\n",
       "      <td>47</td>\n",
       "      <td>5</td>\n",
       "      <td>6</td>\n",
       "      <td>SFO</td>\n",
       "      <td>1</td>\n",
       "      <td>2011</td>\n",
       "    </tr>\n",
       "    <tr>\n",
       "      <th>3</th>\n",
       "      <td>24.048</td>\n",
       "      <td>09</td>\n",
       "      <td>Dickson, Ed</td>\n",
       "      <td>PIT</td>\n",
       "      <td>1</td>\n",
       "      <td>59</td>\n",
       "      <td>5</td>\n",
       "      <td>5</td>\n",
       "      <td>BAL</td>\n",
       "      <td>1</td>\n",
       "      <td>2011</td>\n",
       "    </tr>\n",
       "    <tr>\n",
       "      <th>4</th>\n",
       "      <td>31.085</td>\n",
       "      <td>09</td>\n",
       "      <td>Gates, Antonio</td>\n",
       "      <td>MIN</td>\n",
       "      <td>0</td>\n",
       "      <td>74</td>\n",
       "      <td>8</td>\n",
       "      <td>13</td>\n",
       "      <td>SDG</td>\n",
       "      <td>1</td>\n",
       "      <td>2011</td>\n",
       "    </tr>\n",
       "  </tbody>\n",
       "</table>\n",
       "</div>"
      ],
      "text/plain": [
       "      Age Month             Name Oppt Rec_TDs Rec_Yds Receptions Targets Team  \\\n",
       "0  22.121    09  Gronkowski, Rob  MIA       1      86          6       7  NWE   \n",
       "1  24.157    09      Cook, Jared  JAX       0       7          1       2  TEN   \n",
       "2  27.223    09    Davis, Vernon  SEA       0      47          5       6  SFO   \n",
       "3  24.048    09      Dickson, Ed  PIT       1      59          5       5  BAL   \n",
       "4  31.085    09   Gates, Antonio  MIN       0      74          8      13  SDG   \n",
       "\n",
       "  Week  Year  \n",
       "0    1  2011  \n",
       "1    1  2011  \n",
       "2    1  2011  \n",
       "3    1  2011  \n",
       "4    1  2011  "
      ]
     },
     "execution_count": 319,
     "metadata": {},
     "output_type": "execute_result"
    }
   ],
   "source": [
    "te_stats.head()"
   ]
  },
  {
   "cell_type": "code",
   "execution_count": 320,
   "metadata": {},
   "outputs": [],
   "source": [
    "te_stats['Team'] = te_stats['Team'].map(teams)\n",
    "te_stats['Oppt'] = te_stats['Oppt'].map(teams)"
   ]
  },
  {
   "cell_type": "code",
   "execution_count": 321,
   "metadata": {},
   "outputs": [],
   "source": [
    "# te_stats.to_csv('../data/te_stats.csv', index = False)\n",
    "te_stats = pd.read_csv('../data/te_stats.csv')"
   ]
  },
  {
   "cell_type": "code",
   "execution_count": 322,
   "metadata": {},
   "outputs": [],
   "source": [
    "features = ['Rec_TDs', 'Rec_Yds', 'Receptions', 'Targets']"
   ]
  },
  {
   "cell_type": "code",
   "execution_count": 323,
   "metadata": {},
   "outputs": [],
   "source": [
    "rolling_te_stats = te_stats.groupby(['Name', 'Year'])[features].rolling(window = 3, min_periods = 0).mean()"
   ]
  },
  {
   "cell_type": "code",
   "execution_count": 324,
   "metadata": {},
   "outputs": [],
   "source": [
    "shifted_te_stats = rolling_te_stats.groupby(level = [0,1]).shift()"
   ]
  },
  {
   "cell_type": "code",
   "execution_count": 325,
   "metadata": {},
   "outputs": [
    {
     "data": {
      "text/html": [
       "<div>\n",
       "<style scoped>\n",
       "    .dataframe tbody tr th:only-of-type {\n",
       "        vertical-align: middle;\n",
       "    }\n",
       "\n",
       "    .dataframe tbody tr th {\n",
       "        vertical-align: top;\n",
       "    }\n",
       "\n",
       "    .dataframe thead th {\n",
       "        text-align: right;\n",
       "    }\n",
       "</style>\n",
       "<table border=\"1\" class=\"dataframe\">\n",
       "  <thead>\n",
       "    <tr style=\"text-align: right;\">\n",
       "      <th></th>\n",
       "      <th></th>\n",
       "      <th></th>\n",
       "      <th>Rec_TDs</th>\n",
       "      <th>Rec_Yds</th>\n",
       "      <th>Receptions</th>\n",
       "      <th>Targets</th>\n",
       "    </tr>\n",
       "    <tr>\n",
       "      <th>Name</th>\n",
       "      <th>Year</th>\n",
       "      <th></th>\n",
       "      <th></th>\n",
       "      <th></th>\n",
       "      <th></th>\n",
       "      <th></th>\n",
       "    </tr>\n",
       "  </thead>\n",
       "  <tbody>\n",
       "    <tr>\n",
       "      <th>Adams, Davante</th>\n",
       "      <th>2014</th>\n",
       "      <th>1108</th>\n",
       "      <td>NaN</td>\n",
       "      <td>NaN</td>\n",
       "      <td>NaN</td>\n",
       "      <td>NaN</td>\n",
       "    </tr>\n",
       "    <tr>\n",
       "      <th rowspan=\"4\" valign=\"top\">Adams, Jerell</th>\n",
       "      <th rowspan=\"4\" valign=\"top\">2016</th>\n",
       "      <th>308</th>\n",
       "      <td>NaN</td>\n",
       "      <td>NaN</td>\n",
       "      <td>NaN</td>\n",
       "      <td>NaN</td>\n",
       "    </tr>\n",
       "    <tr>\n",
       "      <th>508</th>\n",
       "      <td>1.000000</td>\n",
       "      <td>18.000000</td>\n",
       "      <td>3.000000</td>\n",
       "      <td>3.000000</td>\n",
       "    </tr>\n",
       "    <tr>\n",
       "      <th>948</th>\n",
       "      <td>0.500000</td>\n",
       "      <td>9.000000</td>\n",
       "      <td>1.500000</td>\n",
       "      <td>2.000000</td>\n",
       "    </tr>\n",
       "    <tr>\n",
       "      <th>1181</th>\n",
       "      <td>0.333333</td>\n",
       "      <td>9.333333</td>\n",
       "      <td>1.333333</td>\n",
       "      <td>2.333333</td>\n",
       "    </tr>\n",
       "  </tbody>\n",
       "</table>\n",
       "</div>"
      ],
      "text/plain": [
       "                           Rec_TDs    Rec_Yds  Receptions   Targets\n",
       "Name           Year                                                \n",
       "Adams, Davante 2014 1108       NaN        NaN         NaN       NaN\n",
       "Adams, Jerell  2016 308        NaN        NaN         NaN       NaN\n",
       "                    508   1.000000  18.000000    3.000000  3.000000\n",
       "                    948   0.500000   9.000000    1.500000  2.000000\n",
       "                    1181  0.333333   9.333333    1.333333  2.333333"
      ]
     },
     "execution_count": 325,
     "metadata": {},
     "output_type": "execute_result"
    }
   ],
   "source": [
    "shifted_te_stats.head()"
   ]
  },
  {
   "cell_type": "code",
   "execution_count": 326,
   "metadata": {},
   "outputs": [],
   "source": [
    "for index, row in te_stats.iterrows():\n",
    "    rolling_index = (row['Name'], row['Year'], index)\n",
    "    te_stats.loc[index, features] = shifted_te_stats.loc[rolling_index, features]"
   ]
  },
  {
   "cell_type": "code",
   "execution_count": 327,
   "metadata": {},
   "outputs": [],
   "source": [
    "te_stats.dropna(inplace = True)"
   ]
  },
  {
   "cell_type": "code",
   "execution_count": 328,
   "metadata": {},
   "outputs": [],
   "source": [
    "te_stats = te_stats.sort_values(['Week', 'Year'])\n",
    "te_stats.reset_index(drop = True, inplace = True)"
   ]
  },
  {
   "cell_type": "code",
   "execution_count": 329,
   "metadata": {},
   "outputs": [],
   "source": [
    "te_stats['Month'] = te_stats['Month'].map({9: 'September', 10: 'October', 11: 'November', \n",
    "                                           12: 'December', 1: 'January'})"
   ]
  },
  {
   "cell_type": "code",
   "execution_count": 330,
   "metadata": {},
   "outputs": [
    {
     "data": {
      "text/html": [
       "<div>\n",
       "<style scoped>\n",
       "    .dataframe tbody tr th:only-of-type {\n",
       "        vertical-align: middle;\n",
       "    }\n",
       "\n",
       "    .dataframe tbody tr th {\n",
       "        vertical-align: top;\n",
       "    }\n",
       "\n",
       "    .dataframe thead th {\n",
       "        text-align: right;\n",
       "    }\n",
       "</style>\n",
       "<table border=\"1\" class=\"dataframe\">\n",
       "  <thead>\n",
       "    <tr style=\"text-align: right;\">\n",
       "      <th></th>\n",
       "      <th>Age</th>\n",
       "      <th>Month</th>\n",
       "      <th>Name</th>\n",
       "      <th>Oppt</th>\n",
       "      <th>Rec_TDs</th>\n",
       "      <th>Rec_Yds</th>\n",
       "      <th>Receptions</th>\n",
       "      <th>Targets</th>\n",
       "      <th>Team</th>\n",
       "      <th>Week</th>\n",
       "      <th>Year</th>\n",
       "    </tr>\n",
       "  </thead>\n",
       "  <tbody>\n",
       "    <tr>\n",
       "      <th>0</th>\n",
       "      <td>23.077</td>\n",
       "      <td>September</td>\n",
       "      <td>Hoomanawanui, Michael</td>\n",
       "      <td>NYG</td>\n",
       "      <td>0.000000</td>\n",
       "      <td>21.000000</td>\n",
       "      <td>2.000000</td>\n",
       "      <td>3.000000</td>\n",
       "      <td>LAR</td>\n",
       "      <td>2</td>\n",
       "      <td>2011</td>\n",
       "    </tr>\n",
       "    <tr>\n",
       "      <th>1</th>\n",
       "      <td>23.232</td>\n",
       "      <td>September</td>\n",
       "      <td>Kendricks, Lance</td>\n",
       "      <td>NYG</td>\n",
       "      <td>0.000000</td>\n",
       "      <td>19.333333</td>\n",
       "      <td>2.000000</td>\n",
       "      <td>3.000000</td>\n",
       "      <td>LAR</td>\n",
       "      <td>2</td>\n",
       "      <td>2011</td>\n",
       "    </tr>\n",
       "    <tr>\n",
       "      <th>2</th>\n",
       "      <td>24.164</td>\n",
       "      <td>September</td>\n",
       "      <td>Cook, Jared</td>\n",
       "      <td>BAL</td>\n",
       "      <td>0.333333</td>\n",
       "      <td>90.666667</td>\n",
       "      <td>5.666667</td>\n",
       "      <td>6.666667</td>\n",
       "      <td>TEN</td>\n",
       "      <td>2</td>\n",
       "      <td>2011</td>\n",
       "    </tr>\n",
       "    <tr>\n",
       "      <th>3</th>\n",
       "      <td>27.230</td>\n",
       "      <td>September</td>\n",
       "      <td>Davis, Vernon</td>\n",
       "      <td>DAL</td>\n",
       "      <td>0.333333</td>\n",
       "      <td>52.666667</td>\n",
       "      <td>3.666667</td>\n",
       "      <td>7.000000</td>\n",
       "      <td>SF</td>\n",
       "      <td>2</td>\n",
       "      <td>2011</td>\n",
       "    </tr>\n",
       "    <tr>\n",
       "      <th>4</th>\n",
       "      <td>24.055</td>\n",
       "      <td>September</td>\n",
       "      <td>Dickson, Ed</td>\n",
       "      <td>TEN</td>\n",
       "      <td>0.666667</td>\n",
       "      <td>23.000000</td>\n",
       "      <td>2.333333</td>\n",
       "      <td>3.666667</td>\n",
       "      <td>BAL</td>\n",
       "      <td>2</td>\n",
       "      <td>2011</td>\n",
       "    </tr>\n",
       "  </tbody>\n",
       "</table>\n",
       "</div>"
      ],
      "text/plain": [
       "      Age      Month                   Name Oppt   Rec_TDs    Rec_Yds  \\\n",
       "0  23.077  September  Hoomanawanui, Michael  NYG  0.000000  21.000000   \n",
       "1  23.232  September       Kendricks, Lance  NYG  0.000000  19.333333   \n",
       "2  24.164  September            Cook, Jared  BAL  0.333333  90.666667   \n",
       "3  27.230  September          Davis, Vernon  DAL  0.333333  52.666667   \n",
       "4  24.055  September            Dickson, Ed  TEN  0.666667  23.000000   \n",
       "\n",
       "   Receptions   Targets Team  Week  Year  \n",
       "0    2.000000  3.000000  LAR     2  2011  \n",
       "1    2.000000  3.000000  LAR     2  2011  \n",
       "2    5.666667  6.666667  TEN     2  2011  \n",
       "3    3.666667  7.000000   SF     2  2011  \n",
       "4    2.333333  3.666667  BAL     2  2011  "
      ]
     },
     "execution_count": 330,
     "metadata": {},
     "output_type": "execute_result"
    }
   ],
   "source": [
    "te_stats.head()"
   ]
  },
  {
   "cell_type": "code",
   "execution_count": 331,
   "metadata": {},
   "outputs": [],
   "source": [
    "# te_stats.to_csv('../data/te_stats.csv', index = False)"
   ]
  },
  {
   "cell_type": "code",
   "execution_count": null,
   "metadata": {},
   "outputs": [],
   "source": []
  }
 ],
 "metadata": {
  "kernelspec": {
   "display_name": "Python 3",
   "language": "python",
   "name": "python3"
  },
  "language_info": {
   "codemirror_mode": {
    "name": "ipython",
    "version": 3
   },
   "file_extension": ".py",
   "mimetype": "text/x-python",
   "name": "python",
   "nbconvert_exporter": "python",
   "pygments_lexer": "ipython3",
   "version": "3.6.5"
  }
 },
 "nbformat": 4,
 "nbformat_minor": 2
}

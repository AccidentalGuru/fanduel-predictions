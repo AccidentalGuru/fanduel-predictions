{
 "cells": [
  {
   "cell_type": "markdown",
   "metadata": {},
   "source": [
    "# General Assembly DSI - Denver 2018\n",
    "## Capstone Project - DFS Model\n",
    "This is my capstone project at General Assembly's fifth [Data Science Immersive](https://generalassemb.ly/education/data-science-immersive) cohort in 2018. I am developing a model to assist in optimizing NFL lineups on the daily fantasy sports platforms [Draft Kings](https://www.draftkings.com/) and [Fan Duel](https://www.fanduel.com/).\n",
    "\n",
    "### Problem Statement\n",
    "\n",
    "Can we build a model to predict a football player’s fantasy football performance to estimate their value and implement the model in conjunction with a daily fantasy strategy to be profitable?"
   ]
  },
  {
   "cell_type": "markdown",
   "metadata": {},
   "source": [
    "### Gathering & Cleaning Game Info\n",
    "- [NFL Weather Data from 2011 to 2017](https://www.kaggle.com/tobycrabtree/nfl-scores-and-betting-data#spreadspoke_scores.csv) | Kaggle\n",
    "- [NFL Betting Data from 2011 to 2017](https://www.kaggle.com/tobycrabtree/nfl-scores-and-betting-data#spreadspoke_scores.csv) | Kaggle"
   ]
  },
  {
   "cell_type": "code",
   "execution_count": 1,
   "metadata": {},
   "outputs": [],
   "source": [
    "import pandas as pd"
   ]
  },
  {
   "cell_type": "code",
   "execution_count": 2,
   "metadata": {},
   "outputs": [],
   "source": [
    "game_info = pd.read_csv('../data/spreadspoke_scores.csv') # Spreads and Weather"
   ]
  },
  {
   "cell_type": "code",
   "execution_count": 3,
   "metadata": {},
   "outputs": [],
   "source": [
    "# Need to drop all data before 2011\n",
    "game_info = game_info[game_info['schedule_season'] >= 2011]\n",
    "# And drop all data after 2017\n",
    "game_info = game_info[game_info['schedule_season'] != 2018]"
   ]
  },
  {
   "cell_type": "code",
   "execution_count": 4,
   "metadata": {},
   "outputs": [
    {
     "data": {
      "text/plain": [
       "(1869, 17)"
      ]
     },
     "execution_count": 4,
     "metadata": {},
     "output_type": "execute_result"
    }
   ],
   "source": [
    "game_info.shape"
   ]
  },
  {
   "cell_type": "code",
   "execution_count": 5,
   "metadata": {},
   "outputs": [
    {
     "data": {
      "text/plain": [
       "schedule_date           object\n",
       "schedule_season          int64\n",
       "schedule_week           object\n",
       "team_home               object\n",
       "team_away               object\n",
       "stadium                 object\n",
       "team_favorite_id        object\n",
       "spread_favorite        float64\n",
       "over_under_line         object\n",
       "weather_detail          object\n",
       "weather_temperature    float64\n",
       "weather_wind_mph       float64\n",
       "weather_humidity        object\n",
       "score_home             float64\n",
       "score_away             float64\n",
       "stadium_neutral           bool\n",
       "schedule_playoff          bool\n",
       "dtype: object"
      ]
     },
     "execution_count": 5,
     "metadata": {},
     "output_type": "execute_result"
    }
   ],
   "source": [
    "game_info.dtypes"
   ]
  },
  {
   "cell_type": "code",
   "execution_count": 6,
   "metadata": {},
   "outputs": [
    {
     "data": {
      "text/plain": [
       "weather_humidity       1358\n",
       "weather_detail         1318\n",
       "weather_wind_mph         31\n",
       "weather_temperature      31\n",
       "schedule_playoff          0\n",
       "stadium                   0\n",
       "schedule_season           0\n",
       "schedule_week             0\n",
       "team_home                 0\n",
       "team_away                 0\n",
       "over_under_line           0\n",
       "team_favorite_id          0\n",
       "spread_favorite           0\n",
       "stadium_neutral           0\n",
       "score_home                0\n",
       "score_away                0\n",
       "schedule_date             0\n",
       "dtype: int64"
      ]
     },
     "execution_count": 6,
     "metadata": {},
     "output_type": "execute_result"
    }
   ],
   "source": [
    "game_info.isnull().sum().sort_values(ascending = False)"
   ]
  },
  {
   "cell_type": "code",
   "execution_count": 7,
   "metadata": {},
   "outputs": [
    {
     "data": {
      "text/html": [
       "<div>\n",
       "<style scoped>\n",
       "    .dataframe tbody tr th:only-of-type {\n",
       "        vertical-align: middle;\n",
       "    }\n",
       "\n",
       "    .dataframe tbody tr th {\n",
       "        vertical-align: top;\n",
       "    }\n",
       "\n",
       "    .dataframe thead th {\n",
       "        text-align: right;\n",
       "    }\n",
       "</style>\n",
       "<table border=\"1\" class=\"dataframe\">\n",
       "  <thead>\n",
       "    <tr style=\"text-align: right;\">\n",
       "      <th></th>\n",
       "      <th>schedule_date</th>\n",
       "      <th>schedule_season</th>\n",
       "      <th>schedule_week</th>\n",
       "      <th>team_home</th>\n",
       "      <th>team_away</th>\n",
       "      <th>stadium</th>\n",
       "      <th>team_favorite_id</th>\n",
       "      <th>spread_favorite</th>\n",
       "      <th>over_under_line</th>\n",
       "      <th>weather_detail</th>\n",
       "      <th>weather_temperature</th>\n",
       "      <th>weather_wind_mph</th>\n",
       "      <th>weather_humidity</th>\n",
       "      <th>score_home</th>\n",
       "      <th>score_away</th>\n",
       "      <th>stadium_neutral</th>\n",
       "      <th>schedule_playoff</th>\n",
       "    </tr>\n",
       "  </thead>\n",
       "  <tbody>\n",
       "    <tr>\n",
       "      <th>10531</th>\n",
       "      <td>01/07/2012</td>\n",
       "      <td>2011</td>\n",
       "      <td>Wildcard</td>\n",
       "      <td>Houston Texans</td>\n",
       "      <td>Cincinnati Bengals</td>\n",
       "      <td>Reliant Stadium</td>\n",
       "      <td>HOU</td>\n",
       "      <td>-4.0</td>\n",
       "      <td>38</td>\n",
       "      <td>NaN</td>\n",
       "      <td>NaN</td>\n",
       "      <td>NaN</td>\n",
       "      <td>NaN</td>\n",
       "      <td>31.0</td>\n",
       "      <td>10.0</td>\n",
       "      <td>False</td>\n",
       "      <td>True</td>\n",
       "    </tr>\n",
       "    <tr>\n",
       "      <th>10532</th>\n",
       "      <td>01/07/2012</td>\n",
       "      <td>2011</td>\n",
       "      <td>Wildcard</td>\n",
       "      <td>New Orleans Saints</td>\n",
       "      <td>Detroit Lions</td>\n",
       "      <td>Louisiana Superdome</td>\n",
       "      <td>NO</td>\n",
       "      <td>-10.5</td>\n",
       "      <td>60</td>\n",
       "      <td>NaN</td>\n",
       "      <td>NaN</td>\n",
       "      <td>NaN</td>\n",
       "      <td>NaN</td>\n",
       "      <td>45.0</td>\n",
       "      <td>28.0</td>\n",
       "      <td>False</td>\n",
       "      <td>True</td>\n",
       "    </tr>\n",
       "    <tr>\n",
       "      <th>10533</th>\n",
       "      <td>01/08/2012</td>\n",
       "      <td>2011</td>\n",
       "      <td>Wildcard</td>\n",
       "      <td>Denver Broncos</td>\n",
       "      <td>Pittsburgh Steelers</td>\n",
       "      <td>Sports Authority Field at Mile High</td>\n",
       "      <td>PIT</td>\n",
       "      <td>-7.5</td>\n",
       "      <td>34</td>\n",
       "      <td>NaN</td>\n",
       "      <td>NaN</td>\n",
       "      <td>NaN</td>\n",
       "      <td>NaN</td>\n",
       "      <td>29.0</td>\n",
       "      <td>23.0</td>\n",
       "      <td>False</td>\n",
       "      <td>True</td>\n",
       "    </tr>\n",
       "    <tr>\n",
       "      <th>10534</th>\n",
       "      <td>01/08/2012</td>\n",
       "      <td>2011</td>\n",
       "      <td>Wildcard</td>\n",
       "      <td>New York Giants</td>\n",
       "      <td>Atlanta Falcons</td>\n",
       "      <td>MetLife Stadium</td>\n",
       "      <td>NYG</td>\n",
       "      <td>-3.0</td>\n",
       "      <td>48</td>\n",
       "      <td>NaN</td>\n",
       "      <td>NaN</td>\n",
       "      <td>NaN</td>\n",
       "      <td>NaN</td>\n",
       "      <td>24.0</td>\n",
       "      <td>2.0</td>\n",
       "      <td>False</td>\n",
       "      <td>True</td>\n",
       "    </tr>\n",
       "    <tr>\n",
       "      <th>10535</th>\n",
       "      <td>01/14/2012</td>\n",
       "      <td>2011</td>\n",
       "      <td>Division</td>\n",
       "      <td>New England Patriots</td>\n",
       "      <td>Denver Broncos</td>\n",
       "      <td>Gillette Stadium</td>\n",
       "      <td>NE</td>\n",
       "      <td>-13.5</td>\n",
       "      <td>50</td>\n",
       "      <td>NaN</td>\n",
       "      <td>NaN</td>\n",
       "      <td>NaN</td>\n",
       "      <td>NaN</td>\n",
       "      <td>45.0</td>\n",
       "      <td>10.0</td>\n",
       "      <td>False</td>\n",
       "      <td>True</td>\n",
       "    </tr>\n",
       "  </tbody>\n",
       "</table>\n",
       "</div>"
      ],
      "text/plain": [
       "      schedule_date  schedule_season schedule_week             team_home  \\\n",
       "10531    01/07/2012             2011      Wildcard        Houston Texans   \n",
       "10532    01/07/2012             2011      Wildcard    New Orleans Saints   \n",
       "10533    01/08/2012             2011      Wildcard        Denver Broncos   \n",
       "10534    01/08/2012             2011      Wildcard       New York Giants   \n",
       "10535    01/14/2012             2011      Division  New England Patriots   \n",
       "\n",
       "                 team_away                              stadium  \\\n",
       "10531   Cincinnati Bengals                      Reliant Stadium   \n",
       "10532        Detroit Lions                  Louisiana Superdome   \n",
       "10533  Pittsburgh Steelers  Sports Authority Field at Mile High   \n",
       "10534      Atlanta Falcons                      MetLife Stadium   \n",
       "10535       Denver Broncos                     Gillette Stadium   \n",
       "\n",
       "      team_favorite_id  spread_favorite over_under_line weather_detail  \\\n",
       "10531              HOU             -4.0              38            NaN   \n",
       "10532               NO            -10.5              60            NaN   \n",
       "10533              PIT             -7.5              34            NaN   \n",
       "10534              NYG             -3.0              48            NaN   \n",
       "10535               NE            -13.5              50            NaN   \n",
       "\n",
       "       weather_temperature  weather_wind_mph weather_humidity  score_home  \\\n",
       "10531                  NaN               NaN              NaN        31.0   \n",
       "10532                  NaN               NaN              NaN        45.0   \n",
       "10533                  NaN               NaN              NaN        29.0   \n",
       "10534                  NaN               NaN              NaN        24.0   \n",
       "10535                  NaN               NaN              NaN        45.0   \n",
       "\n",
       "       score_away  stadium_neutral  schedule_playoff  \n",
       "10531        10.0            False              True  \n",
       "10532        28.0            False              True  \n",
       "10533        23.0            False              True  \n",
       "10534         2.0            False              True  \n",
       "10535        10.0            False              True  "
      ]
     },
     "execution_count": 7,
     "metadata": {},
     "output_type": "execute_result"
    }
   ],
   "source": [
    "game_info[game_info['weather_temperature'].isnull()].head()"
   ]
  },
  {
   "cell_type": "code",
   "execution_count": 8,
   "metadata": {},
   "outputs": [
    {
     "data": {
      "text/plain": [
       "3             112\n",
       "2             112\n",
       "14            112\n",
       "17            112\n",
       "16            112\n",
       "15            112\n",
       "13            111\n",
       "1             111\n",
       "12            109\n",
       "4             105\n",
       "7             100\n",
       "6             100\n",
       "10             99\n",
       "11             99\n",
       "5              98\n",
       "8              95\n",
       "9              93\n",
       "Division       28\n",
       "Wildcard       24\n",
       "Conference     14\n",
       "Superbowl       6\n",
       "WildCard        4\n",
       "SuperBowl       1\n",
       "Name: schedule_week, dtype: int64"
      ]
     },
     "execution_count": 8,
     "metadata": {},
     "output_type": "execute_result"
    }
   ],
   "source": [
    "game_info['schedule_week'].value_counts()"
   ]
  },
  {
   "cell_type": "markdown",
   "metadata": {},
   "source": [
    "> Need to drop all data for playoff games. Only need weeks 1 through 17."
   ]
  },
  {
   "cell_type": "code",
   "execution_count": 26,
   "metadata": {},
   "outputs": [
    {
     "data": {
      "text/plain": [
       "2     112\n",
       "3     112\n",
       "14    112\n",
       "17    112\n",
       "15    112\n",
       "16    112\n",
       "1     111\n",
       "13    111\n",
       "12    109\n",
       "4     105\n",
       "7     100\n",
       "6     100\n",
       "10     99\n",
       "11     99\n",
       "5      98\n",
       "8      95\n",
       "9      93\n",
       "Name: schedule_week, dtype: int64"
      ]
     },
     "execution_count": 26,
     "metadata": {},
     "output_type": "execute_result"
    }
   ],
   "source": [
    "game_info = game_info[game_info['schedule_week'] != 'Division']\n",
    "game_info = game_info[game_info['schedule_week'] != 'Wildcard']\n",
    "game_info = game_info[game_info['schedule_week'] != 'Conference']\n",
    "game_info = game_info[game_info['schedule_week'] != 'Superbowl']\n",
    "game_info = game_info[game_info['schedule_week'] != 'WildCard']\n",
    "game_info = game_info[game_info['schedule_week'] != 'SuperBowl']\n",
    "\n",
    "game_info['schedule_week'].value_counts()"
   ]
  },
  {
   "cell_type": "code",
   "execution_count": 38,
   "metadata": {},
   "outputs": [
    {
     "data": {
      "text/plain": [
       "weather_detail      1256\n",
       "schedule_playoff       0\n",
       "stadium_neutral        0\n",
       "score_away             0\n",
       "score_home             0\n",
       "dtype: int64"
      ]
     },
     "execution_count": 38,
     "metadata": {},
     "output_type": "execute_result"
    }
   ],
   "source": [
    "game_info.isnull().sum().sort_values(ascending = False).head()"
   ]
  },
  {
   "cell_type": "code",
   "execution_count": 41,
   "metadata": {},
   "outputs": [
    {
     "data": {
      "text/plain": [
       "DOME                    415\n",
       "Rain                     72\n",
       "Fog                      19\n",
       "Rain | Fog               14\n",
       "Snow                     11\n",
       "Snow | Fog                4\n",
       "Snow | Freezing Rain      1\n",
       "Name: weather_detail, dtype: int64"
      ]
     },
     "execution_count": 41,
     "metadata": {},
     "output_type": "execute_result"
    }
   ],
   "source": [
    "game_info['weather_detail'].value_counts()"
   ]
  },
  {
   "cell_type": "code",
   "execution_count": 36,
   "metadata": {},
   "outputs": [],
   "source": [
    "game_info.drop('weather_humidity', axis = 1, inplace = True)"
   ]
  },
  {
   "cell_type": "code",
   "execution_count": 37,
   "metadata": {},
   "outputs": [
    {
     "data": {
      "text/plain": [
       "weather_detail      1256\n",
       "schedule_playoff       0\n",
       "stadium_neutral        0\n",
       "score_away             0\n",
       "score_home             0\n",
       "dtype: int64"
      ]
     },
     "execution_count": 37,
     "metadata": {},
     "output_type": "execute_result"
    }
   ],
   "source": [
    "# I'm going to assume that games with no weather detail were simply just sunny\n",
    "# I'm not going to fuss with cloudy, partly cloudy, etc.; it's all sunny\n",
    "game_info.isnull().sum().sort_values(ascending = False).head()"
   ]
  },
  {
   "cell_type": "code",
   "execution_count": 43,
   "metadata": {},
   "outputs": [],
   "source": [
    "game_info.fillna('Sunny', inplace = True)"
   ]
  },
  {
   "cell_type": "code",
   "execution_count": 45,
   "metadata": {},
   "outputs": [],
   "source": [
    "game_info.to_csv('../data/game_information.csv', index = False)"
   ]
  },
  {
   "cell_type": "code",
   "execution_count": null,
   "metadata": {},
   "outputs": [],
   "source": []
  }
 ],
 "metadata": {
  "kernelspec": {
   "display_name": "Python 3",
   "language": "python",
   "name": "python3"
  },
  "language_info": {
   "codemirror_mode": {
    "name": "ipython",
    "version": 3
   },
   "file_extension": ".py",
   "mimetype": "text/x-python",
   "name": "python",
   "nbconvert_exporter": "python",
   "pygments_lexer": "ipython3",
   "version": "3.6.5"
  }
 },
 "nbformat": 4,
 "nbformat_minor": 2
}

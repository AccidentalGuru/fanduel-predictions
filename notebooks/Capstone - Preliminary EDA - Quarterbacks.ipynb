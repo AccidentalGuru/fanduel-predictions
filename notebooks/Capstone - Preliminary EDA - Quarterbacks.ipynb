{
 "cells": [
  {
   "cell_type": "markdown",
   "metadata": {},
   "source": [
    "# General Assembly DSI - Denver 2018\n",
    "## Capstone Project - DFS Model\n",
    "This is my capstone project at General Assembly's fifth [Data Science Immersive](https://generalassemb.ly/education/data-science-immersive) cohort in 2018. I am developing a model to assist in optimizing NFL lineups on the daily fantasy sports platforms [Draft Kings](https://www.draftkings.com/) and [Fan Duel](https://www.fanduel.com/).\n",
    "\n",
    "### Problem Statement\n",
    "\n",
    "Can we build a model to predict a football player’s fantasy football performance to estimate their value and implement the model in conjunction with a daily fantasy strategy to be profitable?"
   ]
  },
  {
   "cell_type": "markdown",
   "metadata": {},
   "source": [
    "### Exploratory Data Analysis - Quarterbacks\n",
    "\n",
    "**NOTE**: This notebook was a preliminary attempt at understanding how predicting the target variable would work without including player statistics. With a preliminary Linear Regression model I decided it would be important to include at least basic statistical information."
   ]
  },
  {
   "cell_type": "code",
   "execution_count": 1,
   "metadata": {},
   "outputs": [],
   "source": [
    "import pandas as pd\n",
    "import numpy as np\n",
    "import matplotlib.pyplot as plt\n",
    "import seaborn as sns"
   ]
  },
  {
   "cell_type": "code",
   "execution_count": 2,
   "metadata": {},
   "outputs": [],
   "source": [
    "data = pd.read_csv('../data/quarterbacks.csv')"
   ]
  },
  {
   "cell_type": "code",
   "execution_count": 3,
   "metadata": {},
   "outputs": [
    {
     "data": {
      "text/html": [
       "<div>\n",
       "<style scoped>\n",
       "    .dataframe tbody tr th:only-of-type {\n",
       "        vertical-align: middle;\n",
       "    }\n",
       "\n",
       "    .dataframe tbody tr th {\n",
       "        vertical-align: top;\n",
       "    }\n",
       "\n",
       "    .dataframe thead th {\n",
       "        text-align: right;\n",
       "    }\n",
       "</style>\n",
       "<table border=\"1\" class=\"dataframe\">\n",
       "  <thead>\n",
       "    <tr style=\"text-align: right;\">\n",
       "      <th></th>\n",
       "      <th>Week</th>\n",
       "      <th>Year</th>\n",
       "      <th>GID</th>\n",
       "      <th>Name</th>\n",
       "      <th>Pos</th>\n",
       "      <th>Team</th>\n",
       "      <th>h/a</th>\n",
       "      <th>Oppt</th>\n",
       "      <th>FD points</th>\n",
       "      <th>FD salary</th>\n",
       "      <th>...</th>\n",
       "      <th>Opp_Avg_Ints</th>\n",
       "      <th>Opp_Rank</th>\n",
       "      <th>Opp_Avg_TDs_Allowed</th>\n",
       "      <th>Opp_Avg_Yds_Allowed</th>\n",
       "      <th>Favored</th>\n",
       "      <th>Spread</th>\n",
       "      <th>O/U</th>\n",
       "      <th>Weather</th>\n",
       "      <th>Temperature</th>\n",
       "      <th>Wind</th>\n",
       "    </tr>\n",
       "  </thead>\n",
       "  <tbody>\n",
       "    <tr>\n",
       "      <th>0</th>\n",
       "      <td>2</td>\n",
       "      <td>2011</td>\n",
       "      <td>1378</td>\n",
       "      <td>Newton, Cam</td>\n",
       "      <td>QB</td>\n",
       "      <td>CAR</td>\n",
       "      <td>h</td>\n",
       "      <td>GB</td>\n",
       "      <td>29.58</td>\n",
       "      <td>7300.0</td>\n",
       "      <td>...</td>\n",
       "      <td>0.0</td>\n",
       "      <td>8</td>\n",
       "      <td>2.0</td>\n",
       "      <td>309.0</td>\n",
       "      <td>GB</td>\n",
       "      <td>-11.0</td>\n",
       "      <td>45.0</td>\n",
       "      <td>Sunny</td>\n",
       "      <td>67.0</td>\n",
       "      <td>1.0</td>\n",
       "    </tr>\n",
       "    <tr>\n",
       "      <th>1</th>\n",
       "      <td>2</td>\n",
       "      <td>2011</td>\n",
       "      <td>1252</td>\n",
       "      <td>Rodgers, Aaron</td>\n",
       "      <td>QB</td>\n",
       "      <td>GB</td>\n",
       "      <td>a</td>\n",
       "      <td>CAR</td>\n",
       "      <td>21.62</td>\n",
       "      <td>9900.0</td>\n",
       "      <td>...</td>\n",
       "      <td>0.0</td>\n",
       "      <td>3</td>\n",
       "      <td>3.0</td>\n",
       "      <td>419.0</td>\n",
       "      <td>GB</td>\n",
       "      <td>-11.0</td>\n",
       "      <td>45.0</td>\n",
       "      <td>Sunny</td>\n",
       "      <td>67.0</td>\n",
       "      <td>1.0</td>\n",
       "    </tr>\n",
       "    <tr>\n",
       "      <th>2</th>\n",
       "      <td>2</td>\n",
       "      <td>2011</td>\n",
       "      <td>1131</td>\n",
       "      <td>Brady, Tom</td>\n",
       "      <td>QB</td>\n",
       "      <td>NE</td>\n",
       "      <td>h</td>\n",
       "      <td>LAC</td>\n",
       "      <td>29.22</td>\n",
       "      <td>9100.0</td>\n",
       "      <td>...</td>\n",
       "      <td>1.0</td>\n",
       "      <td>11</td>\n",
       "      <td>2.0</td>\n",
       "      <td>416.0</td>\n",
       "      <td>NE</td>\n",
       "      <td>-7.0</td>\n",
       "      <td>53.5</td>\n",
       "      <td>Sunny</td>\n",
       "      <td>63.0</td>\n",
       "      <td>12.0</td>\n",
       "    </tr>\n",
       "    <tr>\n",
       "      <th>3</th>\n",
       "      <td>2</td>\n",
       "      <td>2011</td>\n",
       "      <td>1231</td>\n",
       "      <td>Rivers, Philip</td>\n",
       "      <td>QB</td>\n",
       "      <td>LAC</td>\n",
       "      <td>a</td>\n",
       "      <td>NE</td>\n",
       "      <td>20.32</td>\n",
       "      <td>8900.0</td>\n",
       "      <td>...</td>\n",
       "      <td>1.0</td>\n",
       "      <td>1</td>\n",
       "      <td>1.0</td>\n",
       "      <td>39.0</td>\n",
       "      <td>NE</td>\n",
       "      <td>-7.0</td>\n",
       "      <td>53.5</td>\n",
       "      <td>Sunny</td>\n",
       "      <td>63.0</td>\n",
       "      <td>12.0</td>\n",
       "    </tr>\n",
       "    <tr>\n",
       "      <th>4</th>\n",
       "      <td>2</td>\n",
       "      <td>2011</td>\n",
       "      <td>1340</td>\n",
       "      <td>Stafford, Matthew</td>\n",
       "      <td>QB</td>\n",
       "      <td>DET</td>\n",
       "      <td>h</td>\n",
       "      <td>KC</td>\n",
       "      <td>26.86</td>\n",
       "      <td>7900.0</td>\n",
       "      <td>...</td>\n",
       "      <td>1.0</td>\n",
       "      <td>31</td>\n",
       "      <td>1.0</td>\n",
       "      <td>266.0</td>\n",
       "      <td>DET</td>\n",
       "      <td>-9.0</td>\n",
       "      <td>45.0</td>\n",
       "      <td>DOME</td>\n",
       "      <td>72.0</td>\n",
       "      <td>0.0</td>\n",
       "    </tr>\n",
       "  </tbody>\n",
       "</table>\n",
       "<p>5 rows × 22 columns</p>\n",
       "</div>"
      ],
      "text/plain": [
       "   Week  Year   GID               Name Pos Team h/a Oppt  FD points  \\\n",
       "0     2  2011  1378        Newton, Cam  QB  CAR   h   GB      29.58   \n",
       "1     2  2011  1252     Rodgers, Aaron  QB   GB   a  CAR      21.62   \n",
       "2     2  2011  1131         Brady, Tom  QB   NE   h  LAC      29.22   \n",
       "3     2  2011  1231     Rivers, Philip  QB  LAC   a   NE      20.32   \n",
       "4     2  2011  1340  Stafford, Matthew  QB  DET   h   KC      26.86   \n",
       "\n",
       "   FD salary  ...   Opp_Avg_Ints  Opp_Rank  Opp_Avg_TDs_Allowed  \\\n",
       "0     7300.0  ...            0.0         8                  2.0   \n",
       "1     9900.0  ...            0.0         3                  3.0   \n",
       "2     9100.0  ...            1.0        11                  2.0   \n",
       "3     8900.0  ...            1.0         1                  1.0   \n",
       "4     7900.0  ...            1.0        31                  1.0   \n",
       "\n",
       "   Opp_Avg_Yds_Allowed  Favored  Spread   O/U  Weather  Temperature  Wind  \n",
       "0                309.0       GB   -11.0  45.0    Sunny         67.0   1.0  \n",
       "1                419.0       GB   -11.0  45.0    Sunny         67.0   1.0  \n",
       "2                416.0       NE    -7.0  53.5    Sunny         63.0  12.0  \n",
       "3                 39.0       NE    -7.0  53.5    Sunny         63.0  12.0  \n",
       "4                266.0      DET    -9.0  45.0     DOME         72.0   0.0  \n",
       "\n",
       "[5 rows x 22 columns]"
      ]
     },
     "execution_count": 3,
     "metadata": {},
     "output_type": "execute_result"
    }
   ],
   "source": [
    "data.head()"
   ]
  },
  {
   "cell_type": "code",
   "execution_count": 4,
   "metadata": {},
   "outputs": [
    {
     "name": "stdout",
     "output_type": "stream",
     "text": [
      "<class 'pandas.core.frame.DataFrame'>\n",
      "RangeIndex: 4136 entries, 0 to 4135\n",
      "Data columns (total 22 columns):\n",
      "Week                    4136 non-null int64\n",
      "Year                    4136 non-null int64\n",
      "GID                     4136 non-null int64\n",
      "Name                    4136 non-null object\n",
      "Pos                     4136 non-null object\n",
      "Team                    4136 non-null object\n",
      "h/a                     4136 non-null object\n",
      "Oppt                    4136 non-null object\n",
      "FD points               4136 non-null float64\n",
      "FD salary               4136 non-null float64\n",
      "Opp_Avg_Att_Allowed     4136 non-null float64\n",
      "Opp_Avg_Comp_Allowed    4136 non-null float64\n",
      "Opp_Avg_Ints            4136 non-null float64\n",
      "Opp_Rank                4136 non-null int64\n",
      "Opp_Avg_TDs_Allowed     4136 non-null float64\n",
      "Opp_Avg_Yds_Allowed     4136 non-null float64\n",
      "Favored                 4136 non-null object\n",
      "Spread                  4136 non-null float64\n",
      "O/U                     4136 non-null float64\n",
      "Weather                 4136 non-null object\n",
      "Temperature             4136 non-null float64\n",
      "Wind                    4136 non-null float64\n",
      "dtypes: float64(11), int64(4), object(7)\n",
      "memory usage: 711.0+ KB\n"
     ]
    }
   ],
   "source": [
    "data.info()"
   ]
  },
  {
   "cell_type": "markdown",
   "metadata": {},
   "source": [
    "### Column Transformations\n",
    "- Transform `Home / Away` to 1's and 0's\n",
    "- Transform `Favored` to 1's and 0's\n",
    "- Dummy `Weather` Column\n",
    "- Drop `GID`"
   ]
  },
  {
   "cell_type": "code",
   "execution_count": 5,
   "metadata": {},
   "outputs": [],
   "source": [
    "# 1's & 0's for 'h/a'\n",
    "data['h/a'] = data['h/a'].map({'h': 1, 'a': 0})"
   ]
  },
  {
   "cell_type": "code",
   "execution_count": 6,
   "metadata": {},
   "outputs": [],
   "source": [
    "# 1's & 0's for 'Favored'\n",
    "# Not going to worry about \"Pick 'em Games\"; that would suggest you are NOT favored aka 0\n",
    "for index, player in data.iterrows():\n",
    "    if player['Favored'] == player['Team']:\n",
    "        data.loc[index, 'Favored'] = 1\n",
    "    else:\n",
    "        data.loc[index, 'Favored'] = 0"
   ]
  },
  {
   "cell_type": "code",
   "execution_count": 7,
   "metadata": {},
   "outputs": [],
   "source": [
    "data = pd.get_dummies(data, columns = ['Weather'])"
   ]
  },
  {
   "cell_type": "code",
   "execution_count": 8,
   "metadata": {},
   "outputs": [],
   "source": [
    "data.drop('GID', axis = 1, inplace = True)"
   ]
  },
  {
   "cell_type": "code",
   "execution_count": 9,
   "metadata": {
    "scrolled": true
   },
   "outputs": [
    {
     "data": {
      "text/html": [
       "<div>\n",
       "<style scoped>\n",
       "    .dataframe tbody tr th:only-of-type {\n",
       "        vertical-align: middle;\n",
       "    }\n",
       "\n",
       "    .dataframe tbody tr th {\n",
       "        vertical-align: top;\n",
       "    }\n",
       "\n",
       "    .dataframe thead th {\n",
       "        text-align: right;\n",
       "    }\n",
       "</style>\n",
       "<table border=\"1\" class=\"dataframe\">\n",
       "  <thead>\n",
       "    <tr style=\"text-align: right;\">\n",
       "      <th></th>\n",
       "      <th>Week</th>\n",
       "      <th>Year</th>\n",
       "      <th>Name</th>\n",
       "      <th>Pos</th>\n",
       "      <th>Team</th>\n",
       "      <th>h/a</th>\n",
       "      <th>Oppt</th>\n",
       "      <th>FD points</th>\n",
       "      <th>FD salary</th>\n",
       "      <th>Opp_Avg_Att_Allowed</th>\n",
       "      <th>...</th>\n",
       "      <th>Temperature</th>\n",
       "      <th>Wind</th>\n",
       "      <th>Weather_DOME</th>\n",
       "      <th>Weather_Fog</th>\n",
       "      <th>Weather_Rain</th>\n",
       "      <th>Weather_Rain | Fog</th>\n",
       "      <th>Weather_Snow</th>\n",
       "      <th>Weather_Snow | Fog</th>\n",
       "      <th>Weather_Snow | Freezing Rain</th>\n",
       "      <th>Weather_Sunny</th>\n",
       "    </tr>\n",
       "  </thead>\n",
       "  <tbody>\n",
       "    <tr>\n",
       "      <th>0</th>\n",
       "      <td>2</td>\n",
       "      <td>2011</td>\n",
       "      <td>Newton, Cam</td>\n",
       "      <td>QB</td>\n",
       "      <td>CAR</td>\n",
       "      <td>1</td>\n",
       "      <td>GB</td>\n",
       "      <td>29.58</td>\n",
       "      <td>7300.0</td>\n",
       "      <td>27.0</td>\n",
       "      <td>...</td>\n",
       "      <td>67.0</td>\n",
       "      <td>1.0</td>\n",
       "      <td>0</td>\n",
       "      <td>0</td>\n",
       "      <td>0</td>\n",
       "      <td>0</td>\n",
       "      <td>0</td>\n",
       "      <td>0</td>\n",
       "      <td>0</td>\n",
       "      <td>1</td>\n",
       "    </tr>\n",
       "    <tr>\n",
       "      <th>1</th>\n",
       "      <td>2</td>\n",
       "      <td>2011</td>\n",
       "      <td>Rodgers, Aaron</td>\n",
       "      <td>QB</td>\n",
       "      <td>GB</td>\n",
       "      <td>0</td>\n",
       "      <td>CAR</td>\n",
       "      <td>21.62</td>\n",
       "      <td>9900.0</td>\n",
       "      <td>49.0</td>\n",
       "      <td>...</td>\n",
       "      <td>67.0</td>\n",
       "      <td>1.0</td>\n",
       "      <td>0</td>\n",
       "      <td>0</td>\n",
       "      <td>0</td>\n",
       "      <td>0</td>\n",
       "      <td>0</td>\n",
       "      <td>0</td>\n",
       "      <td>0</td>\n",
       "      <td>1</td>\n",
       "    </tr>\n",
       "    <tr>\n",
       "      <th>2</th>\n",
       "      <td>2</td>\n",
       "      <td>2011</td>\n",
       "      <td>Brady, Tom</td>\n",
       "      <td>QB</td>\n",
       "      <td>NE</td>\n",
       "      <td>1</td>\n",
       "      <td>LAC</td>\n",
       "      <td>29.22</td>\n",
       "      <td>9100.0</td>\n",
       "      <td>49.0</td>\n",
       "      <td>...</td>\n",
       "      <td>63.0</td>\n",
       "      <td>12.0</td>\n",
       "      <td>0</td>\n",
       "      <td>0</td>\n",
       "      <td>0</td>\n",
       "      <td>0</td>\n",
       "      <td>0</td>\n",
       "      <td>0</td>\n",
       "      <td>0</td>\n",
       "      <td>1</td>\n",
       "    </tr>\n",
       "    <tr>\n",
       "      <th>3</th>\n",
       "      <td>2</td>\n",
       "      <td>2011</td>\n",
       "      <td>Rivers, Philip</td>\n",
       "      <td>QB</td>\n",
       "      <td>LAC</td>\n",
       "      <td>0</td>\n",
       "      <td>NE</td>\n",
       "      <td>20.32</td>\n",
       "      <td>8900.0</td>\n",
       "      <td>15.0</td>\n",
       "      <td>...</td>\n",
       "      <td>63.0</td>\n",
       "      <td>12.0</td>\n",
       "      <td>0</td>\n",
       "      <td>0</td>\n",
       "      <td>0</td>\n",
       "      <td>0</td>\n",
       "      <td>0</td>\n",
       "      <td>0</td>\n",
       "      <td>0</td>\n",
       "      <td>1</td>\n",
       "    </tr>\n",
       "    <tr>\n",
       "      <th>4</th>\n",
       "      <td>2</td>\n",
       "      <td>2011</td>\n",
       "      <td>Stafford, Matthew</td>\n",
       "      <td>QB</td>\n",
       "      <td>DET</td>\n",
       "      <td>1</td>\n",
       "      <td>KC</td>\n",
       "      <td>26.86</td>\n",
       "      <td>7900.0</td>\n",
       "      <td>46.0</td>\n",
       "      <td>...</td>\n",
       "      <td>72.0</td>\n",
       "      <td>0.0</td>\n",
       "      <td>1</td>\n",
       "      <td>0</td>\n",
       "      <td>0</td>\n",
       "      <td>0</td>\n",
       "      <td>0</td>\n",
       "      <td>0</td>\n",
       "      <td>0</td>\n",
       "      <td>0</td>\n",
       "    </tr>\n",
       "  </tbody>\n",
       "</table>\n",
       "<p>5 rows × 28 columns</p>\n",
       "</div>"
      ],
      "text/plain": [
       "   Week  Year               Name Pos Team  h/a Oppt  FD points  FD salary  \\\n",
       "0     2  2011        Newton, Cam  QB  CAR    1   GB      29.58     7300.0   \n",
       "1     2  2011     Rodgers, Aaron  QB   GB    0  CAR      21.62     9900.0   \n",
       "2     2  2011         Brady, Tom  QB   NE    1  LAC      29.22     9100.0   \n",
       "3     2  2011     Rivers, Philip  QB  LAC    0   NE      20.32     8900.0   \n",
       "4     2  2011  Stafford, Matthew  QB  DET    1   KC      26.86     7900.0   \n",
       "\n",
       "   Opp_Avg_Att_Allowed      ...        Temperature  Wind  Weather_DOME  \\\n",
       "0                 27.0      ...               67.0   1.0             0   \n",
       "1                 49.0      ...               67.0   1.0             0   \n",
       "2                 49.0      ...               63.0  12.0             0   \n",
       "3                 15.0      ...               63.0  12.0             0   \n",
       "4                 46.0      ...               72.0   0.0             1   \n",
       "\n",
       "   Weather_Fog  Weather_Rain  Weather_Rain | Fog  Weather_Snow  \\\n",
       "0            0             0                   0             0   \n",
       "1            0             0                   0             0   \n",
       "2            0             0                   0             0   \n",
       "3            0             0                   0             0   \n",
       "4            0             0                   0             0   \n",
       "\n",
       "   Weather_Snow | Fog  Weather_Snow | Freezing Rain  Weather_Sunny  \n",
       "0                   0                             0              1  \n",
       "1                   0                             0              1  \n",
       "2                   0                             0              1  \n",
       "3                   0                             0              1  \n",
       "4                   0                             0              0  \n",
       "\n",
       "[5 rows x 28 columns]"
      ]
     },
     "execution_count": 9,
     "metadata": {},
     "output_type": "execute_result"
    }
   ],
   "source": [
    "data.head()"
   ]
  },
  {
   "cell_type": "code",
   "execution_count": 112,
   "metadata": {},
   "outputs": [],
   "source": [
    "# data.to_csv('../data/quarterbacks.csv', index = True)"
   ]
  },
  {
   "cell_type": "code",
   "execution_count": 10,
   "metadata": {},
   "outputs": [
    {
     "data": {
      "text/plain": [
       "(4136, 28)"
      ]
     },
     "execution_count": 10,
     "metadata": {},
     "output_type": "execute_result"
    }
   ],
   "source": [
    "data.shape"
   ]
  },
  {
   "cell_type": "code",
   "execution_count": 11,
   "metadata": {},
   "outputs": [],
   "source": [
    "data = data.groupby(['Name', 'Week', 'Year', 'Team', 'Oppt']).sum()"
   ]
  },
  {
   "cell_type": "code",
   "execution_count": 12,
   "metadata": {
    "scrolled": true
   },
   "outputs": [
    {
     "name": "stdout",
     "output_type": "stream",
     "text": [
      "Total df shape: (4136, 22)\n",
      "Players with less than one point: (571, 22)\n",
      "Percentage of players below 1 fantasy point: 0.1380560928433269\n",
      "Percentage of players with exactly 0 fantasy points: 0.06624758220502901\n",
      "Percentage of players with less than 0 fantasy points: 0.03892649903288201\n"
     ]
    }
   ],
   "source": [
    "print('Total df shape:', data.shape)\n",
    "print('Players with less than one point:', data[data['FD points'] < 1].shape)\n",
    "print('Percentage of players below 1 fantasy point:', data[data['FD points'] < 1].shape[0] / data.shape[0])\n",
    "print('Percentage of players with exactly 0 fantasy points:',  data[data['FD points'] == 0].shape[0] / data.shape[0])\n",
    "print('Percentage of players with less than 0 fantasy points:', data[data['FD points'] < 0].shape[0] / data.shape[0])"
   ]
  },
  {
   "cell_type": "code",
   "execution_count": 13,
   "metadata": {},
   "outputs": [
    {
     "data": {
      "text/plain": [
       "34"
      ]
     },
     "execution_count": 13,
     "metadata": {},
     "output_type": "execute_result"
    }
   ],
   "source": [
    "data[data['FD salary'] == 0].shape[0]"
   ]
  },
  {
   "cell_type": "markdown",
   "metadata": {},
   "source": [
    "> So there are 34 observations with no salary, but that really isn't important to our model so I think we can keep those."
   ]
  },
  {
   "cell_type": "code",
   "execution_count": 14,
   "metadata": {},
   "outputs": [
    {
     "name": "stderr",
     "output_type": "stream",
     "text": [
      "/Users/charleydixon/anaconda3/lib/python3.6/site-packages/scipy/stats/stats.py:1713: FutureWarning: Using a non-tuple sequence for multidimensional indexing is deprecated; use `arr[tuple(seq)]` instead of `arr[seq]`. In the future this will be interpreted as an array index, `arr[np.array(seq)]`, which will result either in an error or a different result.\n",
      "  return np.add.reduce(sorted[indexer] * weights, axis=axis) / sumval\n",
      "/Users/charleydixon/anaconda3/lib/python3.6/site-packages/matplotlib/axes/_axes.py:6499: MatplotlibDeprecationWarning: \n",
      "The 'normed' kwarg was deprecated in Matplotlib 2.1 and will be removed in 3.1. Use 'density' instead.\n",
      "  alternative=\"'density'\", removal=\"3.1\")\n"
     ]
    },
    {
     "data": {
      "text/plain": [
       "<matplotlib.axes._subplots.AxesSubplot at 0x1a15e39588>"
      ]
     },
     "execution_count": 14,
     "metadata": {},
     "output_type": "execute_result"
    },
    {
     "data": {
      "image/png": "[encoded data removed]",
      "text/plain": [
       "<Figure size 432x288 with 1 Axes>"
      ]
     },
     "metadata": {},
     "output_type": "display_data"
    }
   ],
   "source": [
    "# Distribution of points\n",
    "sns.distplot(data['FD points'])"
   ]
  },
  {
   "cell_type": "code",
   "execution_count": 15,
   "metadata": {},
   "outputs": [
    {
     "name": "stderr",
     "output_type": "stream",
     "text": [
      "/Users/charleydixon/anaconda3/lib/python3.6/site-packages/matplotlib/axes/_axes.py:6499: MatplotlibDeprecationWarning: \n",
      "The 'normed' kwarg was deprecated in Matplotlib 2.1 and will be removed in 3.1. Use 'density' instead.\n",
      "  alternative=\"'density'\", removal=\"3.1\")\n"
     ]
    },
    {
     "data": {
      "text/plain": [
       "<matplotlib.axes._subplots.AxesSubplot at 0x1a18a17160>"
      ]
     },
     "execution_count": 15,
     "metadata": {},
     "output_type": "execute_result"
    },
    {
     "data": {
      "image/png": "[encoded data removed]",
      "text/plain": [
       "<Figure size 432x288 with 1 Axes>"
      ]
     },
     "metadata": {},
     "output_type": "display_data"
    }
   ],
   "source": [
    "# let's remove anything at or below zero\n",
    "sns.distplot(data[data['FD points'] > 0]['FD points'])"
   ]
  },
  {
   "cell_type": "code",
   "execution_count": 16,
   "metadata": {},
   "outputs": [
    {
     "name": "stderr",
     "output_type": "stream",
     "text": [
      "/Users/charleydixon/anaconda3/lib/python3.6/site-packages/matplotlib/axes/_axes.py:6499: MatplotlibDeprecationWarning: \n",
      "The 'normed' kwarg was deprecated in Matplotlib 2.1 and will be removed in 3.1. Use 'density' instead.\n",
      "  alternative=\"'density'\", removal=\"3.1\")\n"
     ]
    },
    {
     "data": {
      "text/plain": [
       "<matplotlib.axes._subplots.AxesSubplot at 0x1a18b1ff98>"
      ]
     },
     "execution_count": 16,
     "metadata": {},
     "output_type": "execute_result"
    },
    {
     "data": {
      "image/png": "[encoded data removed]",
      "text/plain": [
       "<Figure size 432x288 with 1 Axes>"
      ]
     },
     "metadata": {},
     "output_type": "display_data"
    }
   ],
   "source": [
    "# what about removing things at or below 1?\n",
    "sns.distplot(data[data['FD points'] > 1]['FD points'])"
   ]
  },
  {
   "cell_type": "markdown",
   "metadata": {},
   "source": [
    "> So a lot of these low values are likely due to situations where an injury occurred or a backup came in for a brief stint. Ultimately, my goal is to predict the best lineups which means I would not be trying to get these players anyway. Let's see what removing them would do to our dataset "
   ]
  },
  {
   "cell_type": "code",
   "execution_count": 17,
   "metadata": {},
   "outputs": [
    {
     "name": "stdout",
     "output_type": "stream",
     "text": [
      "Dropping observations with 1 point or less removes 575 ( 0.13902321083172142 percent) data points\n"
     ]
    }
   ],
   "source": [
    "print('Dropping observations with 1 point or less removes', \n",
    "      data.shape[0] - data[data['FD points'] > 1].shape[0], '(',\n",
    "      1 - (data[data['FD points'] > 1].shape[0] / data.shape[0]), 'percent)',\n",
    "      'data points')"
   ]
  },
  {
   "cell_type": "code",
   "execution_count": 18,
   "metadata": {},
   "outputs": [
    {
     "name": "stdout",
     "output_type": "stream",
     "text": [
      "Dropping observations with 0 points or less removes 435 ( 0.10517408123791105 percent) data points\n"
     ]
    }
   ],
   "source": [
    "print('Dropping observations with 0 points or less removes', \n",
    "      data.shape[0] - data[data['FD points'] > 0].shape[0], '(',\n",
    "      1 - (data[data['FD points'] > 0].shape[0] / data.shape[0]), 'percent)',\n",
    "      'data points')"
   ]
  },
  {
   "cell_type": "markdown",
   "metadata": {},
   "source": [
    "> Being that the lack of data is a real problem for NFL data, I am going to move forward for now without removing any values. Those zero values could end up being important in some way."
   ]
  },
  {
   "cell_type": "code",
   "execution_count": 19,
   "metadata": {},
   "outputs": [
    {
     "data": {
      "text/plain": [
       "Text(0.5, 1.0, 'Points scored based on Salary')"
      ]
     },
     "execution_count": 19,
     "metadata": {},
     "output_type": "execute_result"
    },
    {
     "data": {
      "image/png": "[encoded data removed]",
      "text/plain": [
       "<Figure size 432x288 with 1 Axes>"
      ]
     },
     "metadata": {},
     "output_type": "display_data"
    }
   ],
   "source": [
    "# how do \n",
    "sns.regplot(data['FD points'], data['FD salary'], scatter_kws = {'alpha': 0.2}).set_title('Points scored based on Salary')"
   ]
  },
  {
   "cell_type": "markdown",
   "metadata": {},
   "source": [
    "### ISSUE: MULTICOLLINEARITY"
   ]
  },
  {
   "cell_type": "code",
   "execution_count": 20,
   "metadata": {},
   "outputs": [
    {
     "data": {
      "text/plain": [
       "<matplotlib.axes._subplots.AxesSubplot at 0x1a1696bac8>"
      ]
     },
     "execution_count": 20,
     "metadata": {},
     "output_type": "execute_result"
    },
    {
     "data": {
      "image/png": "[encoded data removed]",
      "text/plain": [
       "<Figure size 432x288 with 2 Axes>"
      ]
     },
     "metadata": {},
     "output_type": "display_data"
    }
   ],
   "source": [
    "sns.heatmap(data.corr())"
   ]
  },
  {
   "cell_type": "code",
   "execution_count": 21,
   "metadata": {
    "scrolled": true
   },
   "outputs": [
    {
     "data": {
      "image/png": "[encoded data removed]",
      "text/plain": [
       "<Figure size 432x288 with 1 Axes>"
      ]
     },
     "metadata": {},
     "output_type": "display_data"
    }
   ],
   "source": [
    "sns.regplot(data['Opp_Avg_Att_Allowed'], data['Opp_Avg_Comp_Allowed']).set_title('Opponents Completions Allowed vs. Attempts Allowed');"
   ]
  },
  {
   "cell_type": "code",
   "execution_count": 22,
   "metadata": {},
   "outputs": [
    {
     "data": {
      "image/png": "[encoded data removed]",
      "text/plain": [
       "<Figure size 432x288 with 1 Axes>"
      ]
     },
     "metadata": {},
     "output_type": "display_data"
    }
   ],
   "source": [
    "sns.regplot(data['Opp_Avg_Att_Allowed'], data['Opp_Avg_Yds_Allowed']).set_title('Opponents Yards Allowed vs. Attempts Allowed');"
   ]
  },
  {
   "cell_type": "code",
   "execution_count": 23,
   "metadata": {},
   "outputs": [
    {
     "data": {
      "image/png": "[encoded data removed]",
      "text/plain": [
       "<Figure size 432x288 with 1 Axes>"
      ]
     },
     "metadata": {},
     "output_type": "display_data"
    }
   ],
   "source": [
    "sns.regplot(data['Opp_Avg_Yds_Allowed'], data['Opp_Avg_Comp_Allowed']).set_title('Opponents Completions Allowed vs. Yards Allowed');"
   ]
  },
  {
   "cell_type": "code",
   "execution_count": 24,
   "metadata": {},
   "outputs": [],
   "source": [
    "data.to_csv('../data/qbs_modeling.csv')"
   ]
  },
  {
   "cell_type": "code",
   "execution_count": 25,
   "metadata": {},
   "outputs": [
    {
     "data": {
      "text/html": [
       "<div>\n",
       "<style scoped>\n",
       "    .dataframe tbody tr th:only-of-type {\n",
       "        vertical-align: middle;\n",
       "    }\n",
       "\n",
       "    .dataframe tbody tr th {\n",
       "        vertical-align: top;\n",
       "    }\n",
       "\n",
       "    .dataframe thead th {\n",
       "        text-align: right;\n",
       "    }\n",
       "</style>\n",
       "<table border=\"1\" class=\"dataframe\">\n",
       "  <thead>\n",
       "    <tr style=\"text-align: right;\">\n",
       "      <th></th>\n",
       "      <th>Name</th>\n",
       "      <th>Week</th>\n",
       "      <th>Year</th>\n",
       "      <th>Team</th>\n",
       "      <th>Oppt</th>\n",
       "      <th>h/a</th>\n",
       "      <th>FD points</th>\n",
       "      <th>FD salary</th>\n",
       "      <th>Opp_Avg_Att_Allowed</th>\n",
       "      <th>Opp_Avg_Comp_Allowed</th>\n",
       "      <th>...</th>\n",
       "      <th>Temperature</th>\n",
       "      <th>Wind</th>\n",
       "      <th>Weather_DOME</th>\n",
       "      <th>Weather_Fog</th>\n",
       "      <th>Weather_Rain</th>\n",
       "      <th>Weather_Rain | Fog</th>\n",
       "      <th>Weather_Snow</th>\n",
       "      <th>Weather_Snow | Fog</th>\n",
       "      <th>Weather_Snow | Freezing Rain</th>\n",
       "      <th>Weather_Sunny</th>\n",
       "    </tr>\n",
       "  </thead>\n",
       "  <tbody>\n",
       "    <tr>\n",
       "      <th>0</th>\n",
       "      <td>Anderson, Derek</td>\n",
       "      <td>3</td>\n",
       "      <td>2012</td>\n",
       "      <td>CAR</td>\n",
       "      <td>NYG</td>\n",
       "      <td>1</td>\n",
       "      <td>1.84</td>\n",
       "      <td>5000.0</td>\n",
       "      <td>36.5</td>\n",
       "      <td>23.5</td>\n",
       "      <td>...</td>\n",
       "      <td>75.0</td>\n",
       "      <td>3.0</td>\n",
       "      <td>0</td>\n",
       "      <td>0</td>\n",
       "      <td>0</td>\n",
       "      <td>0</td>\n",
       "      <td>0</td>\n",
       "      <td>0</td>\n",
       "      <td>0</td>\n",
       "      <td>1</td>\n",
       "    </tr>\n",
       "    <tr>\n",
       "      <th>1</th>\n",
       "      <td>Anderson, Derek</td>\n",
       "      <td>3</td>\n",
       "      <td>2013</td>\n",
       "      <td>CAR</td>\n",
       "      <td>NYG</td>\n",
       "      <td>1</td>\n",
       "      <td>-0.10</td>\n",
       "      <td>0.0</td>\n",
       "      <td>36.0</td>\n",
       "      <td>26.0</td>\n",
       "      <td>...</td>\n",
       "      <td>77.0</td>\n",
       "      <td>15.0</td>\n",
       "      <td>0</td>\n",
       "      <td>0</td>\n",
       "      <td>0</td>\n",
       "      <td>0</td>\n",
       "      <td>0</td>\n",
       "      <td>0</td>\n",
       "      <td>0</td>\n",
       "      <td>1</td>\n",
       "    </tr>\n",
       "    <tr>\n",
       "      <th>2</th>\n",
       "      <td>Anderson, Derek</td>\n",
       "      <td>3</td>\n",
       "      <td>2014</td>\n",
       "      <td>CAR</td>\n",
       "      <td>PIT</td>\n",
       "      <td>1</td>\n",
       "      <td>7.20</td>\n",
       "      <td>5800.0</td>\n",
       "      <td>41.5</td>\n",
       "      <td>24.5</td>\n",
       "      <td>...</td>\n",
       "      <td>74.0</td>\n",
       "      <td>3.0</td>\n",
       "      <td>0</td>\n",
       "      <td>0</td>\n",
       "      <td>0</td>\n",
       "      <td>0</td>\n",
       "      <td>0</td>\n",
       "      <td>0</td>\n",
       "      <td>0</td>\n",
       "      <td>1</td>\n",
       "    </tr>\n",
       "    <tr>\n",
       "      <th>3</th>\n",
       "      <td>Anderson, Derek</td>\n",
       "      <td>3</td>\n",
       "      <td>2016</td>\n",
       "      <td>CAR</td>\n",
       "      <td>MIN</td>\n",
       "      <td>1</td>\n",
       "      <td>0.12</td>\n",
       "      <td>5000.0</td>\n",
       "      <td>31.0</td>\n",
       "      <td>17.5</td>\n",
       "      <td>...</td>\n",
       "      <td>84.0</td>\n",
       "      <td>2.0</td>\n",
       "      <td>0</td>\n",
       "      <td>0</td>\n",
       "      <td>0</td>\n",
       "      <td>0</td>\n",
       "      <td>0</td>\n",
       "      <td>0</td>\n",
       "      <td>0</td>\n",
       "      <td>1</td>\n",
       "    </tr>\n",
       "    <tr>\n",
       "      <th>4</th>\n",
       "      <td>Anderson, Derek</td>\n",
       "      <td>3</td>\n",
       "      <td>2017</td>\n",
       "      <td>CAR</td>\n",
       "      <td>NO</td>\n",
       "      <td>1</td>\n",
       "      <td>0.68</td>\n",
       "      <td>6000.0</td>\n",
       "      <td>30.0</td>\n",
       "      <td>20.5</td>\n",
       "      <td>...</td>\n",
       "      <td>83.0</td>\n",
       "      <td>6.0</td>\n",
       "      <td>0</td>\n",
       "      <td>0</td>\n",
       "      <td>0</td>\n",
       "      <td>0</td>\n",
       "      <td>0</td>\n",
       "      <td>0</td>\n",
       "      <td>0</td>\n",
       "      <td>1</td>\n",
       "    </tr>\n",
       "  </tbody>\n",
       "</table>\n",
       "<p>5 rows × 27 columns</p>\n",
       "</div>"
      ],
      "text/plain": [
       "              Name  Week  Year Team Oppt  h/a  FD points  FD salary  \\\n",
       "0  Anderson, Derek     3  2012  CAR  NYG    1       1.84     5000.0   \n",
       "1  Anderson, Derek     3  2013  CAR  NYG    1      -0.10        0.0   \n",
       "2  Anderson, Derek     3  2014  CAR  PIT    1       7.20     5800.0   \n",
       "3  Anderson, Derek     3  2016  CAR  MIN    1       0.12     5000.0   \n",
       "4  Anderson, Derek     3  2017  CAR   NO    1       0.68     6000.0   \n",
       "\n",
       "   Opp_Avg_Att_Allowed  Opp_Avg_Comp_Allowed      ...        Temperature  \\\n",
       "0                 36.5                  23.5      ...               75.0   \n",
       "1                 36.0                  26.0      ...               77.0   \n",
       "2                 41.5                  24.5      ...               74.0   \n",
       "3                 31.0                  17.5      ...               84.0   \n",
       "4                 30.0                  20.5      ...               83.0   \n",
       "\n",
       "   Wind  Weather_DOME  Weather_Fog  Weather_Rain  Weather_Rain | Fog  \\\n",
       "0   3.0             0            0             0                   0   \n",
       "1  15.0             0            0             0                   0   \n",
       "2   3.0             0            0             0                   0   \n",
       "3   2.0             0            0             0                   0   \n",
       "4   6.0             0            0             0                   0   \n",
       "\n",
       "   Weather_Snow  Weather_Snow | Fog  Weather_Snow | Freezing Rain  \\\n",
       "0             0                   0                             0   \n",
       "1             0                   0                             0   \n",
       "2             0                   0                             0   \n",
       "3             0                   0                             0   \n",
       "4             0                   0                             0   \n",
       "\n",
       "   Weather_Sunny  \n",
       "0              1  \n",
       "1              1  \n",
       "2              1  \n",
       "3              1  \n",
       "4              1  \n",
       "\n",
       "[5 rows x 27 columns]"
      ]
     },
     "execution_count": 25,
     "metadata": {},
     "output_type": "execute_result"
    }
   ],
   "source": [
    "check = pd.read_csv('../data/qbs_modeling.csv')\n",
    "check.head()"
   ]
  },
  {
   "cell_type": "code",
   "execution_count": 26,
   "metadata": {},
   "outputs": [
    {
     "data": {
      "text/html": [
       "<div>\n",
       "<style scoped>\n",
       "    .dataframe tbody tr th:only-of-type {\n",
       "        vertical-align: middle;\n",
       "    }\n",
       "\n",
       "    .dataframe tbody tr th {\n",
       "        vertical-align: top;\n",
       "    }\n",
       "\n",
       "    .dataframe thead th {\n",
       "        text-align: right;\n",
       "    }\n",
       "</style>\n",
       "<table border=\"1\" class=\"dataframe\">\n",
       "  <thead>\n",
       "    <tr style=\"text-align: right;\">\n",
       "      <th></th>\n",
       "      <th></th>\n",
       "      <th></th>\n",
       "      <th></th>\n",
       "      <th></th>\n",
       "      <th>h/a</th>\n",
       "      <th>FD points</th>\n",
       "      <th>FD salary</th>\n",
       "      <th>Opp_Avg_Att_Allowed</th>\n",
       "      <th>Opp_Avg_Comp_Allowed</th>\n",
       "      <th>Opp_Avg_Ints</th>\n",
       "      <th>Opp_Rank</th>\n",
       "      <th>Opp_Avg_TDs_Allowed</th>\n",
       "      <th>Opp_Avg_Yds_Allowed</th>\n",
       "      <th>Favored</th>\n",
       "      <th>...</th>\n",
       "      <th>Temperature</th>\n",
       "      <th>Wind</th>\n",
       "      <th>Weather_DOME</th>\n",
       "      <th>Weather_Fog</th>\n",
       "      <th>Weather_Rain</th>\n",
       "      <th>Weather_Rain | Fog</th>\n",
       "      <th>Weather_Snow</th>\n",
       "      <th>Weather_Snow | Fog</th>\n",
       "      <th>Weather_Snow | Freezing Rain</th>\n",
       "      <th>Weather_Sunny</th>\n",
       "    </tr>\n",
       "    <tr>\n",
       "      <th>Name</th>\n",
       "      <th>Week</th>\n",
       "      <th>Year</th>\n",
       "      <th>Team</th>\n",
       "      <th>Oppt</th>\n",
       "      <th></th>\n",
       "      <th></th>\n",
       "      <th></th>\n",
       "      <th></th>\n",
       "      <th></th>\n",
       "      <th></th>\n",
       "      <th></th>\n",
       "      <th></th>\n",
       "      <th></th>\n",
       "      <th></th>\n",
       "      <th></th>\n",
       "      <th></th>\n",
       "      <th></th>\n",
       "      <th></th>\n",
       "      <th></th>\n",
       "      <th></th>\n",
       "      <th></th>\n",
       "      <th></th>\n",
       "      <th></th>\n",
       "      <th></th>\n",
       "      <th></th>\n",
       "    </tr>\n",
       "  </thead>\n",
       "  <tbody>\n",
       "    <tr>\n",
       "      <th rowspan=\"5\" valign=\"top\">Anderson, Derek</th>\n",
       "      <th rowspan=\"5\" valign=\"top\">3</th>\n",
       "      <th>2012</th>\n",
       "      <th>CAR</th>\n",
       "      <th>NYG</th>\n",
       "      <td>1</td>\n",
       "      <td>1.84</td>\n",
       "      <td>5000.0</td>\n",
       "      <td>36.5</td>\n",
       "      <td>23.5</td>\n",
       "      <td>1.0</td>\n",
       "      <td>17</td>\n",
       "      <td>1.0</td>\n",
       "      <td>231.5</td>\n",
       "      <td>1</td>\n",
       "      <td>...</td>\n",
       "      <td>75.0</td>\n",
       "      <td>3.0</td>\n",
       "      <td>0</td>\n",
       "      <td>0</td>\n",
       "      <td>0</td>\n",
       "      <td>0</td>\n",
       "      <td>0</td>\n",
       "      <td>0</td>\n",
       "      <td>0</td>\n",
       "      <td>1</td>\n",
       "    </tr>\n",
       "    <tr>\n",
       "      <th>2013</th>\n",
       "      <th>CAR</th>\n",
       "      <th>NYG</th>\n",
       "      <td>1</td>\n",
       "      <td>-0.10</td>\n",
       "      <td>0.0</td>\n",
       "      <td>36.0</td>\n",
       "      <td>26.0</td>\n",
       "      <td>0.5</td>\n",
       "      <td>32</td>\n",
       "      <td>1.0</td>\n",
       "      <td>308.0</td>\n",
       "      <td>0</td>\n",
       "      <td>...</td>\n",
       "      <td>77.0</td>\n",
       "      <td>15.0</td>\n",
       "      <td>0</td>\n",
       "      <td>0</td>\n",
       "      <td>0</td>\n",
       "      <td>0</td>\n",
       "      <td>0</td>\n",
       "      <td>0</td>\n",
       "      <td>0</td>\n",
       "      <td>1</td>\n",
       "    </tr>\n",
       "    <tr>\n",
       "      <th>2014</th>\n",
       "      <th>CAR</th>\n",
       "      <th>PIT</th>\n",
       "      <td>1</td>\n",
       "      <td>7.20</td>\n",
       "      <td>5800.0</td>\n",
       "      <td>41.5</td>\n",
       "      <td>24.5</td>\n",
       "      <td>1.5</td>\n",
       "      <td>20</td>\n",
       "      <td>1.5</td>\n",
       "      <td>237.0</td>\n",
       "      <td>1</td>\n",
       "      <td>...</td>\n",
       "      <td>74.0</td>\n",
       "      <td>3.0</td>\n",
       "      <td>0</td>\n",
       "      <td>0</td>\n",
       "      <td>0</td>\n",
       "      <td>0</td>\n",
       "      <td>0</td>\n",
       "      <td>0</td>\n",
       "      <td>0</td>\n",
       "      <td>1</td>\n",
       "    </tr>\n",
       "    <tr>\n",
       "      <th>2016</th>\n",
       "      <th>CAR</th>\n",
       "      <th>MIN</th>\n",
       "      <td>1</td>\n",
       "      <td>0.12</td>\n",
       "      <td>5000.0</td>\n",
       "      <td>31.0</td>\n",
       "      <td>17.5</td>\n",
       "      <td>2.0</td>\n",
       "      <td>24</td>\n",
       "      <td>1.5</td>\n",
       "      <td>210.5</td>\n",
       "      <td>1</td>\n",
       "      <td>...</td>\n",
       "      <td>84.0</td>\n",
       "      <td>2.0</td>\n",
       "      <td>0</td>\n",
       "      <td>0</td>\n",
       "      <td>0</td>\n",
       "      <td>0</td>\n",
       "      <td>0</td>\n",
       "      <td>0</td>\n",
       "      <td>0</td>\n",
       "      <td>1</td>\n",
       "    </tr>\n",
       "    <tr>\n",
       "      <th>2017</th>\n",
       "      <th>CAR</th>\n",
       "      <th>NO</th>\n",
       "      <td>1</td>\n",
       "      <td>0.68</td>\n",
       "      <td>6000.0</td>\n",
       "      <td>30.0</td>\n",
       "      <td>20.5</td>\n",
       "      <td>0.5</td>\n",
       "      <td>14</td>\n",
       "      <td>0.0</td>\n",
       "      <td>159.0</td>\n",
       "      <td>1</td>\n",
       "      <td>...</td>\n",
       "      <td>83.0</td>\n",
       "      <td>6.0</td>\n",
       "      <td>0</td>\n",
       "      <td>0</td>\n",
       "      <td>0</td>\n",
       "      <td>0</td>\n",
       "      <td>0</td>\n",
       "      <td>0</td>\n",
       "      <td>0</td>\n",
       "      <td>1</td>\n",
       "    </tr>\n",
       "  </tbody>\n",
       "</table>\n",
       "<p>5 rows × 22 columns</p>\n",
       "</div>"
      ],
      "text/plain": [
       "                                     h/a  FD points  FD salary  \\\n",
       "Name            Week Year Team Oppt                              \n",
       "Anderson, Derek 3    2012 CAR  NYG     1       1.84     5000.0   \n",
       "                     2013 CAR  NYG     1      -0.10        0.0   \n",
       "                     2014 CAR  PIT     1       7.20     5800.0   \n",
       "                     2016 CAR  MIN     1       0.12     5000.0   \n",
       "                     2017 CAR  NO      1       0.68     6000.0   \n",
       "\n",
       "                                     Opp_Avg_Att_Allowed  \\\n",
       "Name            Week Year Team Oppt                        \n",
       "Anderson, Derek 3    2012 CAR  NYG                  36.5   \n",
       "                     2013 CAR  NYG                  36.0   \n",
       "                     2014 CAR  PIT                  41.5   \n",
       "                     2016 CAR  MIN                  31.0   \n",
       "                     2017 CAR  NO                   30.0   \n",
       "\n",
       "                                     Opp_Avg_Comp_Allowed  Opp_Avg_Ints  \\\n",
       "Name            Week Year Team Oppt                                       \n",
       "Anderson, Derek 3    2012 CAR  NYG                   23.5           1.0   \n",
       "                     2013 CAR  NYG                   26.0           0.5   \n",
       "                     2014 CAR  PIT                   24.5           1.5   \n",
       "                     2016 CAR  MIN                   17.5           2.0   \n",
       "                     2017 CAR  NO                    20.5           0.5   \n",
       "\n",
       "                                     Opp_Rank  Opp_Avg_TDs_Allowed  \\\n",
       "Name            Week Year Team Oppt                                  \n",
       "Anderson, Derek 3    2012 CAR  NYG         17                  1.0   \n",
       "                     2013 CAR  NYG         32                  1.0   \n",
       "                     2014 CAR  PIT         20                  1.5   \n",
       "                     2016 CAR  MIN         24                  1.5   \n",
       "                     2017 CAR  NO          14                  0.0   \n",
       "\n",
       "                                     Opp_Avg_Yds_Allowed  Favored  \\\n",
       "Name            Week Year Team Oppt                                 \n",
       "Anderson, Derek 3    2012 CAR  NYG                 231.5        1   \n",
       "                     2013 CAR  NYG                 308.0        0   \n",
       "                     2014 CAR  PIT                 237.0        1   \n",
       "                     2016 CAR  MIN                 210.5        1   \n",
       "                     2017 CAR  NO                  159.0        1   \n",
       "\n",
       "                                         ...        Temperature  Wind  \\\n",
       "Name            Week Year Team Oppt      ...                            \n",
       "Anderson, Derek 3    2012 CAR  NYG       ...               75.0   3.0   \n",
       "                     2013 CAR  NYG       ...               77.0  15.0   \n",
       "                     2014 CAR  PIT       ...               74.0   3.0   \n",
       "                     2016 CAR  MIN       ...               84.0   2.0   \n",
       "                     2017 CAR  NO        ...               83.0   6.0   \n",
       "\n",
       "                                     Weather_DOME  Weather_Fog  Weather_Rain  \\\n",
       "Name            Week Year Team Oppt                                            \n",
       "Anderson, Derek 3    2012 CAR  NYG              0            0             0   \n",
       "                     2013 CAR  NYG              0            0             0   \n",
       "                     2014 CAR  PIT              0            0             0   \n",
       "                     2016 CAR  MIN              0            0             0   \n",
       "                     2017 CAR  NO               0            0             0   \n",
       "\n",
       "                                     Weather_Rain | Fog  Weather_Snow  \\\n",
       "Name            Week Year Team Oppt                                     \n",
       "Anderson, Derek 3    2012 CAR  NYG                    0             0   \n",
       "                     2013 CAR  NYG                    0             0   \n",
       "                     2014 CAR  PIT                    0             0   \n",
       "                     2016 CAR  MIN                    0             0   \n",
       "                     2017 CAR  NO                     0             0   \n",
       "\n",
       "                                     Weather_Snow | Fog  \\\n",
       "Name            Week Year Team Oppt                       \n",
       "Anderson, Derek 3    2012 CAR  NYG                    0   \n",
       "                     2013 CAR  NYG                    0   \n",
       "                     2014 CAR  PIT                    0   \n",
       "                     2016 CAR  MIN                    0   \n",
       "                     2017 CAR  NO                     0   \n",
       "\n",
       "                                     Weather_Snow | Freezing Rain  \\\n",
       "Name            Week Year Team Oppt                                 \n",
       "Anderson, Derek 3    2012 CAR  NYG                              0   \n",
       "                     2013 CAR  NYG                              0   \n",
       "                     2014 CAR  PIT                              0   \n",
       "                     2016 CAR  MIN                              0   \n",
       "                     2017 CAR  NO                               0   \n",
       "\n",
       "                                     Weather_Sunny  \n",
       "Name            Week Year Team Oppt                 \n",
       "Anderson, Derek 3    2012 CAR  NYG               1  \n",
       "                     2013 CAR  NYG               1  \n",
       "                     2014 CAR  PIT               1  \n",
       "                     2016 CAR  MIN               1  \n",
       "                     2017 CAR  NO                1  \n",
       "\n",
       "[5 rows x 22 columns]"
      ]
     },
     "execution_count": 26,
     "metadata": {},
     "output_type": "execute_result"
    }
   ],
   "source": [
    "data.head()"
   ]
  },
  {
   "cell_type": "markdown",
   "metadata": {},
   "source": [
    "### First Swag @ Modeling"
   ]
  },
  {
   "cell_type": "code",
   "execution_count": 102,
   "metadata": {},
   "outputs": [],
   "source": [
    "from sklearn.linear_model import LinearRegression\n",
    "from sklearn.metrics import mean_squared_error\n",
    "from sklearn.model_selection import train_test_split\n",
    "\n",
    "%matplotlib inline "
   ]
  },
  {
   "cell_type": "code",
   "execution_count": null,
   "metadata": {},
   "outputs": [],
   "source": [
    "features = ['h/a', 'Opp_Avg_Att_Allowed', 'Opp_Avg_Comp_Allowed', 'Opp_Avg_Ints', 'Opp_Rank', 'Opp_Avg_TDs_Allowed',\n",
    "            'Opp_Avg_Yds_Allowed', 'Favored', 'Spread', 'O/U', 'Temperature', 'Wind', 'Weather_DOME', 'Weather_Fog',\n",
    "            'Weather_Rain', 'Weather_Rain | Fog', 'Weather_Snow','Weather_Snow | Fog', 'Weather_Snow | Freezing Rain', \n",
    "            'Weather_Sunny']"
   ]
  },
  {
   "cell_type": "code",
   "execution_count": 57,
   "metadata": {},
   "outputs": [],
   "source": [
    "X = data[features]\n",
    "y = data['FD points']\n",
    "\n",
    "X_train, X_test, y_train, y_test = train_test_split(X, y, random_state = 42)"
   ]
  },
  {
   "cell_type": "code",
   "execution_count": 58,
   "metadata": {},
   "outputs": [
    {
     "data": {
      "text/plain": [
       "LinearRegression(copy_X=True, fit_intercept=True, n_jobs=1, normalize=False)"
      ]
     },
     "execution_count": 58,
     "metadata": {},
     "output_type": "execute_result"
    }
   ],
   "source": [
    "model = linear_model.LinearRegression()\n",
    "model.fit(X_train, y_train)"
   ]
  },
  {
   "cell_type": "markdown",
   "metadata": {},
   "source": [
    "#### Evaluation\n",
    "Using RMSE to test for overfitting, and looking at the MAE distribution to get a better idea of the model's accuracy."
   ]
  },
  {
   "cell_type": "code",
   "execution_count": 97,
   "metadata": {
    "scrolled": true
   },
   "outputs": [
    {
     "data": {
      "text/plain": [
       "0.048505050895682245"
      ]
     },
     "execution_count": 97,
     "metadata": {},
     "output_type": "execute_result"
    }
   ],
   "source": [
    "# training score\n",
    "model.score(X_train, y_train)"
   ]
  },
  {
   "cell_type": "code",
   "execution_count": 60,
   "metadata": {},
   "outputs": [
    {
     "data": {
      "text/plain": [
       "0.02602491954581831"
      ]
     },
     "execution_count": 60,
     "metadata": {},
     "output_type": "execute_result"
    }
   ],
   "source": [
    "# testing score\n",
    "model.score(X_test, y_test)"
   ]
  },
  {
   "cell_type": "markdown",
   "metadata": {},
   "source": [
    "> As you can see above, this is not the type of problem that R2 scores are going to be of much use. I don't really care to explain the variance in this data, I know that it will be tough due to human error. Let's instead look at the distribution of my residuals."
   ]
  },
  {
   "cell_type": "code",
   "execution_count": 61,
   "metadata": {},
   "outputs": [],
   "source": [
    "predictions = model.predict(X_test)"
   ]
  },
  {
   "cell_type": "code",
   "execution_count": 95,
   "metadata": {},
   "outputs": [],
   "source": [
    "def mae_distribution(y_pred, y_test = y_test):\n",
    "    # check to make sure you've input the right stuff\n",
    "    if len(y_pred) == len(y_test):\n",
    "        comparison_df = pd.DataFrame(y_test)\n",
    "        target = comparison_df.columns[0]\n",
    "        comparison_df['Predictions'] = y_pred\n",
    "        comparison_df['Mean Absolute Error'] = abs(comparison_df[target] - comparison_df['Predictions'])\n",
    "        print(comparison_df[['Mean Absolute Error']].describe()[1:])\n",
    "        return sns.distplot(comparison_df['Mean Absolute Error']);\n",
    "    else:\n",
    "        print('Length of predicted values does not meet length of actual values... check your data')"
   ]
  },
  {
   "cell_type": "code",
   "execution_count": 96,
   "metadata": {
    "scrolled": true
   },
   "outputs": [
    {
     "name": "stdout",
     "output_type": "stream",
     "text": [
      "      Mean Absolute Error\n",
      "mean             7.363812\n",
      "std              5.498217\n",
      "min              0.001814\n",
      "25%              2.731515\n",
      "50%              6.093326\n",
      "75%             11.677462\n",
      "max             29.867974\n"
     ]
    },
    {
     "name": "stderr",
     "output_type": "stream",
     "text": [
      "/Users/charleydixon/anaconda3/lib/python3.6/site-packages/scipy/stats/stats.py:1713: FutureWarning: Using a non-tuple sequence for multidimensional indexing is deprecated; use `arr[tuple(seq)]` instead of `arr[seq]`. In the future this will be interpreted as an array index, `arr[np.array(seq)]`, which will result either in an error or a different result.\n",
      "  return np.add.reduce(sorted[indexer] * weights, axis=axis) / sumval\n",
      "/Users/charleydixon/anaconda3/lib/python3.6/site-packages/matplotlib/axes/_axes.py:6499: MatplotlibDeprecationWarning: \n",
      "The 'normed' kwarg was deprecated in Matplotlib 2.1 and will be removed in 3.1. Use 'density' instead.\n",
      "  alternative=\"'density'\", removal=\"3.1\")\n"
     ]
    },
    {
     "data": {
      "text/plain": [
       "<matplotlib.axes._subplots.AxesSubplot at 0x1a28fc0208>"
      ]
     },
     "execution_count": 96,
     "metadata": {},
     "output_type": "execute_result"
    },
    {
     "data": {
      "image/png": "[encoded data removed]",
      "text/plain": [
       "<Figure size 432x288 with 1 Axes>"
      ]
     },
     "metadata": {},
     "output_type": "display_data"
    }
   ],
   "source": [
    "mae_distribution(predictions)"
   ]
  },
  {
   "cell_type": "markdown",
   "metadata": {},
   "source": [
    "> Alright this is NOT great. Being off by an average of 7.36 points isn't very good to begin with, and look at the standard deviation... YIKES. I think what this is telling me is that the model needs more information. I'm going to have to collect player statistics and roll them up to each game, just like I did with the defensive data."
   ]
  },
  {
   "cell_type": "code",
   "execution_count": 107,
   "metadata": {},
   "outputs": [],
   "source": [
    "def run_model(X, y, model):\n",
    "    # model fitting\n",
    "    X_train, X_test, y_train, y_test = train_test_split(X, y, random_state = 42)\n",
    "    model = model\n",
    "    model.fit(X_train, y_train)\n",
    "    \n",
    "    # predicting\n",
    "    training_preds = model.predict(X_train)\n",
    "    testing_preds = model.predict(X_test)\n",
    "    print('Training RMSE:', np.sqrt(mean_squared_error(y_train, training_preds)))\n",
    "    print('Testing RMSE:', np.sqrt(mean_squared_error(y_test, testing_preds)))\n",
    "    return testing_preds"
   ]
  },
  {
   "cell_type": "code",
   "execution_count": null,
   "metadata": {},
   "outputs": [],
   "source": [
    "features = ['h/a', 'Opp_Avg_Att_Allowed', 'Opp_Avg_Comp_Allowed', 'Opp_Avg_Ints', 'Opp_Rank', 'Opp_Avg_TDs_Allowed',\n",
    "            'Opp_Avg_Yds_Allowed', 'Favored', 'Spread', 'O/U', 'Temperature', 'Wind', 'Weather_DOME', 'Weather_Fog',\n",
    "            'Weather_Rain', 'Weather_Rain | Fog', 'Weather_Snow','Weather_Snow | Fog', 'Weather_Snow | Freezing Rain', \n",
    "            'Weather_Sunny']\n",
    "\n",
    "X = data[features]\n",
    "y = data['FD points']"
   ]
  }
 ],
 "metadata": {
  "kernelspec": {
   "display_name": "Python 3",
   "language": "python",
   "name": "python3"
  },
  "language_info": {
   "codemirror_mode": {
    "name": "ipython",
    "version": 3
   },
   "file_extension": ".py",
   "mimetype": "text/x-python",
   "name": "python",
   "nbconvert_exporter": "python",
   "pygments_lexer": "ipython3",
   "version": "3.6.5"
  }
 },
 "nbformat": 4,
 "nbformat_minor": 2
}

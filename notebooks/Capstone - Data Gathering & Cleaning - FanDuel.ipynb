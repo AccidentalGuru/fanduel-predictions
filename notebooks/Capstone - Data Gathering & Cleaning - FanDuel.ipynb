{
 "cells": [
  {
   "cell_type": "markdown",
   "metadata": {},
   "source": [
    "# General Assembly DSI - Denver 2018\n",
    "## Capstone Project - DFS Model\n",
    "This is my capstone project at General Assembly's fifth [Data Science Immersive](https://generalassemb.ly/education/data-science-immersive) cohort in 2018. I am developing a model to assist in optimizing NFL lineups on the daily fantasy sports platforms [Draft Kings](https://www.draftkings.com/) and [Fan Duel](https://www.fanduel.com/).\n",
    "\n",
    "### Problem Statement\n",
    "\n",
    "Can we build a model to predict a football player’s fantasy football performance to estimate their value and implement the model in conjunction with a daily fantasy strategy to be profitable?"
   ]
  },
  {
   "cell_type": "markdown",
   "metadata": {},
   "source": [
    "### FanDuel Data Gathering and Cleaning\n",
    "\n",
    "I will be collecting various information about NFL games including:\n",
    "- Fanduel (thanks to [this guy](https://github.com/rogerfitz/tutorials/tree/master/draft-kings-history-scrape))\n",
    "    - [Fanduel Points & Pricing History from 2011 to 2017](http://rotoguru1.com/cgi-bin/fyday.pl?week=1&year=2011&game=fd) | Scrape"
   ]
  },
  {
   "cell_type": "code",
   "execution_count": 1,
   "metadata": {},
   "outputs": [],
   "source": [
    "import pandas as pd\n",
    "import numpy as np\n",
    "\n",
    "# the following imports were used to scrape fanduel & draftkings data\n",
    "# when they run they create a 'pycache' folder in my repo, so I have commented them out since gathering the data\n",
    "# import scraper\n",
    "# import io "
   ]
  },
  {
   "cell_type": "markdown",
   "metadata": {},
   "source": [
    "### Gathering"
   ]
  },
  {
   "cell_type": "markdown",
   "metadata": {},
   "source": [
    "#### Scraping Fan Duel"
   ]
  },
  {
   "cell_type": "code",
   "execution_count": 2,
   "metadata": {
    "scrolled": false
   },
   "outputs": [],
   "source": [
    "# Scraping Fan Duel Data\n",
    "# Don't want to run this by accident\n",
    "\n",
    "# url = 'http://rotoguru1.com/cgi-bin/fyday.pl?game=fd&scsv=1&week=WEEK&year=YEAR'\n",
    "# weeks = list(map(str, range(1,18)))\n",
    "# years = list(map(str, range(2011, 2018)))\n",
    "\n",
    "# fanduel = pd.DataFrame()\n",
    "\n",
    "# for yr in years:\n",
    "#     for wk in weeks:\n",
    "#         soup=scraper.soup(url.replace('WEEK',wk).replace('YEAR',yr))\n",
    "#         fanduel=pd.concat([fanduel,pd.read_csv(io.StringIO(soup.find(\"pre\").text),sep=\";\")])\n",
    "        \n",
    "# fanduel\n",
    "\n",
    "# fanduel.to_csv('../data/fanduel.csv', index = False)"
   ]
  },
  {
   "cell_type": "markdown",
   "metadata": {},
   "source": [
    "### Cleaning"
   ]
  },
  {
   "cell_type": "code",
   "execution_count": 3,
   "metadata": {},
   "outputs": [],
   "source": [
    "# Read in Data\n",
    "fanduel = pd.read_csv('../data/fanduel.csv') # Fan Duel | Player, Salary, Points, 2011 to 2017"
   ]
  },
  {
   "cell_type": "code",
   "execution_count": 4,
   "metadata": {},
   "outputs": [
    {
     "name": "stdout",
     "output_type": "stream",
     "text": [
      "<class 'pandas.core.frame.DataFrame'>\n",
      "RangeIndex: 50954 entries, 0 to 50953\n",
      "Data columns (total 10 columns):\n",
      "Week         50954 non-null int64\n",
      "Year         50954 non-null int64\n",
      "GID          50954 non-null object\n",
      "Name         50951 non-null object\n",
      "Pos          50954 non-null object\n",
      "Team         50951 non-null object\n",
      "h/a          50954 non-null object\n",
      "Oppt         50951 non-null object\n",
      "FD points    50954 non-null float64\n",
      "FD salary    50878 non-null float64\n",
      "dtypes: float64(2), int64(2), object(6)\n",
      "memory usage: 3.9+ MB\n",
      "None\n"
     ]
    }
   ],
   "source": [
    "print(fanduel.info())"
   ]
  },
  {
   "cell_type": "code",
   "execution_count": 5,
   "metadata": {},
   "outputs": [
    {
     "name": "stdout",
     "output_type": "stream",
     "text": [
      "Week          0\n",
      "Year          0\n",
      "GID           0\n",
      "Name          3\n",
      "Pos           0\n",
      "Team          3\n",
      "h/a           0\n",
      "Oppt          3\n",
      "FD points     0\n",
      "FD salary    76\n",
      "dtype: int64\n"
     ]
    }
   ],
   "source": [
    "print(fanduel.isnull().sum())"
   ]
  },
  {
   "cell_type": "markdown",
   "metadata": {},
   "source": [
    "> I don't think you can really impute these values... I'm going to drop them."
   ]
  },
  {
   "cell_type": "code",
   "execution_count": 6,
   "metadata": {},
   "outputs": [],
   "source": [
    "fanduel.dropna(inplace = True)"
   ]
  },
  {
   "cell_type": "markdown",
   "metadata": {},
   "source": [
    "> Now going to format player names and teams like the dataframes above for joining"
   ]
  },
  {
   "cell_type": "code",
   "execution_count": 7,
   "metadata": {},
   "outputs": [
    {
     "data": {
      "text/html": [
       "<div>\n",
       "<style scoped>\n",
       "    .dataframe tbody tr th:only-of-type {\n",
       "        vertical-align: middle;\n",
       "    }\n",
       "\n",
       "    .dataframe tbody tr th {\n",
       "        vertical-align: top;\n",
       "    }\n",
       "\n",
       "    .dataframe thead th {\n",
       "        text-align: right;\n",
       "    }\n",
       "</style>\n",
       "<table border=\"1\" class=\"dataframe\">\n",
       "  <thead>\n",
       "    <tr style=\"text-align: right;\">\n",
       "      <th></th>\n",
       "      <th>Week</th>\n",
       "      <th>Year</th>\n",
       "      <th>GID</th>\n",
       "      <th>Name</th>\n",
       "      <th>Pos</th>\n",
       "      <th>Team</th>\n",
       "      <th>h/a</th>\n",
       "      <th>Oppt</th>\n",
       "      <th>FD points</th>\n",
       "      <th>FD salary</th>\n",
       "    </tr>\n",
       "  </thead>\n",
       "  <tbody>\n",
       "    <tr>\n",
       "      <th>0</th>\n",
       "      <td>1</td>\n",
       "      <td>2011</td>\n",
       "      <td>1131</td>\n",
       "      <td>Brady, Tom</td>\n",
       "      <td>QB</td>\n",
       "      <td>nwe</td>\n",
       "      <td>a</td>\n",
       "      <td>mia</td>\n",
       "      <td>35.98</td>\n",
       "      <td>9200.0</td>\n",
       "    </tr>\n",
       "    <tr>\n",
       "      <th>1</th>\n",
       "      <td>1</td>\n",
       "      <td>2011</td>\n",
       "      <td>1309</td>\n",
       "      <td>Henne, Chad</td>\n",
       "      <td>QB</td>\n",
       "      <td>mia</td>\n",
       "      <td>h</td>\n",
       "      <td>nwe</td>\n",
       "      <td>35.54</td>\n",
       "      <td>6800.0</td>\n",
       "    </tr>\n",
       "    <tr>\n",
       "      <th>2</th>\n",
       "      <td>1</td>\n",
       "      <td>2011</td>\n",
       "      <td>1378</td>\n",
       "      <td>Newton, Cam</td>\n",
       "      <td>QB</td>\n",
       "      <td>car</td>\n",
       "      <td>a</td>\n",
       "      <td>ari</td>\n",
       "      <td>31.68</td>\n",
       "      <td>6700.0</td>\n",
       "    </tr>\n",
       "    <tr>\n",
       "      <th>3</th>\n",
       "      <td>1</td>\n",
       "      <td>2011</td>\n",
       "      <td>1151</td>\n",
       "      <td>Brees, Drew</td>\n",
       "      <td>QB</td>\n",
       "      <td>nor</td>\n",
       "      <td>a</td>\n",
       "      <td>gnb</td>\n",
       "      <td>29.06</td>\n",
       "      <td>8900.0</td>\n",
       "    </tr>\n",
       "    <tr>\n",
       "      <th>4</th>\n",
       "      <td>1</td>\n",
       "      <td>2011</td>\n",
       "      <td>1242</td>\n",
       "      <td>Fitzpatrick, Ryan</td>\n",
       "      <td>QB</td>\n",
       "      <td>buf</td>\n",
       "      <td>a</td>\n",
       "      <td>kan</td>\n",
       "      <td>24.62</td>\n",
       "      <td>7900.0</td>\n",
       "    </tr>\n",
       "  </tbody>\n",
       "</table>\n",
       "</div>"
      ],
      "text/plain": [
       "   Week  Year   GID               Name Pos Team h/a Oppt  FD points  FD salary\n",
       "0     1  2011  1131         Brady, Tom  QB  nwe   a  mia      35.98     9200.0\n",
       "1     1  2011  1309        Henne, Chad  QB  mia   h  nwe      35.54     6800.0\n",
       "2     1  2011  1378        Newton, Cam  QB  car   a  ari      31.68     6700.0\n",
       "3     1  2011  1151        Brees, Drew  QB  nor   a  gnb      29.06     8900.0\n",
       "4     1  2011  1242  Fitzpatrick, Ryan  QB  buf   a  kan      24.62     7900.0"
      ]
     },
     "execution_count": 7,
     "metadata": {},
     "output_type": "execute_result"
    }
   ],
   "source": [
    "fanduel.head()"
   ]
  },
  {
   "cell_type": "code",
   "execution_count": 8,
   "metadata": {
    "scrolled": true
   },
   "outputs": [
    {
     "data": {
      "text/plain": [
       "34"
      ]
     },
     "execution_count": 8,
     "metadata": {},
     "output_type": "execute_result"
    }
   ],
   "source": [
    "len(fanduel['Team'].unique())"
   ]
  },
  {
   "cell_type": "markdown",
   "metadata": {},
   "source": [
    "> It appears there will be a difference between this and my defensive data which already change the SD Chargers to LAC and the STL Rams to LA"
   ]
  },
  {
   "cell_type": "code",
   "execution_count": 9,
   "metadata": {},
   "outputs": [
    {
     "data": {
      "text/plain": [
       "Week         0\n",
       "Year         0\n",
       "GID          0\n",
       "Name         0\n",
       "Pos          0\n",
       "Team         0\n",
       "h/a          0\n",
       "Oppt         0\n",
       "FD points    0\n",
       "FD salary    0\n",
       "dtype: int64"
      ]
     },
     "execution_count": 9,
     "metadata": {},
     "output_type": "execute_result"
    }
   ],
   "source": [
    "fanduel.isnull().sum()"
   ]
  },
  {
   "cell_type": "code",
   "execution_count": 10,
   "metadata": {},
   "outputs": [],
   "source": [
    "fanduel.to_csv('../data/fanduel.csv', index = False)"
   ]
  },
  {
   "cell_type": "code",
   "execution_count": null,
   "metadata": {},
   "outputs": [],
   "source": []
  }
 ],
 "metadata": {
  "kernelspec": {
   "display_name": "Python 3",
   "language": "python",
   "name": "python3"
  },
  "language_info": {
   "codemirror_mode": {
    "name": "ipython",
    "version": 3
   },
   "file_extension": ".py",
   "mimetype": "text/x-python",
   "name": "python",
   "nbconvert_exporter": "python",
   "pygments_lexer": "ipython3",
   "version": "3.6.5"
  }
 },
 "nbformat": 4,
 "nbformat_minor": 2
}

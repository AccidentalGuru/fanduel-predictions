{
 "cells": [
  {
   "cell_type": "markdown",
   "metadata": {},
   "source": [
    "# General Assembly DSI - Denver 2018\n",
    "## Capstone Project - DFS Model\n",
    "This is my capstone project at General Assembly's fifth [Data Science Immersive](https://generalassemb.ly/education/data-science-immersive) cohort in 2018. I am developing a model to assist in optimizing NFL lineups on the daily fantasy sports platforms [Draft Kings](https://www.draftkings.com/) and [Fan Duel](https://www.fanduel.com/).\n",
    "\n",
    "### Problem Statement\n",
    "\n",
    "Can we build a model to predict a football player’s fantasy football performance to estimate their value and implement the model in conjunction with a daily fantasy strategy to be profitable?"
   ]
  },
  {
   "cell_type": "markdown",
   "metadata": {},
   "source": [
    "### Gathering NFL Defensive Data\n",
    "I will be scraping [Fantasy.NFL.com](http://fantasy.nfl.com/research/pointsagainst?position=1&sort=pointsAgainst_pts&statCategory=pointsAgainst&statSeason=2010&statType=weekPointsAgainst&statWeek=2) to get the weekly defensive rankings against each position so I can tie a player's performance to the opponent they played."
   ]
  },
  {
   "cell_type": "code",
   "execution_count": 74,
   "metadata": {},
   "outputs": [],
   "source": [
    "import pandas as pd\n",
    "import numpy as np\n",
    "import requests\n",
    "import time\n",
    "from bs4 import BeautifulSoup"
   ]
  },
  {
   "cell_type": "markdown",
   "metadata": {},
   "source": [
    "### Quarterbacks"
   ]
  },
  {
   "cell_type": "code",
   "execution_count": null,
   "metadata": {},
   "outputs": [],
   "source": [
    "# # markdown cell convert to code to run\n",
    "# # collecting data for defense versus quarterback\n",
    "# defenses = []\n",
    "\n",
    "# # collecting data from years 2011 - 2017\n",
    "# for year in range(2011,2018):\n",
    "#     # getting weeks 1-17\n",
    "#     for week in range(1,18):\n",
    "#         url = 'http://fantasy.nfl.com/research/pointsagainst?position=1&sort=pointsAgainst_pts&statCategory=pointsAgainst&statSeason={}&statType=weekPointsAgainst&statWeek={}'.format(year, week)\n",
    "#         res = requests.get(url)\n",
    "        \n",
    "#         # run if request is successful\n",
    "#         if res.status_code == 200:\n",
    "#             soup = BeautifulSoup(res.content, 'lxml')\n",
    "#             # loop through by team (due to the HTML of the web page)\n",
    "#             for team in range(1,33):\n",
    "#                 team_num = 'team-{}'.format(team)\n",
    "#                 # grab row of the team\n",
    "#                 row = soup.find('tr', attrs = {'class': team_num})\n",
    "\n",
    "#                 # some teams will be on a bye, in that case we want to bypass (no pun intended) the loop\n",
    "#                 # the website still lists these teams, but it says their opponent is a \"Bye\"\n",
    "#                 if row.find('span', attrs = {'class': 'pointsAgainstStatId-opponent'}).text.lower() == 'bye':\n",
    "#                     continue\n",
    "\n",
    "#                 # create an empty dictionary for the observation being scraped\n",
    "#                 week_ranks = {}\n",
    "\n",
    "#                 # the defensive stats I will collect\n",
    "#                 week_ranks['Team'] = row.find('div', attrs={'class': 'c'}).text.replace(' Defensevs QB', '')\n",
    "#                 week_ranks['Opponent'] = row.find('span', attrs = {'class': 'pointsAgainstStatId-opponent'}).text.replace('@', '')\n",
    "#                 week_ranks['Week'] = week\n",
    "#                 week_ranks['Year'] = year\n",
    "#                 week_ranks['Rank'] = row.find('span', attrs = {'class': 'pointsAgainstStatId-rank'}).text\n",
    "#                 week_ranks['Completions'] = row.find('span', attrs = {'class': 'pointsAgainstStatId-passing_completions'}).text\n",
    "#                 week_ranks['Attempts'] = row.find('span', attrs = {'class': 'pointsAgainstStatId-passing_attempts'}).text\n",
    "#                 week_ranks['Yards'] = row.find('span', attrs = {'class': 'pointsAgainstStatId-passing_yards'}).text\n",
    "#                 week_ranks['Interceptions'] = row.find('span', attrs = {'class': 'pointsAgainstStatId-passing_interceptions'}).text\n",
    "#                 week_ranks['Touchdowns'] = row.find('span', attrs = {'class': 'pointsAgainstStatId-passing_tds'}).text\n",
    "\n",
    "#                 defenses.append(week_ranks)\n",
    "                \n",
    "# #                 pd.DataFrame(defenses).to_csv('../data/Defense_vs_QB.csv', index = False)\n",
    "#         else:\n",
    "#             print(\"Oooooops, something went wrong! Status Code = {}\".format(res.status_code))\n",
    "#         time.sleep(1)"
   ]
  },
  {
   "cell_type": "code",
   "execution_count": 79,
   "metadata": {},
   "outputs": [],
   "source": [
    "# defense_vs_qb = pd.DataFrame(defenses)"
   ]
  },
  {
   "cell_type": "code",
   "execution_count": 153,
   "metadata": {},
   "outputs": [
    {
     "name": "stdout",
     "output_type": "stream",
     "text": [
      "<class 'pandas.core.frame.DataFrame'>\n",
      "RangeIndex: 3584 entries, 0 to 3583\n",
      "Data columns (total 10 columns):\n",
      "Attempts         3584 non-null object\n",
      "Completions      3584 non-null object\n",
      "Interceptions    3584 non-null object\n",
      "Opponent         3584 non-null object\n",
      "Rank             3584 non-null int64\n",
      "Team             3584 non-null object\n",
      "Touchdowns       3584 non-null object\n",
      "Week             3584 non-null int64\n",
      "Yards            3584 non-null object\n",
      "Year             3584 non-null int64\n",
      "dtypes: int64(3), object(7)\n",
      "memory usage: 280.1+ KB\n"
     ]
    }
   ],
   "source": [
    "defense_vs_qb.info()"
   ]
  },
  {
   "cell_type": "markdown",
   "metadata": {},
   "source": [
    "> Every category is an object because the website uses hyphens instead of zeros."
   ]
  },
  {
   "cell_type": "code",
   "execution_count": 154,
   "metadata": {},
   "outputs": [],
   "source": [
    "columns = [col for col in defense_vs_qb.columns if col not in ['Team', 'Rank', 'Opponent', 'Week', 'Year']]\n",
    "\n",
    "for col in columns:\n",
    "    defense_vs_qb[col] = defense_vs_qb[col].map(lambda x: x.replace('-', '0'))"
   ]
  },
  {
   "cell_type": "code",
   "execution_count": 155,
   "metadata": {},
   "outputs": [
    {
     "data": {
      "text/plain": [
       "(262, 10)"
      ]
     },
     "execution_count": 155,
     "metadata": {},
     "output_type": "execute_result"
    }
   ],
   "source": [
    "defense_vs_qb[defense_vs_qb['Attempts'] == '0'].shape"
   ]
  },
  {
   "cell_type": "code",
   "execution_count": 156,
   "metadata": {},
   "outputs": [
    {
     "data": {
      "text/plain": [
       "LA     38\n",
       "SF     13\n",
       "SEA    11\n",
       "CHI     9\n",
       "WAS     9\n",
       "DET     9\n",
       "KC      8\n",
       "PIT     8\n",
       "BUF     8\n",
       "CLE     8\n",
       "ARI     8\n",
       "DAL     8\n",
       "PHI     7\n",
       "MIA     7\n",
       "NO      7\n",
       "NE      7\n",
       "DEN     7\n",
       "CIN     7\n",
       "IND     7\n",
       "TB      7\n",
       "GB      6\n",
       "BAL     6\n",
       "MIN     6\n",
       "JAX     6\n",
       "CAR     6\n",
       "NYG     6\n",
       "HOU     6\n",
       "ATL     6\n",
       "LAC     6\n",
       "OAK     6\n",
       "TEN     5\n",
       "NYJ     4\n",
       "Name: Opponent, dtype: int64"
      ]
     },
     "execution_count": 156,
     "metadata": {},
     "output_type": "execute_result"
    }
   ],
   "source": [
    "defense_vs_qb[defense_vs_qb['Attempts'] == '0']['Opponent'].value_counts()"
   ]
  },
  {
   "cell_type": "markdown",
   "metadata": {},
   "source": [
    "> So apparently there are 262 games that did not record data for `Attempts`, and coincidentally the rest of the columns in those observations are zero as well. My theory is that when they replaced data for the Rams moving to LA it messed some things up, because it appears they have the highest number of these observations by a wide margin. I know it's impractical but I'm just going to impute the mean for these columns."
   ]
  },
  {
   "cell_type": "code",
   "execution_count": 157,
   "metadata": {},
   "outputs": [
    {
     "name": "stdout",
     "output_type": "stream",
     "text": [
      "35 22 1 2 250\n"
     ]
    }
   ],
   "source": [
    "# representing them as integer values\n",
    "attempts_mean = int(round(defense_vs_qb[defense_vs_qb['Attempts'] != '0']['Attempts'].astype(int).mean(), 0))\n",
    "completions_mean = int(round(defense_vs_qb[defense_vs_qb['Attempts'] != '0']['Completions'].astype(int).mean(), 0))\n",
    "interceptions_mean = int(round(defense_vs_qb[defense_vs_qb['Attempts'] != '0']['Interceptions'].astype(int).mean(), 0))\n",
    "touchdowns_mean = int(round(defense_vs_qb[defense_vs_qb['Attempts'] != '0']['Touchdowns'].astype(int).mean(), 0))\n",
    "yards_mean = int(round(defense_vs_qb[defense_vs_qb['Attempts'] != '0']['Yards'].astype(int).mean(), 0))\n",
    "print(attempts_mean,\n",
    "      completions_mean,\n",
    "      interceptions_mean,\n",
    "      touchdowns_mean,\n",
    "      yards_mean)"
   ]
  },
  {
   "cell_type": "code",
   "execution_count": 159,
   "metadata": {},
   "outputs": [],
   "source": [
    "# imputing mean values in columns with no observations\n",
    "for defense in defense_vs_qb[defense_vs_qb['Attempts'] == '0'].index:\n",
    "    defense_vs_qb.loc[defense, 'Attempts'] = attempts_mean\n",
    "    defense_vs_qb.loc[defense, 'Completions'] = completions_mean\n",
    "    defense_vs_qb.loc[defense, 'Interceptions'] = interceptions_mean\n",
    "    defense_vs_qb.loc[defense, 'Touchdowns'] = touchdowns_mean\n",
    "    defense_vs_qb.loc[defense, 'Yards'] = yards_mean"
   ]
  },
  {
   "cell_type": "markdown",
   "metadata": {},
   "source": [
    "> So right now all the data types are messed up, but since we've replaced the hyphens with zeros I think when I read in the .csv in other notebooks pandas will read it in properly. Let's check:"
   ]
  },
  {
   "cell_type": "code",
   "execution_count": 196,
   "metadata": {},
   "outputs": [],
   "source": [
    "# defense_vs_qb.to_csv('../data/Defense_vs_QB.csv', index = False)"
   ]
  },
  {
   "cell_type": "code",
   "execution_count": 197,
   "metadata": {},
   "outputs": [
    {
     "name": "stdout",
     "output_type": "stream",
     "text": [
      "<class 'pandas.core.frame.DataFrame'>\n",
      "RangeIndex: 3584 entries, 0 to 3583\n",
      "Data columns (total 10 columns):\n",
      "Attempts         3584 non-null int64\n",
      "Completions      3584 non-null int64\n",
      "Interceptions    3584 non-null int64\n",
      "Opponent         3584 non-null object\n",
      "Rank             3584 non-null int64\n",
      "Team             3584 non-null object\n",
      "Touchdowns       3584 non-null int64\n",
      "Week             3584 non-null int64\n",
      "Yards            3584 non-null int64\n",
      "Year             3584 non-null int64\n",
      "dtypes: int64(8), object(2)\n",
      "memory usage: 280.1+ KB\n"
     ]
    }
   ],
   "source": [
    "test = pd.read_csv('../data/Defense_vs_QB.csv')\n",
    "test.info()"
   ]
  },
  {
   "cell_type": "markdown",
   "metadata": {},
   "source": [
    "> BOOM!"
   ]
  },
  {
   "cell_type": "markdown",
   "metadata": {},
   "source": [
    "### Running Backs"
   ]
  },
  {
   "cell_type": "code",
   "execution_count": 169,
   "metadata": {},
   "outputs": [],
   "source": [
    "# # markdown cell convert to code to run\n",
    "# # collecting data for defense versus runningbacks\n",
    "# defenses = []\n",
    "\n",
    "# # collecting data from years 2011 - 2017\n",
    "# for year in range(2011,2018):\n",
    "#     # getting weeks 1-17\n",
    "#     for week in range(1,18):\n",
    "#         url = 'http://fantasy.nfl.com/research/pointsagainst?position=2&sort=pointsAgainst_pts&statCategory=pointsAgainst&statSeason={}&statType=weekPointsAgainst&statWeek={}'.format(year, week)\n",
    "#         res = requests.get(url)\n",
    "        \n",
    "#         # run if request is successful\n",
    "#         if res.status_code == 200:\n",
    "#             soup = BeautifulSoup(res.content, 'lxml')\n",
    "#             # loop through by team (due to the HTML of the web page)\n",
    "#             for team in range(1,33):\n",
    "#                 team_num = 'team-{}'.format(team)\n",
    "#                 # grab row of the team\n",
    "#                 row = soup.find('tr', attrs = {'class': team_num})\n",
    "\n",
    "#                 # some teams will be on a bye, in that case we want to bypass (no pun intended) the loop\n",
    "#                 # the website still lists these teams, but it says their opponent is a \"Bye\"\n",
    "#                 if row.find('span', attrs = {'class': 'pointsAgainstStatId-opponent'}).text.lower() == 'bye':\n",
    "#                     continue\n",
    "\n",
    "#                 # create an empty dictionary for the observation being scraped\n",
    "#                 week_ranks = {}\n",
    "\n",
    "#                 # the defensive stats I will collect\n",
    "#                 week_ranks['Team'] = row.find('div', attrs={'class': 'c'}).text.replace(' Defensevs RB', '')\n",
    "#                 week_ranks['Opponent'] = row.find('span', attrs = {'class': 'pointsAgainstStatId-opponent'}).text.replace('@', '')\n",
    "#                 week_ranks['Week'] = week\n",
    "#                 week_ranks['Year'] = year\n",
    "#                 week_ranks['Rank'] = row.find('span', attrs = {'class': 'pointsAgainstStatId-rank'}).text\n",
    "#                 week_ranks['Attempts'] = row.find('span', attrs = {'class': 'pointsAgainstStatId-rushing_attempts'}).text\n",
    "#                 week_ranks['Yards'] = row.find('span', attrs = {'class': 'pointsAgainstStatId-rushing_yards'}).text\n",
    "#                 week_ranks['Touchdowns'] = row.find('span', attrs = {'class': 'pointsAgainstStatId-rushing_tds'}).text\n",
    "\n",
    "#                 defenses.append(week_ranks)\n",
    "                \n",
    "# #                 pd.DataFrame(defenses).to_csv('../data/Defense_vs_RB.csv', index = False)\n",
    "#         else:\n",
    "#             print(\"Oooooops, something went wrong! Status Code = {}\".format(res.status_code))\n",
    "#         time.sleep(1)"
   ]
  },
  {
   "cell_type": "code",
   "execution_count": 171,
   "metadata": {},
   "outputs": [
    {
     "name": "stdout",
     "output_type": "stream",
     "text": [
      "<class 'pandas.core.frame.DataFrame'>\n",
      "RangeIndex: 3584 entries, 0 to 3583\n",
      "Data columns (total 8 columns):\n",
      "Attempts      3584 non-null object\n",
      "Opponent      3584 non-null object\n",
      "Rank          3584 non-null object\n",
      "Team          3584 non-null object\n",
      "Touchdowns    3584 non-null object\n",
      "Week          3584 non-null int64\n",
      "Yards         3584 non-null object\n",
      "Year          3584 non-null int64\n",
      "dtypes: int64(2), object(6)\n",
      "memory usage: 224.1+ KB\n"
     ]
    }
   ],
   "source": [
    "defense_vs_rb = pd.DataFrame(defenses)\n",
    "defense_vs_rb.info()"
   ]
  },
  {
   "cell_type": "code",
   "execution_count": 173,
   "metadata": {},
   "outputs": [],
   "source": [
    "for col in ['Attempts', 'Touchdowns', 'Yards']:\n",
    "    defense_vs_rb[col] = defense_vs_rb[col].map(lambda x: x.replace('-', '0'))"
   ]
  },
  {
   "cell_type": "code",
   "execution_count": 175,
   "metadata": {},
   "outputs": [
    {
     "data": {
      "text/plain": [
       "(262, 8)"
      ]
     },
     "execution_count": 175,
     "metadata": {},
     "output_type": "execute_result"
    }
   ],
   "source": [
    "defense_vs_rb[defense_vs_rb['Attempts'] == '0'].shape"
   ]
  },
  {
   "cell_type": "code",
   "execution_count": 179,
   "metadata": {},
   "outputs": [
    {
     "data": {
      "text/plain": [
       "LA     38\n",
       "SF     13\n",
       "SEA    11\n",
       "CHI     9\n",
       "WAS     9\n",
       "DET     9\n",
       "KC      8\n",
       "PIT     8\n",
       "BUF     8\n",
       "CLE     8\n",
       "ARI     8\n",
       "DAL     8\n",
       "PHI     7\n",
       "MIA     7\n",
       "NO      7\n",
       "NE      7\n",
       "DEN     7\n",
       "CIN     7\n",
       "IND     7\n",
       "TB      7\n",
       "GB      6\n",
       "BAL     6\n",
       "MIN     6\n",
       "JAX     6\n",
       "CAR     6\n",
       "NYG     6\n",
       "HOU     6\n",
       "ATL     6\n",
       "LAC     6\n",
       "OAK     6\n",
       "TEN     5\n",
       "NYJ     4\n",
       "Name: Opponent, dtype: int64"
      ]
     },
     "execution_count": 179,
     "metadata": {},
     "output_type": "execute_result"
    }
   ],
   "source": [
    "defense_vs_rb[defense_vs_rb['Attempts'] == '0']['Opponent'].value_counts()"
   ]
  },
  {
   "cell_type": "markdown",
   "metadata": {},
   "source": [
    "> Same issue as before, and same number of columns. Probably no coincidence."
   ]
  },
  {
   "cell_type": "code",
   "execution_count": 180,
   "metadata": {},
   "outputs": [
    {
     "name": "stdout",
     "output_type": "stream",
     "text": [
      "23 1 95\n"
     ]
    }
   ],
   "source": [
    "rb_attempts_mean = int(round(defense_vs_rb[defense_vs_rb['Attempts'] != '0']['Attempts'].astype(int).mean(), 0))\n",
    "rb_touchdowns_mean = int(round(defense_vs_rb[defense_vs_rb['Attempts'] != '0']['Touchdowns'].astype(int).mean(), 0))\n",
    "rb_yards_mean = int(round(defense_vs_rb[defense_vs_rb['Attempts'] != '0']['Yards'].astype(int).mean(), 0))\n",
    "print(rb_attempts_mean,\n",
    "      rb_touchdowns_mean,\n",
    "      rb_yards_mean)"
   ]
  },
  {
   "cell_type": "code",
   "execution_count": 181,
   "metadata": {},
   "outputs": [],
   "source": [
    "for defense in defense_vs_rb[defense_vs_rb['Attempts'] == '0'].index:\n",
    "    defense_vs_rb.loc[defense, 'Attempts'] = rb_attempts_mean\n",
    "    defense_vs_rb.loc[defense, 'Touchdowns'] = rb_touchdowns_mean\n",
    "    defense_vs_rb.loc[defense, 'Yards'] = rb_yards_mean"
   ]
  },
  {
   "cell_type": "code",
   "execution_count": 194,
   "metadata": {},
   "outputs": [],
   "source": [
    "# defense_vs_rb.to_csv('../data/Defense_vs_RB.csv', index = False)"
   ]
  },
  {
   "cell_type": "code",
   "execution_count": 195,
   "metadata": {},
   "outputs": [
    {
     "name": "stdout",
     "output_type": "stream",
     "text": [
      "<class 'pandas.core.frame.DataFrame'>\n",
      "RangeIndex: 3584 entries, 0 to 3583\n",
      "Data columns (total 8 columns):\n",
      "Attempts      3584 non-null int64\n",
      "Opponent      3584 non-null object\n",
      "Rank          3584 non-null int64\n",
      "Team          3584 non-null object\n",
      "Touchdowns    3584 non-null int64\n",
      "Week          3584 non-null int64\n",
      "Yards         3584 non-null int64\n",
      "Year          3584 non-null int64\n",
      "dtypes: int64(6), object(2)\n",
      "memory usage: 224.1+ KB\n"
     ]
    }
   ],
   "source": [
    "test = pd.read_csv('../data/Defense_vs_RB.csv')\n",
    "test.info()"
   ]
  },
  {
   "cell_type": "markdown",
   "metadata": {},
   "source": [
    "> BOOM!"
   ]
  },
  {
   "cell_type": "markdown",
   "metadata": {},
   "source": [
    "### Wide Receivers"
   ]
  },
  {
   "cell_type": "code",
   "execution_count": 184,
   "metadata": {},
   "outputs": [],
   "source": [
    "# # markdown cell convert to code to run\n",
    "# # collecting data for defense versus receivers\n",
    "# defenses = []\n",
    "\n",
    "# # collecting data from years 2011 - 2017\n",
    "# for year in range(2011,2018):\n",
    "#     # getting weeks 1-17\n",
    "#     for week in range(1,18):\n",
    "#         url = 'http://fantasy.nfl.com/research/pointsagainst?position=3&sort=pointsAgainst_pts&statCategory=pointsAgainst&statSeason={}&statType=weekPointsAgainst&statWeek={}'.format(year, week)\n",
    "#         res = requests.get(url)\n",
    "        \n",
    "#         # run if request is successful\n",
    "#         if res.status_code == 200:\n",
    "#             soup = BeautifulSoup(res.content, 'lxml')\n",
    "#             # loop through by team (due to the HTML of the web page)\n",
    "#             for team in range(1,33):\n",
    "#                 team_num = 'team-{}'.format(team)\n",
    "#                 # grab row of the team\n",
    "#                 row = soup.find('tr', attrs = {'class': team_num})\n",
    "\n",
    "#                 # some teams will be on a bye, in that case we want to bypass (no pun intended) the loop\n",
    "#                 # the website still lists these teams, but it says their opponent is a \"Bye\"\n",
    "#                 if row.find('span', attrs = {'class': 'pointsAgainstStatId-opponent'}).text.lower() == 'bye':\n",
    "#                     continue\n",
    "\n",
    "#                 # create an empty dictionary for the observation being scraped\n",
    "#                 week_ranks = {}\n",
    "\n",
    "#                 # the defensive stats I will collect\n",
    "#                 week_ranks['Team'] = row.find('div', attrs={'class': 'c'}).text.replace(' Defensevs WR', '')\n",
    "#                 week_ranks['Opponent'] = row.find('span', attrs = {'class': 'pointsAgainstStatId-opponent'}).text.replace('@', '')\n",
    "#                 week_ranks['Week'] = week\n",
    "#                 week_ranks['Year'] = year\n",
    "#                 week_ranks['Rank'] = row.find('span', attrs = {'class': 'pointsAgainstStatId-rank'}).text\n",
    "#                 week_ranks['Receptions'] = row.find('span', attrs = {'class': 'pointsAgainstStatId-receiving_receptions'}).text\n",
    "#                 week_ranks['Targets'] = row.find('span', attrs = {'class': 'pointsAgainstStatId-receiving_targets'}).text\n",
    "#                 week_ranks['Yards'] = row.find('span', attrs = {'class': 'pointsAgainstStatId-receiving_yards'}).text\n",
    "#                 week_ranks['Touchdowns'] = row.find('span', attrs = {'class': 'pointsAgainstStatId-receiving_tds'}).text\n",
    "\n",
    "#                 defenses.append(week_ranks)\n",
    "                \n",
    "# #                 pd.DataFrame(defenses).to_csv('../data/Defense_vs_WR.csv', index = False)\n",
    "#         else:\n",
    "#             print(\"Oooooops, something went wrong! Status Code = {}\".format(res.status_code))\n",
    "#         time.sleep(1)"
   ]
  },
  {
   "cell_type": "code",
   "execution_count": 187,
   "metadata": {},
   "outputs": [
    {
     "name": "stdout",
     "output_type": "stream",
     "text": [
      "<class 'pandas.core.frame.DataFrame'>\n",
      "RangeIndex: 3584 entries, 0 to 3583\n",
      "Data columns (total 9 columns):\n",
      "Opponent      3584 non-null object\n",
      "Rank          3584 non-null object\n",
      "Receptions    3584 non-null object\n",
      "Targets       3584 non-null object\n",
      "Team          3584 non-null object\n",
      "Touchdowns    3584 non-null object\n",
      "Week          3584 non-null int64\n",
      "Yards         3584 non-null object\n",
      "Year          3584 non-null int64\n",
      "dtypes: int64(2), object(7)\n",
      "memory usage: 252.1+ KB\n"
     ]
    }
   ],
   "source": [
    "defense_vs_wr = pd.DataFrame(defenses)\n",
    "defense_vs_wr.info()"
   ]
  },
  {
   "cell_type": "code",
   "execution_count": 188,
   "metadata": {},
   "outputs": [],
   "source": [
    "for col in ['Receptions', 'Targets', 'Touchdowns', 'Yards']:\n",
    "    defense_vs_wr[col] = defense_vs_wr[col].map(lambda x: x.replace('-', '0'))"
   ]
  },
  {
   "cell_type": "code",
   "execution_count": 189,
   "metadata": {
    "scrolled": true
   },
   "outputs": [
    {
     "data": {
      "text/plain": [
       "(262, 9)"
      ]
     },
     "execution_count": 189,
     "metadata": {},
     "output_type": "execute_result"
    }
   ],
   "source": [
    "defense_vs_wr[defense_vs_wr['Targets'] == '0'].shape"
   ]
  },
  {
   "cell_type": "code",
   "execution_count": 190,
   "metadata": {},
   "outputs": [
    {
     "data": {
      "text/plain": [
       "LA     38\n",
       "SF     13\n",
       "SEA    11\n",
       "CHI     9\n",
       "WAS     9\n",
       "DET     9\n",
       "KC      8\n",
       "PIT     8\n",
       "BUF     8\n",
       "CLE     8\n",
       "ARI     8\n",
       "DAL     8\n",
       "PHI     7\n",
       "MIA     7\n",
       "NO      7\n",
       "NE      7\n",
       "DEN     7\n",
       "CIN     7\n",
       "IND     7\n",
       "TB      7\n",
       "GB      6\n",
       "BAL     6\n",
       "MIN     6\n",
       "JAX     6\n",
       "CAR     6\n",
       "NYG     6\n",
       "HOU     6\n",
       "ATL     6\n",
       "LAC     6\n",
       "OAK     6\n",
       "TEN     5\n",
       "NYJ     4\n",
       "Name: Opponent, dtype: int64"
      ]
     },
     "execution_count": 190,
     "metadata": {},
     "output_type": "execute_result"
    }
   ],
   "source": [
    "defense_vs_wr[defense_vs_wr['Targets'] == '0']['Opponent'].value_counts()"
   ]
  },
  {
   "cell_type": "code",
   "execution_count": 191,
   "metadata": {},
   "outputs": [
    {
     "name": "stdout",
     "output_type": "stream",
     "text": [
      "12 20 1 158\n"
     ]
    }
   ],
   "source": [
    "wr_receptions_mean = int(round(defense_vs_wr[defense_vs_wr['Targets'] != '0']['Receptions'].astype(int).mean(), 0))\n",
    "wr_targets_mean = int(round(defense_vs_wr[defense_vs_wr['Targets'] != '0']['Targets'].astype(int).mean(), 0))\n",
    "wr_touchdowns_mean = int(round(defense_vs_wr[defense_vs_wr['Targets'] != '0']['Touchdowns'].astype(int).mean(), 0))\n",
    "wr_yards_mean = int(round(defense_vs_wr[defense_vs_wr['Targets'] != '0']['Yards'].astype(int).mean(), 0))\n",
    "print(wr_receptions_mean, wr_targets_mean, wr_touchdowns_mean, wr_yards_mean)"
   ]
  },
  {
   "cell_type": "code",
   "execution_count": 193,
   "metadata": {},
   "outputs": [],
   "source": [
    "for defense in defense_vs_wr[defense_vs_wr['Targets'] == '0'].index:\n",
    "    defense_vs_wr.loc[defense, 'Receptions'] = wr_receptions_mean\n",
    "    defense_vs_wr.loc[defense, 'Targets'] = wr_targets_mean\n",
    "    defense_vs_wr.loc[defense, 'Touchdowns'] = wr_touchdowns_mean\n",
    "    defense_vs_wr.loc[defense, 'Yards'] = wr_yards_mean"
   ]
  },
  {
   "cell_type": "code",
   "execution_count": 198,
   "metadata": {},
   "outputs": [],
   "source": [
    "# defense_vs_wr.to_csv('../data/Defense_vs_WR.csv', index = False)"
   ]
  },
  {
   "cell_type": "code",
   "execution_count": 199,
   "metadata": {},
   "outputs": [
    {
     "name": "stdout",
     "output_type": "stream",
     "text": [
      "<class 'pandas.core.frame.DataFrame'>\n",
      "RangeIndex: 3584 entries, 0 to 3583\n",
      "Data columns (total 9 columns):\n",
      "Opponent      3584 non-null object\n",
      "Rank          3584 non-null int64\n",
      "Receptions    3584 non-null int64\n",
      "Targets       3584 non-null int64\n",
      "Team          3584 non-null object\n",
      "Touchdowns    3584 non-null int64\n",
      "Week          3584 non-null int64\n",
      "Yards         3584 non-null int64\n",
      "Year          3584 non-null int64\n",
      "dtypes: int64(7), object(2)\n",
      "memory usage: 252.1+ KB\n"
     ]
    }
   ],
   "source": [
    "test = pd.read_csv('../data/Defense_vs_WR.csv')\n",
    "test.info()"
   ]
  },
  {
   "cell_type": "markdown",
   "metadata": {},
   "source": [
    "> BOOM!"
   ]
  },
  {
   "cell_type": "markdown",
   "metadata": {},
   "source": [
    "### Tight Ends"
   ]
  },
  {
   "cell_type": "code",
   "execution_count": 201,
   "metadata": {},
   "outputs": [],
   "source": [
    "# # markdown cell convert to code to run\n",
    "# # collecting data for defense versus tight ends\n",
    "# defenses = []\n",
    "\n",
    "# # collecting data from years 2011 - 2017\n",
    "# for year in range(2011,2018):\n",
    "#     # getting weeks 1-17\n",
    "#     for week in range(1,18):\n",
    "#         url = 'http://fantasy.nfl.com/research/pointsagainst?position=4&sort=pointsAgainst_pts&statCategory=pointsAgainst&statSeason={}&statType=weekPointsAgainst&statWeek={}'.format(year, week)\n",
    "#         res = requests.get(url)\n",
    "        \n",
    "#         # run if request is successful\n",
    "#         if res.status_code == 200:\n",
    "#             soup = BeautifulSoup(res.content, 'lxml')\n",
    "#             # loop through by team (due to the HTML of the web page)\n",
    "#             for team in range(1,33):\n",
    "#                 team_num = 'team-{}'.format(team)\n",
    "#                 # grab row of the team\n",
    "#                 row = soup.find('tr', attrs = {'class': team_num})\n",
    "\n",
    "#                 # some teams will be on a bye, in that case we want to bypass (no pun intended) the loop\n",
    "#                 # the website still lists these teams, but it says their opponent is a \"Bye\"\n",
    "#                 if row.find('span', attrs = {'class': 'pointsAgainstStatId-opponent'}).text.lower() == 'bye':\n",
    "#                     continue\n",
    "\n",
    "#                 # create an empty dictionary for the observation being scraped\n",
    "#                 week_ranks = {}\n",
    "\n",
    "#                 # the defensive stats I will collect\n",
    "#                 week_ranks['Team'] = row.find('div', attrs={'class': 'c'}).text.replace(' Defensevs WR', '')\n",
    "#                 week_ranks['Opponent'] = row.find('span', attrs = {'class': 'pointsAgainstStatId-opponent'}).text.replace('@', '')\n",
    "#                 week_ranks['Week'] = week\n",
    "#                 week_ranks['Year'] = year\n",
    "#                 week_ranks['Rank'] = row.find('span', attrs = {'class': 'pointsAgainstStatId-rank'}).text\n",
    "#                 week_ranks['Receptions'] = row.find('span', attrs = {'class': 'pointsAgainstStatId-receiving_receptions'}).text\n",
    "#                 week_ranks['Targets'] = row.find('span', attrs = {'class': 'pointsAgainstStatId-receiving_targets'}).text\n",
    "#                 week_ranks['Yards'] = row.find('span', attrs = {'class': 'pointsAgainstStatId-receiving_yards'}).text\n",
    "#                 week_ranks['Touchdowns'] = row.find('span', attrs = {'class': 'pointsAgainstStatId-receiving_tds'}).text\n",
    "\n",
    "#                 defenses.append(week_ranks)\n",
    "                \n",
    "# #                 pd.DataFrame(defenses).to_csv('../data/Defense_vs_TE.csv', index = False)\n",
    "#         else:\n",
    "#             print(\"Oooooops, something went wrong! Status Code = {}\".format(res.status_code))\n",
    "#         time.sleep(1)"
   ]
  },
  {
   "cell_type": "code",
   "execution_count": 202,
   "metadata": {},
   "outputs": [
    {
     "name": "stdout",
     "output_type": "stream",
     "text": [
      "<class 'pandas.core.frame.DataFrame'>\n",
      "RangeIndex: 3584 entries, 0 to 3583\n",
      "Data columns (total 9 columns):\n",
      "Opponent      3584 non-null object\n",
      "Rank          3584 non-null object\n",
      "Receptions    3584 non-null object\n",
      "Targets       3584 non-null object\n",
      "Team          3584 non-null object\n",
      "Touchdowns    3584 non-null object\n",
      "Week          3584 non-null int64\n",
      "Yards         3584 non-null object\n",
      "Year          3584 non-null int64\n",
      "dtypes: int64(2), object(7)\n",
      "memory usage: 252.1+ KB\n"
     ]
    }
   ],
   "source": [
    "defense_vs_te = pd.DataFrame(defenses)\n",
    "defense_vs_te.info()"
   ]
  },
  {
   "cell_type": "code",
   "execution_count": 203,
   "metadata": {},
   "outputs": [],
   "source": [
    "for col in ['Receptions', 'Targets', 'Touchdowns', 'Yards']:\n",
    "    defense_vs_te[col] = defense_vs_te[col].map(lambda x: x.replace('-', '0'))"
   ]
  },
  {
   "cell_type": "code",
   "execution_count": 204,
   "metadata": {},
   "outputs": [
    {
     "data": {
      "text/plain": [
       "(303, 9)"
      ]
     },
     "execution_count": 204,
     "metadata": {},
     "output_type": "execute_result"
    }
   ],
   "source": [
    "defense_vs_te[defense_vs_te['Targets'] == '0'].shape"
   ]
  },
  {
   "cell_type": "code",
   "execution_count": 205,
   "metadata": {},
   "outputs": [
    {
     "data": {
      "text/plain": [
       "LA     38\n",
       "SF     14\n",
       "CHI    13\n",
       "NYJ    13\n",
       "KC     11\n",
       "DET    11\n",
       "SEA    11\n",
       "WAS    10\n",
       "DEN    10\n",
       "BUF    10\n",
       "ARI    10\n",
       "TB      9\n",
       "DAL     9\n",
       "MIA     9\n",
       "CLE     8\n",
       "GB      8\n",
       "IND     8\n",
       "ATL     8\n",
       "PIT     8\n",
       "NYG     7\n",
       "PHI     7\n",
       "BAL     7\n",
       "CIN     7\n",
       "HOU     7\n",
       "NE      7\n",
       "NO      7\n",
       "OAK     7\n",
       "JAX     6\n",
       "MIN     6\n",
       "LAC     6\n",
       "CAR     6\n",
       "TEN     5\n",
       "Name: Opponent, dtype: int64"
      ]
     },
     "execution_count": 205,
     "metadata": {},
     "output_type": "execute_result"
    }
   ],
   "source": [
    "defense_vs_te[defense_vs_te['Targets'] == '0']['Opponent'].value_counts()"
   ]
  },
  {
   "cell_type": "code",
   "execution_count": 206,
   "metadata": {},
   "outputs": [
    {
     "name": "stdout",
     "output_type": "stream",
     "text": [
      "5 7 0 52\n"
     ]
    }
   ],
   "source": [
    "te_receptions_mean = int(round(defense_vs_te[defense_vs_te['Targets'] != '0']['Receptions'].astype(int).mean(), 0))\n",
    "te_targets_mean = int(round(defense_vs_te[defense_vs_te['Targets'] != '0']['Targets'].astype(int).mean(), 0))\n",
    "te_touchdowns_mean = int(round(defense_vs_te[defense_vs_te['Targets'] != '0']['Touchdowns'].astype(int).mean(), 0))\n",
    "te_yards_mean = int(round(defense_vs_te[defense_vs_te['Targets'] != '0']['Yards'].astype(int).mean(), 0))\n",
    "print(te_receptions_mean, te_targets_mean, te_touchdowns_mean, te_yards_mean)"
   ]
  },
  {
   "cell_type": "code",
   "execution_count": 207,
   "metadata": {},
   "outputs": [],
   "source": [
    "for defense in defense_vs_te[defense_vs_te['Targets'] == '0'].index:\n",
    "    defense_vs_te.loc[defense, 'Receptions'] = te_receptions_mean\n",
    "    defense_vs_te.loc[defense, 'Targets'] = te_targets_mean\n",
    "    defense_vs_te.loc[defense, 'Touchdowns'] = te_touchdowns_mean\n",
    "    defense_vs_te.loc[defense, 'Yards'] = te_yards_mean"
   ]
  },
  {
   "cell_type": "code",
   "execution_count": 208,
   "metadata": {},
   "outputs": [],
   "source": [
    "# defense_vs_te.to_csv('../data/Defense_vs_TE.csv', index = False)"
   ]
  },
  {
   "cell_type": "code",
   "execution_count": 209,
   "metadata": {},
   "outputs": [
    {
     "name": "stdout",
     "output_type": "stream",
     "text": [
      "<class 'pandas.core.frame.DataFrame'>\n",
      "RangeIndex: 3584 entries, 0 to 3583\n",
      "Data columns (total 9 columns):\n",
      "Opponent      3584 non-null object\n",
      "Rank          3584 non-null int64\n",
      "Receptions    3584 non-null int64\n",
      "Targets       3584 non-null int64\n",
      "Team          3584 non-null object\n",
      "Touchdowns    3584 non-null int64\n",
      "Week          3584 non-null int64\n",
      "Yards         3584 non-null int64\n",
      "Year          3584 non-null int64\n",
      "dtypes: int64(7), object(2)\n",
      "memory usage: 252.1+ KB\n"
     ]
    }
   ],
   "source": [
    "test = pd.read_csv('../data/Defense_vs_TE.csv')\n",
    "test.info()"
   ]
  },
  {
   "cell_type": "markdown",
   "metadata": {},
   "source": [
    "> BOOM!"
   ]
  },
  {
   "cell_type": "markdown",
   "metadata": {},
   "source": [
    "### Creating Rolling Averages for Statistics and Shifting Them\n",
    "\n",
    "There are two things I need to do to this dataset in order to model with it. First, I need to create a rolling average for each statistic. Intuitively it makes far more sense to \"trend\" the data for each team as it will better reflect how a team has been playing. **I am going to use a rolling window of 3**, meaning that the statistic at each observation will represent what that defense has done in the last 3 games leading up the a contest. Secondly, I need to shift my dataframe so that I am not using statistics for a given week to predict an event they were a part of in the past."
   ]
  },
  {
   "cell_type": "code",
   "execution_count": 361,
   "metadata": {},
   "outputs": [],
   "source": [
    "defense_vs_qb = pd.read_csv('../data/Defense_vs_QB.csv')\n",
    "defense_vs_rb = pd.read_csv('../data/Defense_vs_RB.csv')\n",
    "defense_vs_wr = pd.read_csv('../data/Defense_vs_WR.csv')\n",
    "defense_vs_te = pd.read_csv('../data/Defense_vs_TE.csv')"
   ]
  },
  {
   "cell_type": "code",
   "execution_count": 352,
   "metadata": {},
   "outputs": [],
   "source": [
    "def roll_and_shift(df, features, window = 3, min_periods = 1):\n",
    "    # groups by team and season so years don't leak into each other\n",
    "    rolled_data = df.groupby(['Team', 'Year'])[features].rolling(window = window, min_periods = min_periods).mean()\n",
    "    # requires additional groupby so you don't shift into other teams/seasons\n",
    "    shifted_data = rolled_data.groupby(level = [0, 1]).shift()\n",
    "    return shifted_data"
   ]
  },
  {
   "cell_type": "code",
   "execution_count": 356,
   "metadata": {},
   "outputs": [],
   "source": [
    "def impute_rolling_stats(df, rolling_stats_df, features):\n",
    "    \"\"\"\n",
    "    CHANGES DATAFRAME INPLACE\n",
    "    The need for this function was born out of the fact that my dataframes are sorted by week and season.\n",
    "    However, I want to roll the stats for each particular team, which means I cannot simply create rolling averages\n",
    "    for every observation. That would mean I am mixing the performance of one team with that of another.\n",
    "    \"\"\"\n",
    "    for index, row in df.iterrows():\n",
    "        # create tuple matching indexes from rolling stats df\n",
    "        rolling_index = (row['Team'], row['Year'], index)\n",
    "        # replace df stats with rolling stats\n",
    "        df.loc[index, features] = rolling_stats_df.loc[rolling_index, features]"
   ]
  },
  {
   "cell_type": "code",
   "execution_count": 370,
   "metadata": {},
   "outputs": [],
   "source": [
    "# Quarterbacks\n",
    "features = ['Attempts', 'Completions', 'Interceptions', 'Touchdowns', 'Yards']\n",
    "rolling_qbs = roll_and_shift(defense_vs_qb, features = features)\n",
    "impute_rolling_stats(defense_vs_qb, rolling_qbs, features = features)"
   ]
  },
  {
   "cell_type": "code",
   "execution_count": 363,
   "metadata": {},
   "outputs": [],
   "source": [
    "# Runningbacks\n",
    "features = ['Attempts', 'Touchdowns', 'Yards']\n",
    "rolling_rbs = roll_and_shift(defense_vs_rb, features = features)\n",
    "impute_rolling_stats(defense_vs_rb, rolling_rbs, features = features)"
   ]
  },
  {
   "cell_type": "code",
   "execution_count": 375,
   "metadata": {},
   "outputs": [],
   "source": [
    "# Receivers\n",
    "features = ['Receptions', 'Targets', 'Touchdowns', 'Yards']\n",
    "rolling_wrs = roll_and_shift(defense_vs_wr, features = features)\n",
    "impute_rolling_stats(defense_vs_wr, rolling_wrs, features = features)"
   ]
  },
  {
   "cell_type": "code",
   "execution_count": 377,
   "metadata": {},
   "outputs": [],
   "source": [
    "# Tight Ends\n",
    "features = ['Receptions', 'Targets', 'Touchdowns', 'Yards']\n",
    "rolling_tes = roll_and_shift(defense_vs_te, features = features)\n",
    "impute_rolling_stats(defense_vs_te, rolling_tes, features = features)"
   ]
  },
  {
   "cell_type": "code",
   "execution_count": 381,
   "metadata": {},
   "outputs": [],
   "source": [
    "# apparently forgot to remove the excess text for TE's\n",
    "defense_vs_te['Team'] = defense_vs_te['Team'].map(lambda x: x.replace(' Defensevs TE', ''))"
   ]
  },
  {
   "cell_type": "code",
   "execution_count": 379,
   "metadata": {},
   "outputs": [],
   "source": [
    "# Dropping Week 1 Observations\n",
    "defense_vs_qb.dropna(inplace = True)\n",
    "defense_vs_rb.dropna(inplace = True)\n",
    "defense_vs_wr.dropna(inplace = True)\n",
    "defense_vs_te.dropna(inplace = True)"
   ]
  },
  {
   "cell_type": "code",
   "execution_count": 383,
   "metadata": {},
   "outputs": [],
   "source": [
    "# Export Data\n",
    "defense_vs_qb.to_csv('../data/Defense_vs_QB.csv', index = False)\n",
    "defense_vs_rb.to_csv('../data/Defense_vs_RB.csv', index = False)\n",
    "defense_vs_wr.to_csv('../data/Defense_vs_WR.csv', index = False)\n",
    "defense_vs_te.to_csv('../data/Defense_vs_TE.csv', index = False)"
   ]
  }
 ],
 "metadata": {
  "kernelspec": {
   "display_name": "Python 3",
   "language": "python",
   "name": "python3"
  },
  "language_info": {
   "codemirror_mode": {
    "name": "ipython",
    "version": 3
   },
   "file_extension": ".py",
   "mimetype": "text/x-python",
   "name": "python",
   "nbconvert_exporter": "python",
   "pygments_lexer": "ipython3",
   "version": "3.6.5"
  }
 },
 "nbformat": 4,
 "nbformat_minor": 2
}

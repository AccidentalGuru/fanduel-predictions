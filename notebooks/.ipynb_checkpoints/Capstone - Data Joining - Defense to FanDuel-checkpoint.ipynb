{
 "cells": [
  {
   "cell_type": "markdown",
   "metadata": {},
   "source": [
    "# General Assembly DSI - Denver 2018\n",
    "## Capstone Project - DFS Model\n",
    "This is my capstone project at General Assembly's fifth [Data Science Immersive](https://generalassemb.ly/education/data-science-immersive) cohort in 2018. I am developing a model to assist in optimizing NFL lineups on the daily fantasy sports platforms [Draft Kings](https://www.draftkings.com/) and [Fan Duel](https://www.fanduel.com/).\n",
    "\n",
    "### Problem Statement\n",
    "\n",
    "Can we build a model to predict a football player’s fantasy football performance to estimate their value and implement the model in conjunction with a daily fantasy strategy to be profitable?"
   ]
  },
  {
   "cell_type": "markdown",
   "metadata": {},
   "source": [
    "### Data Joining\n",
    "Merging the FanDuel, Defensive, and Game data that I scraped and collected from Kaggle."
   ]
  },
  {
   "cell_type": "code",
   "execution_count": 2,
   "metadata": {},
   "outputs": [],
   "source": [
    "import pandas as pd"
   ]
  },
  {
   "cell_type": "code",
   "execution_count": 3,
   "metadata": {},
   "outputs": [],
   "source": [
    "fanduel = pd.read_csv('../data/fanduel.csv')\n",
    "game_info = pd.read_csv('../data/game_information.csv')\n",
    "qb_vs_def = pd.read_csv('../data/Defense_vs_QB.csv')\n",
    "rb_vs_def = pd.read_csv('../data/Defense_vs_RB.csv')\n",
    "wr_vs_def = pd.read_csv('../data/Defense_vs_WR.csv')\n",
    "te_vs_def = pd.read_csv('../data/Defense_vs_TE.csv')"
   ]
  },
  {
   "cell_type": "markdown",
   "metadata": {},
   "source": [
    "### Step 1) Make Uniform Team Names to Join On"
   ]
  },
  {
   "cell_type": "code",
   "execution_count": 31,
   "metadata": {},
   "outputs": [],
   "source": [
    "# here is what every one SHOULD look like\n",
    "teams = sorted(['NE', 'GB', 'PIT', 'DEN', 'SEA', 'NO', 'BAL', 'PHI', 'ATL', 'DAL',\n",
    "'CIN', 'CAR', 'DET', 'KC', 'HOU', 'SF', 'ARI', 'NYG', 'LAC', 'MIN', 'IND', \n",
    "'NYJ', 'BUF', 'TEN', 'MIA', 'CHI', 'WAS', 'OAK', 'LAR', 'TB','CLE', 'JAX'])"
   ]
  },
  {
   "cell_type": "markdown",
   "metadata": {},
   "source": [
    "#### Fanduel Data"
   ]
  },
  {
   "cell_type": "code",
   "execution_count": 86,
   "metadata": {},
   "outputs": [],
   "source": [
    "fanduel['Oppt'] = fanduel['Oppt'].map(lambda x: x.upper())\n",
    "fanduel['Team'] = fanduel['Team'].map(lambda x: x.upper())"
   ]
  },
  {
   "cell_type": "code",
   "execution_count": 30,
   "metadata": {},
   "outputs": [
    {
     "data": {
      "text/plain": [
       "Index(['NOR', 'OAK', 'DAL', 'ATL', 'ARI', 'CIN', 'BUF', 'GNB', 'KAN', 'DEN',\n",
       "       'NYG', 'TEN', 'WAS', 'SFO', 'PHI', 'CLE', 'BAL', 'NYJ', 'NWE', 'TAM',\n",
       "       'MIN', 'PIT', 'SEA', 'CHI', 'HOU', 'JAC', 'CAR', 'MIA', 'IND', 'DET',\n",
       "       'SDG', 'STL', 'LAR', 'LAC'],\n",
       "      dtype='object')"
      ]
     },
     "execution_count": 30,
     "metadata": {},
     "output_type": "execute_result"
    }
   ],
   "source": [
    "fanduel['Team'].value_counts().index"
   ]
  },
  {
   "cell_type": "code",
   "execution_count": 32,
   "metadata": {},
   "outputs": [],
   "source": [
    "# these ones need to change:\n",
    "fd_teams = {'NOR': 'NO', 'GNB': 'GB', 'KAN': 'KC', 'SFO': 'SF', 'NWE': 'NE', \n",
    "            'TAM': 'TB', 'JAC': 'JAX', 'SDG': 'LAC', 'STL': 'LAR'}"
   ]
  },
  {
   "cell_type": "code",
   "execution_count": 37,
   "metadata": {},
   "outputs": [],
   "source": [
    "def fd_team_change(team):\n",
    "    if team in fd_teams.keys():\n",
    "        team = fd_teams[team]\n",
    "        return team\n",
    "    else:\n",
    "        return team"
   ]
  },
  {
   "cell_type": "code",
   "execution_count": 42,
   "metadata": {},
   "outputs": [
    {
     "data": {
      "text/plain": [
       "True"
      ]
     },
     "execution_count": 42,
     "metadata": {},
     "output_type": "execute_result"
    }
   ],
   "source": [
    "# check if that worked...\n",
    "sorted(fanduel['Team'].map(fd_team_change).value_counts().index) == teams"
   ]
  },
  {
   "cell_type": "code",
   "execution_count": 43,
   "metadata": {},
   "outputs": [],
   "source": [
    "fanduel['Team'] = fanduel['Team'].map(fd_team_change)\n",
    "fanduel['Oppt'] = fanduel['Oppt'].map(fd_team_change)"
   ]
  },
  {
   "cell_type": "code",
   "execution_count": 92,
   "metadata": {},
   "outputs": [
    {
     "data": {
      "text/plain": [
       "(56, 10)"
      ]
     },
     "execution_count": 92,
     "metadata": {},
     "output_type": "execute_result"
    }
   ],
   "source": [
    "fanduel[fanduel['Oppt'] == '-'].shape"
   ]
  },
  {
   "cell_type": "markdown",
   "metadata": {},
   "source": [
    "> Turns out 56 entries don't have an opponent. Will drop them..."
   ]
  },
  {
   "cell_type": "code",
   "execution_count": 95,
   "metadata": {},
   "outputs": [],
   "source": [
    "fanduel = fanduel[fanduel['Oppt'] != '-']"
   ]
  },
  {
   "cell_type": "code",
   "execution_count": 96,
   "metadata": {},
   "outputs": [
    {
     "data": {
      "text/plain": [
       "True"
      ]
     },
     "execution_count": 96,
     "metadata": {},
     "output_type": "execute_result"
    }
   ],
   "source": [
    "sorted(fanduel['Oppt'].value_counts().index) == teams"
   ]
  },
  {
   "cell_type": "markdown",
   "metadata": {},
   "source": [
    "#### Game Information"
   ]
  },
  {
   "cell_type": "code",
   "execution_count": 55,
   "metadata": {},
   "outputs": [],
   "source": [
    "game_info_teams = {team: team[:3].upper() for team in sorted(game_info['team_home'].value_counts().index)}"
   ]
  },
  {
   "cell_type": "code",
   "execution_count": 58,
   "metadata": {},
   "outputs": [],
   "source": [
    "game_info_teams['Green Bay Packers'] = 'GB'\n",
    "game_info_teams['Jacksonville Jaguars'] = 'JAX'\n",
    "game_info_teams['Kansas City Chiefs'] = 'KC'\n",
    "game_info_teams['Los Angeles Chargers'] = 'LAC'\n",
    "game_info_teams['Los Angeles Rams'] = 'LAR'\n",
    "game_info_teams['New England Patriots'] = 'NE'\n",
    "game_info_teams['New Orleans Saints'] = 'NO'\n",
    "game_info_teams['New York Giants'] = 'NYG'\n",
    "game_info_teams['New York Jets'] = 'NYJ'\n",
    "game_info_teams['San Diego Chargers'] = 'LAC'\n",
    "game_info_teams['San Francisco 49ers'] = 'SF'\n",
    "game_info_teams['St. Louis Rams'] = 'LAR'\n",
    "game_info_teams['Tampa Bay Buccaneers'] = 'TB'"
   ]
  },
  {
   "cell_type": "code",
   "execution_count": 63,
   "metadata": {},
   "outputs": [
    {
     "data": {
      "text/plain": [
       "True"
      ]
     },
     "execution_count": 63,
     "metadata": {},
     "output_type": "execute_result"
    }
   ],
   "source": [
    "# check\n",
    "sorted(game_info['team_home'].map(game_info_teams).value_counts().index) == teams"
   ]
  },
  {
   "cell_type": "code",
   "execution_count": 64,
   "metadata": {},
   "outputs": [],
   "source": [
    "game_info['team_home'] = game_info['team_home'].map(game_info_teams)\n",
    "game_info['team_away'] = game_info['team_away'].map(game_info_teams)"
   ]
  },
  {
   "cell_type": "markdown",
   "metadata": {},
   "source": [
    "#### Defense vs. Position"
   ]
  },
  {
   "cell_type": "code",
   "execution_count": 77,
   "metadata": {},
   "outputs": [],
   "source": [
    "def_vs_pos_teams = {team: team for team in qb_vs_def['Opponent'].value_counts().index}\n",
    "def_vs_pos_teams['LA'] = 'LAR'"
   ]
  },
  {
   "cell_type": "code",
   "execution_count": 78,
   "metadata": {},
   "outputs": [],
   "source": [
    "for team in qb_vs_def['Team'].value_counts().index:\n",
    "    if team not in game_info_teams.keys():\n",
    "        print(team)"
   ]
  },
  {
   "cell_type": "code",
   "execution_count": 82,
   "metadata": {},
   "outputs": [],
   "source": [
    "qb_vs_def['Team'] = qb_vs_def['Team'].map(game_info_teams)\n",
    "rb_vs_def['Team'] = rb_vs_def['Team'].map(game_info_teams)\n",
    "wr_vs_def['Team'] = wr_vs_def['Team'].map(game_info_teams)\n",
    "te_vs_def['Team'] = te_vs_def['Team'].map(game_info_teams)"
   ]
  },
  {
   "cell_type": "code",
   "execution_count": 83,
   "metadata": {},
   "outputs": [],
   "source": [
    "qb_vs_def['Opponent'] = qb_vs_def['Opponent'].map(def_vs_pos_teams)\n",
    "rb_vs_def['Opponent'] = rb_vs_def['Opponent'].map(def_vs_pos_teams)\n",
    "wr_vs_def['Opponent'] = wr_vs_def['Opponent'].map(def_vs_pos_teams)\n",
    "te_vs_def['Opponent'] = te_vs_def['Opponent'].map(def_vs_pos_teams)"
   ]
  },
  {
   "cell_type": "code",
   "execution_count": 97,
   "metadata": {},
   "outputs": [
    {
     "data": {
      "text/html": [
       "<div>\n",
       "<style scoped>\n",
       "    .dataframe tbody tr th:only-of-type {\n",
       "        vertical-align: middle;\n",
       "    }\n",
       "\n",
       "    .dataframe tbody tr th {\n",
       "        vertical-align: top;\n",
       "    }\n",
       "\n",
       "    .dataframe thead th {\n",
       "        text-align: right;\n",
       "    }\n",
       "</style>\n",
       "<table border=\"1\" class=\"dataframe\">\n",
       "  <thead>\n",
       "    <tr style=\"text-align: right;\">\n",
       "      <th></th>\n",
       "      <th>Week</th>\n",
       "      <th>Year</th>\n",
       "      <th>GID</th>\n",
       "      <th>Name</th>\n",
       "      <th>Pos</th>\n",
       "      <th>Team</th>\n",
       "      <th>h/a</th>\n",
       "      <th>Oppt</th>\n",
       "      <th>FD points</th>\n",
       "      <th>FD salary</th>\n",
       "    </tr>\n",
       "  </thead>\n",
       "  <tbody>\n",
       "    <tr>\n",
       "      <th>0</th>\n",
       "      <td>1</td>\n",
       "      <td>2011</td>\n",
       "      <td>1131</td>\n",
       "      <td>Brady, Tom</td>\n",
       "      <td>QB</td>\n",
       "      <td>NE</td>\n",
       "      <td>a</td>\n",
       "      <td>MIA</td>\n",
       "      <td>35.98</td>\n",
       "      <td>9200.0</td>\n",
       "    </tr>\n",
       "    <tr>\n",
       "      <th>1</th>\n",
       "      <td>1</td>\n",
       "      <td>2011</td>\n",
       "      <td>1309</td>\n",
       "      <td>Henne, Chad</td>\n",
       "      <td>QB</td>\n",
       "      <td>MIA</td>\n",
       "      <td>h</td>\n",
       "      <td>NE</td>\n",
       "      <td>35.54</td>\n",
       "      <td>6800.0</td>\n",
       "    </tr>\n",
       "    <tr>\n",
       "      <th>2</th>\n",
       "      <td>1</td>\n",
       "      <td>2011</td>\n",
       "      <td>1378</td>\n",
       "      <td>Newton, Cam</td>\n",
       "      <td>QB</td>\n",
       "      <td>CAR</td>\n",
       "      <td>a</td>\n",
       "      <td>ARI</td>\n",
       "      <td>31.68</td>\n",
       "      <td>6700.0</td>\n",
       "    </tr>\n",
       "    <tr>\n",
       "      <th>3</th>\n",
       "      <td>1</td>\n",
       "      <td>2011</td>\n",
       "      <td>1151</td>\n",
       "      <td>Brees, Drew</td>\n",
       "      <td>QB</td>\n",
       "      <td>NO</td>\n",
       "      <td>a</td>\n",
       "      <td>GB</td>\n",
       "      <td>29.06</td>\n",
       "      <td>8900.0</td>\n",
       "    </tr>\n",
       "    <tr>\n",
       "      <th>4</th>\n",
       "      <td>1</td>\n",
       "      <td>2011</td>\n",
       "      <td>1242</td>\n",
       "      <td>Fitzpatrick, Ryan</td>\n",
       "      <td>QB</td>\n",
       "      <td>BUF</td>\n",
       "      <td>a</td>\n",
       "      <td>KC</td>\n",
       "      <td>24.62</td>\n",
       "      <td>7900.0</td>\n",
       "    </tr>\n",
       "  </tbody>\n",
       "</table>\n",
       "</div>"
      ],
      "text/plain": [
       "   Week  Year   GID               Name Pos Team h/a Oppt  FD points  FD salary\n",
       "0     1  2011  1131         Brady, Tom  QB   NE   a  MIA      35.98     9200.0\n",
       "1     1  2011  1309        Henne, Chad  QB  MIA   h   NE      35.54     6800.0\n",
       "2     1  2011  1378        Newton, Cam  QB  CAR   a  ARI      31.68     6700.0\n",
       "3     1  2011  1151        Brees, Drew  QB   NO   a   GB      29.06     8900.0\n",
       "4     1  2011  1242  Fitzpatrick, Ryan  QB  BUF   a   KC      24.62     7900.0"
      ]
     },
     "execution_count": 97,
     "metadata": {},
     "output_type": "execute_result"
    }
   ],
   "source": [
    "fanduel.head()"
   ]
  },
  {
   "cell_type": "code",
   "execution_count": 98,
   "metadata": {},
   "outputs": [
    {
     "data": {
      "text/html": [
       "<div>\n",
       "<style scoped>\n",
       "    .dataframe tbody tr th:only-of-type {\n",
       "        vertical-align: middle;\n",
       "    }\n",
       "\n",
       "    .dataframe tbody tr th {\n",
       "        vertical-align: top;\n",
       "    }\n",
       "\n",
       "    .dataframe thead th {\n",
       "        text-align: right;\n",
       "    }\n",
       "</style>\n",
       "<table border=\"1\" class=\"dataframe\">\n",
       "  <thead>\n",
       "    <tr style=\"text-align: right;\">\n",
       "      <th></th>\n",
       "      <th>schedule_date</th>\n",
       "      <th>schedule_season</th>\n",
       "      <th>schedule_week</th>\n",
       "      <th>team_home</th>\n",
       "      <th>team_away</th>\n",
       "      <th>stadium</th>\n",
       "      <th>team_favorite_id</th>\n",
       "      <th>spread_favorite</th>\n",
       "      <th>over_under_line</th>\n",
       "      <th>weather_detail</th>\n",
       "      <th>weather_temperature</th>\n",
       "      <th>weather_wind_mph</th>\n",
       "      <th>score_home</th>\n",
       "      <th>score_away</th>\n",
       "      <th>stadium_neutral</th>\n",
       "      <th>schedule_playoff</th>\n",
       "    </tr>\n",
       "  </thead>\n",
       "  <tbody>\n",
       "    <tr>\n",
       "      <th>0</th>\n",
       "      <td>09/08/2011</td>\n",
       "      <td>2011</td>\n",
       "      <td>1</td>\n",
       "      <td>GB</td>\n",
       "      <td>NO</td>\n",
       "      <td>Lambeau Field</td>\n",
       "      <td>GB</td>\n",
       "      <td>-5.0</td>\n",
       "      <td>48.0</td>\n",
       "      <td>Sunny</td>\n",
       "      <td>68.0</td>\n",
       "      <td>5.0</td>\n",
       "      <td>42.0</td>\n",
       "      <td>34.0</td>\n",
       "      <td>False</td>\n",
       "      <td>False</td>\n",
       "    </tr>\n",
       "    <tr>\n",
       "      <th>1</th>\n",
       "      <td>09/11/2011</td>\n",
       "      <td>2011</td>\n",
       "      <td>1</td>\n",
       "      <td>ARI</td>\n",
       "      <td>CAR</td>\n",
       "      <td>University of Phoenix Stadium</td>\n",
       "      <td>ARI</td>\n",
       "      <td>-7.0</td>\n",
       "      <td>37.5</td>\n",
       "      <td>DOME</td>\n",
       "      <td>72.0</td>\n",
       "      <td>0.0</td>\n",
       "      <td>28.0</td>\n",
       "      <td>21.0</td>\n",
       "      <td>False</td>\n",
       "      <td>False</td>\n",
       "    </tr>\n",
       "    <tr>\n",
       "      <th>2</th>\n",
       "      <td>09/11/2011</td>\n",
       "      <td>2011</td>\n",
       "      <td>1</td>\n",
       "      <td>BAL</td>\n",
       "      <td>PIT</td>\n",
       "      <td>M&amp;T Bank Stadium</td>\n",
       "      <td>BAL</td>\n",
       "      <td>-1.5</td>\n",
       "      <td>37.0</td>\n",
       "      <td>Rain</td>\n",
       "      <td>75.0</td>\n",
       "      <td>2.0</td>\n",
       "      <td>35.0</td>\n",
       "      <td>7.0</td>\n",
       "      <td>False</td>\n",
       "      <td>False</td>\n",
       "    </tr>\n",
       "    <tr>\n",
       "      <th>3</th>\n",
       "      <td>09/11/2011</td>\n",
       "      <td>2011</td>\n",
       "      <td>1</td>\n",
       "      <td>CHI</td>\n",
       "      <td>ATL</td>\n",
       "      <td>Soldier Field</td>\n",
       "      <td>ATL</td>\n",
       "      <td>-1.5</td>\n",
       "      <td>41.0</td>\n",
       "      <td>Sunny</td>\n",
       "      <td>78.0</td>\n",
       "      <td>7.0</td>\n",
       "      <td>30.0</td>\n",
       "      <td>12.0</td>\n",
       "      <td>False</td>\n",
       "      <td>False</td>\n",
       "    </tr>\n",
       "    <tr>\n",
       "      <th>4</th>\n",
       "      <td>09/11/2011</td>\n",
       "      <td>2011</td>\n",
       "      <td>1</td>\n",
       "      <td>CLE</td>\n",
       "      <td>CIN</td>\n",
       "      <td>FirstEnergy Stadium</td>\n",
       "      <td>CLE</td>\n",
       "      <td>-7.0</td>\n",
       "      <td>36.5</td>\n",
       "      <td>Sunny</td>\n",
       "      <td>72.0</td>\n",
       "      <td>9.0</td>\n",
       "      <td>17.0</td>\n",
       "      <td>27.0</td>\n",
       "      <td>False</td>\n",
       "      <td>False</td>\n",
       "    </tr>\n",
       "  </tbody>\n",
       "</table>\n",
       "</div>"
      ],
      "text/plain": [
       "  schedule_date  schedule_season  schedule_week team_home team_away  \\\n",
       "0    09/08/2011             2011              1        GB        NO   \n",
       "1    09/11/2011             2011              1       ARI       CAR   \n",
       "2    09/11/2011             2011              1       BAL       PIT   \n",
       "3    09/11/2011             2011              1       CHI       ATL   \n",
       "4    09/11/2011             2011              1       CLE       CIN   \n",
       "\n",
       "                         stadium team_favorite_id  spread_favorite  \\\n",
       "0                  Lambeau Field               GB             -5.0   \n",
       "1  University of Phoenix Stadium              ARI             -7.0   \n",
       "2               M&T Bank Stadium              BAL             -1.5   \n",
       "3                  Soldier Field              ATL             -1.5   \n",
       "4            FirstEnergy Stadium              CLE             -7.0   \n",
       "\n",
       "   over_under_line weather_detail  weather_temperature  weather_wind_mph  \\\n",
       "0             48.0          Sunny                 68.0               5.0   \n",
       "1             37.5           DOME                 72.0               0.0   \n",
       "2             37.0           Rain                 75.0               2.0   \n",
       "3             41.0          Sunny                 78.0               7.0   \n",
       "4             36.5          Sunny                 72.0               9.0   \n",
       "\n",
       "   score_home  score_away  stadium_neutral  schedule_playoff  \n",
       "0        42.0        34.0            False             False  \n",
       "1        28.0        21.0            False             False  \n",
       "2        35.0         7.0            False             False  \n",
       "3        30.0        12.0            False             False  \n",
       "4        17.0        27.0            False             False  "
      ]
     },
     "execution_count": 98,
     "metadata": {},
     "output_type": "execute_result"
    }
   ],
   "source": [
    "game_info.head()"
   ]
  },
  {
   "cell_type": "code",
   "execution_count": 84,
   "metadata": {},
   "outputs": [
    {
     "data": {
      "text/html": [
       "<div>\n",
       "<style scoped>\n",
       "    .dataframe tbody tr th:only-of-type {\n",
       "        vertical-align: middle;\n",
       "    }\n",
       "\n",
       "    .dataframe tbody tr th {\n",
       "        vertical-align: top;\n",
       "    }\n",
       "\n",
       "    .dataframe thead th {\n",
       "        text-align: right;\n",
       "    }\n",
       "</style>\n",
       "<table border=\"1\" class=\"dataframe\">\n",
       "  <thead>\n",
       "    <tr style=\"text-align: right;\">\n",
       "      <th></th>\n",
       "      <th>Attempts</th>\n",
       "      <th>Completions</th>\n",
       "      <th>Interceptions</th>\n",
       "      <th>Opponent</th>\n",
       "      <th>Rank</th>\n",
       "      <th>Team</th>\n",
       "      <th>Touchdowns</th>\n",
       "      <th>Week</th>\n",
       "      <th>Yards</th>\n",
       "      <th>Year</th>\n",
       "    </tr>\n",
       "  </thead>\n",
       "  <tbody>\n",
       "    <tr>\n",
       "      <th>0</th>\n",
       "      <td>32.0</td>\n",
       "      <td>22.0</td>\n",
       "      <td>1.0</td>\n",
       "      <td>PHI</td>\n",
       "      <td>13</td>\n",
       "      <td>ATL</td>\n",
       "      <td>2.0</td>\n",
       "      <td>2</td>\n",
       "      <td>312.0</td>\n",
       "      <td>2011</td>\n",
       "    </tr>\n",
       "    <tr>\n",
       "      <th>1</th>\n",
       "      <td>41.0</td>\n",
       "      <td>22.0</td>\n",
       "      <td>3.0</td>\n",
       "      <td>TEN</td>\n",
       "      <td>16</td>\n",
       "      <td>BAL</td>\n",
       "      <td>1.0</td>\n",
       "      <td>2</td>\n",
       "      <td>280.0</td>\n",
       "      <td>2011</td>\n",
       "    </tr>\n",
       "    <tr>\n",
       "      <th>2</th>\n",
       "      <td>36.0</td>\n",
       "      <td>22.0</td>\n",
       "      <td>1.0</td>\n",
       "      <td>OAK</td>\n",
       "      <td>5</td>\n",
       "      <td>BUF</td>\n",
       "      <td>1.0</td>\n",
       "      <td>2</td>\n",
       "      <td>119.0</td>\n",
       "      <td>2011</td>\n",
       "    </tr>\n",
       "    <tr>\n",
       "      <th>3</th>\n",
       "      <td>27.0</td>\n",
       "      <td>18.0</td>\n",
       "      <td>0.0</td>\n",
       "      <td>GB</td>\n",
       "      <td>8</td>\n",
       "      <td>CAR</td>\n",
       "      <td>2.0</td>\n",
       "      <td>2</td>\n",
       "      <td>309.0</td>\n",
       "      <td>2011</td>\n",
       "    </tr>\n",
       "    <tr>\n",
       "      <th>4</th>\n",
       "      <td>47.0</td>\n",
       "      <td>31.0</td>\n",
       "      <td>1.0</td>\n",
       "      <td>NO</td>\n",
       "      <td>6</td>\n",
       "      <td>CHI</td>\n",
       "      <td>0.0</td>\n",
       "      <td>2</td>\n",
       "      <td>319.0</td>\n",
       "      <td>2011</td>\n",
       "    </tr>\n",
       "  </tbody>\n",
       "</table>\n",
       "</div>"
      ],
      "text/plain": [
       "   Attempts  Completions  Interceptions Opponent  Rank Team  Touchdowns  Week  \\\n",
       "0      32.0         22.0            1.0      PHI    13  ATL         2.0     2   \n",
       "1      41.0         22.0            3.0      TEN    16  BAL         1.0     2   \n",
       "2      36.0         22.0            1.0      OAK     5  BUF         1.0     2   \n",
       "3      27.0         18.0            0.0       GB     8  CAR         2.0     2   \n",
       "4      47.0         31.0            1.0       NO     6  CHI         0.0     2   \n",
       "\n",
       "   Yards  Year  \n",
       "0  312.0  2011  \n",
       "1  280.0  2011  \n",
       "2  119.0  2011  \n",
       "3  309.0  2011  \n",
       "4  319.0  2011  "
      ]
     },
     "execution_count": 84,
     "metadata": {},
     "output_type": "execute_result"
    }
   ],
   "source": [
    "qb_vs_def.head()"
   ]
  },
  {
   "cell_type": "code",
   "execution_count": 99,
   "metadata": {},
   "outputs": [
    {
     "data": {
      "text/html": [
       "<div>\n",
       "<style scoped>\n",
       "    .dataframe tbody tr th:only-of-type {\n",
       "        vertical-align: middle;\n",
       "    }\n",
       "\n",
       "    .dataframe tbody tr th {\n",
       "        vertical-align: top;\n",
       "    }\n",
       "\n",
       "    .dataframe thead th {\n",
       "        text-align: right;\n",
       "    }\n",
       "</style>\n",
       "<table border=\"1\" class=\"dataframe\">\n",
       "  <thead>\n",
       "    <tr style=\"text-align: right;\">\n",
       "      <th></th>\n",
       "      <th>Attempts</th>\n",
       "      <th>Opponent</th>\n",
       "      <th>Rank</th>\n",
       "      <th>Team</th>\n",
       "      <th>Touchdowns</th>\n",
       "      <th>Week</th>\n",
       "      <th>Yards</th>\n",
       "      <th>Year</th>\n",
       "    </tr>\n",
       "  </thead>\n",
       "  <tbody>\n",
       "    <tr>\n",
       "      <th>0</th>\n",
       "      <td>26.0</td>\n",
       "      <td>PHI</td>\n",
       "      <td>9</td>\n",
       "      <td>ATL</td>\n",
       "      <td>0.0</td>\n",
       "      <td>2</td>\n",
       "      <td>92.0</td>\n",
       "      <td>2011</td>\n",
       "    </tr>\n",
       "    <tr>\n",
       "      <th>1</th>\n",
       "      <td>15.0</td>\n",
       "      <td>TEN</td>\n",
       "      <td>17</td>\n",
       "      <td>BAL</td>\n",
       "      <td>0.0</td>\n",
       "      <td>2</td>\n",
       "      <td>57.0</td>\n",
       "      <td>2011</td>\n",
       "    </tr>\n",
       "    <tr>\n",
       "      <th>2</th>\n",
       "      <td>14.0</td>\n",
       "      <td>OAK</td>\n",
       "      <td>1</td>\n",
       "      <td>BUF</td>\n",
       "      <td>0.0</td>\n",
       "      <td>2</td>\n",
       "      <td>66.0</td>\n",
       "      <td>2011</td>\n",
       "    </tr>\n",
       "    <tr>\n",
       "      <th>3</th>\n",
       "      <td>21.0</td>\n",
       "      <td>GB</td>\n",
       "      <td>13</td>\n",
       "      <td>CAR</td>\n",
       "      <td>1.0</td>\n",
       "      <td>2</td>\n",
       "      <td>100.0</td>\n",
       "      <td>2011</td>\n",
       "    </tr>\n",
       "    <tr>\n",
       "      <th>4</th>\n",
       "      <td>14.0</td>\n",
       "      <td>NO</td>\n",
       "      <td>15</td>\n",
       "      <td>CHI</td>\n",
       "      <td>0.0</td>\n",
       "      <td>2</td>\n",
       "      <td>110.0</td>\n",
       "      <td>2011</td>\n",
       "    </tr>\n",
       "  </tbody>\n",
       "</table>\n",
       "</div>"
      ],
      "text/plain": [
       "   Attempts Opponent  Rank Team  Touchdowns  Week  Yards  Year\n",
       "0      26.0      PHI     9  ATL         0.0     2   92.0  2011\n",
       "1      15.0      TEN    17  BAL         0.0     2   57.0  2011\n",
       "2      14.0      OAK     1  BUF         0.0     2   66.0  2011\n",
       "3      21.0       GB    13  CAR         1.0     2  100.0  2011\n",
       "4      14.0       NO    15  CHI         0.0     2  110.0  2011"
      ]
     },
     "execution_count": 99,
     "metadata": {},
     "output_type": "execute_result"
    }
   ],
   "source": [
    "rb_vs_def.head()"
   ]
  },
  {
   "cell_type": "code",
   "execution_count": 119,
   "metadata": {},
   "outputs": [
    {
     "data": {
      "text/html": [
       "<div>\n",
       "<style scoped>\n",
       "    .dataframe tbody tr th:only-of-type {\n",
       "        vertical-align: middle;\n",
       "    }\n",
       "\n",
       "    .dataframe tbody tr th {\n",
       "        vertical-align: top;\n",
       "    }\n",
       "\n",
       "    .dataframe thead th {\n",
       "        text-align: right;\n",
       "    }\n",
       "</style>\n",
       "<table border=\"1\" class=\"dataframe\">\n",
       "  <thead>\n",
       "    <tr style=\"text-align: right;\">\n",
       "      <th></th>\n",
       "      <th>Opponent</th>\n",
       "      <th>Rank</th>\n",
       "      <th>Receptions</th>\n",
       "      <th>Targets</th>\n",
       "      <th>Team</th>\n",
       "      <th>Touchdowns</th>\n",
       "      <th>Week</th>\n",
       "      <th>Yards</th>\n",
       "      <th>Year</th>\n",
       "    </tr>\n",
       "  </thead>\n",
       "  <tbody>\n",
       "    <tr>\n",
       "      <th>3355</th>\n",
       "      <td>OAK</td>\n",
       "      <td>8</td>\n",
       "      <td>8.666667</td>\n",
       "      <td>13.666667</td>\n",
       "      <td>LAC</td>\n",
       "      <td>0.333333</td>\n",
       "      <td>17</td>\n",
       "      <td>101.666667</td>\n",
       "      <td>2017</td>\n",
       "    </tr>\n",
       "    <tr>\n",
       "      <th>3356</th>\n",
       "      <td>LAR</td>\n",
       "      <td>19</td>\n",
       "      <td>14.000000</td>\n",
       "      <td>22.333333</td>\n",
       "      <td>SF</td>\n",
       "      <td>1.333333</td>\n",
       "      <td>17</td>\n",
       "      <td>195.333333</td>\n",
       "      <td>2017</td>\n",
       "    </tr>\n",
       "    <tr>\n",
       "      <th>3357</th>\n",
       "      <td>ARI</td>\n",
       "      <td>21</td>\n",
       "      <td>10.666667</td>\n",
       "      <td>15.666667</td>\n",
       "      <td>SEA</td>\n",
       "      <td>1.000000</td>\n",
       "      <td>17</td>\n",
       "      <td>141.000000</td>\n",
       "      <td>2017</td>\n",
       "    </tr>\n",
       "    <tr>\n",
       "      <th>3358</th>\n",
       "      <td>NO</td>\n",
       "      <td>25</td>\n",
       "      <td>11.666667</td>\n",
       "      <td>17.666667</td>\n",
       "      <td>TB</td>\n",
       "      <td>0.666667</td>\n",
       "      <td>17</td>\n",
       "      <td>143.000000</td>\n",
       "      <td>2017</td>\n",
       "    </tr>\n",
       "    <tr>\n",
       "      <th>3359</th>\n",
       "      <td>NYG</td>\n",
       "      <td>24</td>\n",
       "      <td>8.666667</td>\n",
       "      <td>16.000000</td>\n",
       "      <td>WAS</td>\n",
       "      <td>0.333333</td>\n",
       "      <td>17</td>\n",
       "      <td>154.666667</td>\n",
       "      <td>2017</td>\n",
       "    </tr>\n",
       "  </tbody>\n",
       "</table>\n",
       "</div>"
      ],
      "text/plain": [
       "     Opponent  Rank  Receptions    Targets Team  Touchdowns  Week       Yards  \\\n",
       "3355      OAK     8    8.666667  13.666667  LAC    0.333333    17  101.666667   \n",
       "3356      LAR    19   14.000000  22.333333   SF    1.333333    17  195.333333   \n",
       "3357      ARI    21   10.666667  15.666667  SEA    1.000000    17  141.000000   \n",
       "3358       NO    25   11.666667  17.666667   TB    0.666667    17  143.000000   \n",
       "3359      NYG    24    8.666667  16.000000  WAS    0.333333    17  154.666667   \n",
       "\n",
       "      Year  \n",
       "3355  2017  \n",
       "3356  2017  \n",
       "3357  2017  \n",
       "3358  2017  \n",
       "3359  2017  "
      ]
     },
     "execution_count": 119,
     "metadata": {},
     "output_type": "execute_result"
    }
   ],
   "source": [
    "wr_vs_def.tail()"
   ]
  },
  {
   "cell_type": "code",
   "execution_count": 102,
   "metadata": {},
   "outputs": [
    {
     "data": {
      "text/html": [
       "<div>\n",
       "<style scoped>\n",
       "    .dataframe tbody tr th:only-of-type {\n",
       "        vertical-align: middle;\n",
       "    }\n",
       "\n",
       "    .dataframe tbody tr th {\n",
       "        vertical-align: top;\n",
       "    }\n",
       "\n",
       "    .dataframe thead th {\n",
       "        text-align: right;\n",
       "    }\n",
       "</style>\n",
       "<table border=\"1\" class=\"dataframe\">\n",
       "  <thead>\n",
       "    <tr style=\"text-align: right;\">\n",
       "      <th></th>\n",
       "      <th>Opponent</th>\n",
       "      <th>Rank</th>\n",
       "      <th>Receptions</th>\n",
       "      <th>Targets</th>\n",
       "      <th>Team</th>\n",
       "      <th>Touchdowns</th>\n",
       "      <th>Week</th>\n",
       "      <th>Yards</th>\n",
       "      <th>Year</th>\n",
       "    </tr>\n",
       "  </thead>\n",
       "  <tbody>\n",
       "    <tr>\n",
       "      <th>0</th>\n",
       "      <td>PHI</td>\n",
       "      <td>18</td>\n",
       "      <td>4.0</td>\n",
       "      <td>7.0</td>\n",
       "      <td>ATL</td>\n",
       "      <td>1.0</td>\n",
       "      <td>2</td>\n",
       "      <td>30.0</td>\n",
       "      <td>2011</td>\n",
       "    </tr>\n",
       "    <tr>\n",
       "      <th>1</th>\n",
       "      <td>TEN</td>\n",
       "      <td>20</td>\n",
       "      <td>3.0</td>\n",
       "      <td>5.0</td>\n",
       "      <td>BAL</td>\n",
       "      <td>0.0</td>\n",
       "      <td>2</td>\n",
       "      <td>42.0</td>\n",
       "      <td>2011</td>\n",
       "    </tr>\n",
       "    <tr>\n",
       "      <th>2</th>\n",
       "      <td>OAK</td>\n",
       "      <td>24</td>\n",
       "      <td>4.0</td>\n",
       "      <td>7.0</td>\n",
       "      <td>BUF</td>\n",
       "      <td>0.0</td>\n",
       "      <td>2</td>\n",
       "      <td>39.0</td>\n",
       "      <td>2011</td>\n",
       "    </tr>\n",
       "    <tr>\n",
       "      <th>3</th>\n",
       "      <td>GB</td>\n",
       "      <td>15</td>\n",
       "      <td>4.0</td>\n",
       "      <td>6.0</td>\n",
       "      <td>CAR</td>\n",
       "      <td>1.0</td>\n",
       "      <td>2</td>\n",
       "      <td>101.0</td>\n",
       "      <td>2011</td>\n",
       "    </tr>\n",
       "    <tr>\n",
       "      <th>4</th>\n",
       "      <td>NO</td>\n",
       "      <td>13</td>\n",
       "      <td>5.0</td>\n",
       "      <td>7.0</td>\n",
       "      <td>CHI</td>\n",
       "      <td>0.0</td>\n",
       "      <td>2</td>\n",
       "      <td>72.0</td>\n",
       "      <td>2011</td>\n",
       "    </tr>\n",
       "  </tbody>\n",
       "</table>\n",
       "</div>"
      ],
      "text/plain": [
       "  Opponent  Rank  Receptions  Targets Team  Touchdowns  Week  Yards  Year\n",
       "0      PHI    18         4.0      7.0  ATL         1.0     2   30.0  2011\n",
       "1      TEN    20         3.0      5.0  BAL         0.0     2   42.0  2011\n",
       "2      OAK    24         4.0      7.0  BUF         0.0     2   39.0  2011\n",
       "3       GB    15         4.0      6.0  CAR         1.0     2  101.0  2011\n",
       "4       NO    13         5.0      7.0  CHI         0.0     2   72.0  2011"
      ]
     },
     "execution_count": 102,
     "metadata": {},
     "output_type": "execute_result"
    }
   ],
   "source": [
    "te_vs_def.head()"
   ]
  },
  {
   "cell_type": "markdown",
   "metadata": {},
   "source": [
    "### Step 2) Drop all week 1 observations"
   ]
  },
  {
   "cell_type": "code",
   "execution_count": 106,
   "metadata": {},
   "outputs": [],
   "source": [
    "fanduel = fanduel[fanduel['Week'] > 1]"
   ]
  },
  {
   "cell_type": "code",
   "execution_count": 110,
   "metadata": {},
   "outputs": [],
   "source": [
    "game_info = game_info[game_info['schedule_week'] > 1]"
   ]
  },
  {
   "cell_type": "markdown",
   "metadata": {},
   "source": [
    "### Step 3) Drop Unnecessary Columns"
   ]
  },
  {
   "cell_type": "code",
   "execution_count": 117,
   "metadata": {},
   "outputs": [
    {
     "name": "stderr",
     "output_type": "stream",
     "text": [
      "/Users/charleydixon/anaconda3/lib/python3.6/site-packages/pandas/core/frame.py:3697: SettingWithCopyWarning: \n",
      "A value is trying to be set on a copy of a slice from a DataFrame\n",
      "\n",
      "See the caveats in the documentation: http://pandas.pydata.org/pandas-docs/stable/indexing.html#indexing-view-versus-copy\n",
      "  errors=errors)\n"
     ]
    }
   ],
   "source": [
    "game_columns = ['schedule_date', 'stadium', 'score_home', 'score_away', 'stadium_neutral', 'schedule_playoff']\n",
    "game_info.drop(game_columns, axis = 1, inplace = True)"
   ]
  },
  {
   "cell_type": "code",
   "execution_count": 121,
   "metadata": {},
   "outputs": [
    {
     "data": {
      "text/html": [
       "<div>\n",
       "<style scoped>\n",
       "    .dataframe tbody tr th:only-of-type {\n",
       "        vertical-align: middle;\n",
       "    }\n",
       "\n",
       "    .dataframe tbody tr th {\n",
       "        vertical-align: top;\n",
       "    }\n",
       "\n",
       "    .dataframe thead th {\n",
       "        text-align: right;\n",
       "    }\n",
       "</style>\n",
       "<table border=\"1\" class=\"dataframe\">\n",
       "  <thead>\n",
       "    <tr style=\"text-align: right;\">\n",
       "      <th></th>\n",
       "      <th>schedule_season</th>\n",
       "      <th>schedule_week</th>\n",
       "      <th>team_home</th>\n",
       "      <th>team_away</th>\n",
       "      <th>team_favorite_id</th>\n",
       "      <th>spread_favorite</th>\n",
       "      <th>over_under_line</th>\n",
       "      <th>weather_detail</th>\n",
       "      <th>weather_temperature</th>\n",
       "      <th>weather_wind_mph</th>\n",
       "    </tr>\n",
       "  </thead>\n",
       "  <tbody>\n",
       "    <tr>\n",
       "      <th>16</th>\n",
       "      <td>2011</td>\n",
       "      <td>2</td>\n",
       "      <td>ATL</td>\n",
       "      <td>PHI</td>\n",
       "      <td>PHI</td>\n",
       "      <td>-2.5</td>\n",
       "      <td>49.5</td>\n",
       "      <td>DOME</td>\n",
       "      <td>72.0</td>\n",
       "      <td>0.0</td>\n",
       "    </tr>\n",
       "    <tr>\n",
       "      <th>17</th>\n",
       "      <td>2011</td>\n",
       "      <td>2</td>\n",
       "      <td>BUF</td>\n",
       "      <td>OAK</td>\n",
       "      <td>BUF</td>\n",
       "      <td>-4.0</td>\n",
       "      <td>41.0</td>\n",
       "      <td>Sunny</td>\n",
       "      <td>66.0</td>\n",
       "      <td>5.0</td>\n",
       "    </tr>\n",
       "    <tr>\n",
       "      <th>18</th>\n",
       "      <td>2011</td>\n",
       "      <td>2</td>\n",
       "      <td>CAR</td>\n",
       "      <td>GB</td>\n",
       "      <td>GB</td>\n",
       "      <td>-11.0</td>\n",
       "      <td>45.0</td>\n",
       "      <td>Sunny</td>\n",
       "      <td>67.0</td>\n",
       "      <td>1.0</td>\n",
       "    </tr>\n",
       "    <tr>\n",
       "      <th>19</th>\n",
       "      <td>2011</td>\n",
       "      <td>2</td>\n",
       "      <td>DEN</td>\n",
       "      <td>CIN</td>\n",
       "      <td>DEN</td>\n",
       "      <td>-3.0</td>\n",
       "      <td>41.0</td>\n",
       "      <td>Sunny</td>\n",
       "      <td>73.0</td>\n",
       "      <td>6.0</td>\n",
       "    </tr>\n",
       "    <tr>\n",
       "      <th>20</th>\n",
       "      <td>2011</td>\n",
       "      <td>2</td>\n",
       "      <td>DET</td>\n",
       "      <td>KC</td>\n",
       "      <td>DET</td>\n",
       "      <td>-9.0</td>\n",
       "      <td>45.0</td>\n",
       "      <td>DOME</td>\n",
       "      <td>72.0</td>\n",
       "      <td>0.0</td>\n",
       "    </tr>\n",
       "  </tbody>\n",
       "</table>\n",
       "</div>"
      ],
      "text/plain": [
       "    schedule_season  schedule_week team_home team_away team_favorite_id  \\\n",
       "16             2011              2       ATL       PHI              PHI   \n",
       "17             2011              2       BUF       OAK              BUF   \n",
       "18             2011              2       CAR        GB               GB   \n",
       "19             2011              2       DEN       CIN              DEN   \n",
       "20             2011              2       DET        KC              DET   \n",
       "\n",
       "    spread_favorite  over_under_line weather_detail  weather_temperature  \\\n",
       "16             -2.5             49.5           DOME                 72.0   \n",
       "17             -4.0             41.0          Sunny                 66.0   \n",
       "18            -11.0             45.0          Sunny                 67.0   \n",
       "19             -3.0             41.0          Sunny                 73.0   \n",
       "20             -9.0             45.0           DOME                 72.0   \n",
       "\n",
       "    weather_wind_mph  \n",
       "16               0.0  \n",
       "17               5.0  \n",
       "18               1.0  \n",
       "19               6.0  \n",
       "20               0.0  "
      ]
     },
     "execution_count": 121,
     "metadata": {},
     "output_type": "execute_result"
    }
   ],
   "source": [
    "game_info.head()"
   ]
  },
  {
   "cell_type": "markdown",
   "metadata": {},
   "source": [
    "### Step 4) Split FanDuel by position"
   ]
  },
  {
   "cell_type": "code",
   "execution_count": 124,
   "metadata": {},
   "outputs": [
    {
     "data": {
      "text/plain": [
       "WR     15671\n",
       "RB     12346\n",
       "TE      8847\n",
       "QB      4139\n",
       "PK      3363\n",
       "Def     3360\n",
       "Name: Pos, dtype: int64"
      ]
     },
     "execution_count": 124,
     "metadata": {},
     "output_type": "execute_result"
    }
   ],
   "source": [
    "fanduel['Pos'].value_counts()"
   ]
  },
  {
   "cell_type": "code",
   "execution_count": 125,
   "metadata": {},
   "outputs": [],
   "source": [
    "fd_qbs = fanduel[fanduel['Pos'] == 'QB']\n",
    "fd_rbs = fanduel[fanduel['Pos'] == 'RB']\n",
    "fd_wrs = fanduel[fanduel['Pos'] == 'WR']\n",
    "fd_tes = fanduel[fanduel['Pos'] == 'TE']"
   ]
  },
  {
   "cell_type": "markdown",
   "metadata": {},
   "source": [
    "### Step 5) Merge EVERYTHING!!!"
   ]
  },
  {
   "cell_type": "markdown",
   "metadata": {},
   "source": [
    "#### Quarterbacks"
   ]
  },
  {
   "cell_type": "code",
   "execution_count": 191,
   "metadata": {},
   "outputs": [
    {
     "data": {
      "text/html": [
       "<div>\n",
       "<style scoped>\n",
       "    .dataframe tbody tr th:only-of-type {\n",
       "        vertical-align: middle;\n",
       "    }\n",
       "\n",
       "    .dataframe tbody tr th {\n",
       "        vertical-align: top;\n",
       "    }\n",
       "\n",
       "    .dataframe thead th {\n",
       "        text-align: right;\n",
       "    }\n",
       "</style>\n",
       "<table border=\"1\" class=\"dataframe\">\n",
       "  <thead>\n",
       "    <tr style=\"text-align: right;\">\n",
       "      <th></th>\n",
       "      <th>Week</th>\n",
       "      <th>Year</th>\n",
       "      <th>GID</th>\n",
       "      <th>Name</th>\n",
       "      <th>Pos</th>\n",
       "      <th>Team</th>\n",
       "      <th>h/a</th>\n",
       "      <th>Oppt</th>\n",
       "      <th>FD points</th>\n",
       "      <th>FD salary</th>\n",
       "      <th>...</th>\n",
       "      <th>Opp_Avg_TDs_Allowed</th>\n",
       "      <th>Opp_Avg_Yds_Allowed</th>\n",
       "      <th>Home</th>\n",
       "      <th>Away</th>\n",
       "      <th>team_favorite_id</th>\n",
       "      <th>spread_favorite</th>\n",
       "      <th>over_under_line</th>\n",
       "      <th>weather_detail</th>\n",
       "      <th>weather_temperature</th>\n",
       "      <th>weather_wind_mph</th>\n",
       "    </tr>\n",
       "  </thead>\n",
       "  <tbody>\n",
       "    <tr>\n",
       "      <th>0</th>\n",
       "      <td>2</td>\n",
       "      <td>2011</td>\n",
       "      <td>1378</td>\n",
       "      <td>Newton, Cam</td>\n",
       "      <td>QB</td>\n",
       "      <td>CAR</td>\n",
       "      <td>h</td>\n",
       "      <td>GB</td>\n",
       "      <td>29.58</td>\n",
       "      <td>7300.0</td>\n",
       "      <td>...</td>\n",
       "      <td>2.0</td>\n",
       "      <td>309.0</td>\n",
       "      <td>CAR</td>\n",
       "      <td>GB</td>\n",
       "      <td>GB</td>\n",
       "      <td>-11.0</td>\n",
       "      <td>45.0</td>\n",
       "      <td>Sunny</td>\n",
       "      <td>67.0</td>\n",
       "      <td>1.0</td>\n",
       "    </tr>\n",
       "    <tr>\n",
       "      <th>1</th>\n",
       "      <td>2</td>\n",
       "      <td>2011</td>\n",
       "      <td>1252</td>\n",
       "      <td>Rodgers, Aaron</td>\n",
       "      <td>QB</td>\n",
       "      <td>GB</td>\n",
       "      <td>a</td>\n",
       "      <td>CAR</td>\n",
       "      <td>21.62</td>\n",
       "      <td>9900.0</td>\n",
       "      <td>...</td>\n",
       "      <td>3.0</td>\n",
       "      <td>419.0</td>\n",
       "      <td>CAR</td>\n",
       "      <td>GB</td>\n",
       "      <td>GB</td>\n",
       "      <td>-11.0</td>\n",
       "      <td>45.0</td>\n",
       "      <td>Sunny</td>\n",
       "      <td>67.0</td>\n",
       "      <td>1.0</td>\n",
       "    </tr>\n",
       "    <tr>\n",
       "      <th>2</th>\n",
       "      <td>2</td>\n",
       "      <td>2011</td>\n",
       "      <td>1131</td>\n",
       "      <td>Brady, Tom</td>\n",
       "      <td>QB</td>\n",
       "      <td>NE</td>\n",
       "      <td>h</td>\n",
       "      <td>LAC</td>\n",
       "      <td>29.22</td>\n",
       "      <td>9100.0</td>\n",
       "      <td>...</td>\n",
       "      <td>2.0</td>\n",
       "      <td>416.0</td>\n",
       "      <td>NE</td>\n",
       "      <td>LAC</td>\n",
       "      <td>NE</td>\n",
       "      <td>-7.0</td>\n",
       "      <td>53.5</td>\n",
       "      <td>Sunny</td>\n",
       "      <td>63.0</td>\n",
       "      <td>12.0</td>\n",
       "    </tr>\n",
       "    <tr>\n",
       "      <th>3</th>\n",
       "      <td>2</td>\n",
       "      <td>2011</td>\n",
       "      <td>1231</td>\n",
       "      <td>Rivers, Philip</td>\n",
       "      <td>QB</td>\n",
       "      <td>LAC</td>\n",
       "      <td>a</td>\n",
       "      <td>NE</td>\n",
       "      <td>20.32</td>\n",
       "      <td>8900.0</td>\n",
       "      <td>...</td>\n",
       "      <td>1.0</td>\n",
       "      <td>39.0</td>\n",
       "      <td>NE</td>\n",
       "      <td>LAC</td>\n",
       "      <td>NE</td>\n",
       "      <td>-7.0</td>\n",
       "      <td>53.5</td>\n",
       "      <td>Sunny</td>\n",
       "      <td>63.0</td>\n",
       "      <td>12.0</td>\n",
       "    </tr>\n",
       "    <tr>\n",
       "      <th>4</th>\n",
       "      <td>2</td>\n",
       "      <td>2011</td>\n",
       "      <td>1340</td>\n",
       "      <td>Stafford, Matthew</td>\n",
       "      <td>QB</td>\n",
       "      <td>DET</td>\n",
       "      <td>h</td>\n",
       "      <td>KC</td>\n",
       "      <td>26.86</td>\n",
       "      <td>7900.0</td>\n",
       "      <td>...</td>\n",
       "      <td>1.0</td>\n",
       "      <td>266.0</td>\n",
       "      <td>DET</td>\n",
       "      <td>KC</td>\n",
       "      <td>DET</td>\n",
       "      <td>-9.0</td>\n",
       "      <td>45.0</td>\n",
       "      <td>DOME</td>\n",
       "      <td>72.0</td>\n",
       "      <td>0.0</td>\n",
       "    </tr>\n",
       "  </tbody>\n",
       "</table>\n",
       "<p>5 rows × 24 columns</p>\n",
       "</div>"
      ],
      "text/plain": [
       "   Week  Year   GID               Name Pos Team h/a Oppt  FD points  \\\n",
       "0     2  2011  1378        Newton, Cam  QB  CAR   h   GB      29.58   \n",
       "1     2  2011  1252     Rodgers, Aaron  QB   GB   a  CAR      21.62   \n",
       "2     2  2011  1131         Brady, Tom  QB   NE   h  LAC      29.22   \n",
       "3     2  2011  1231     Rivers, Philip  QB  LAC   a   NE      20.32   \n",
       "4     2  2011  1340  Stafford, Matthew  QB  DET   h   KC      26.86   \n",
       "\n",
       "   FD salary        ...         Opp_Avg_TDs_Allowed  Opp_Avg_Yds_Allowed  \\\n",
       "0     7300.0        ...                         2.0                309.0   \n",
       "1     9900.0        ...                         3.0                419.0   \n",
       "2     9100.0        ...                         2.0                416.0   \n",
       "3     8900.0        ...                         1.0                 39.0   \n",
       "4     7900.0        ...                         1.0                266.0   \n",
       "\n",
       "   Home  Away  team_favorite_id  spread_favorite over_under_line  \\\n",
       "0   CAR    GB                GB            -11.0            45.0   \n",
       "1   CAR    GB                GB            -11.0            45.0   \n",
       "2    NE   LAC                NE             -7.0            53.5   \n",
       "3    NE   LAC                NE             -7.0            53.5   \n",
       "4   DET    KC               DET             -9.0            45.0   \n",
       "\n",
       "  weather_detail weather_temperature  weather_wind_mph  \n",
       "0          Sunny                67.0               1.0  \n",
       "1          Sunny                67.0               1.0  \n",
       "2          Sunny                63.0              12.0  \n",
       "3          Sunny                63.0              12.0  \n",
       "4           DOME                72.0               0.0  \n",
       "\n",
       "[5 rows x 24 columns]"
      ]
     },
     "execution_count": 191,
     "metadata": {},
     "output_type": "execute_result"
    }
   ],
   "source": [
    "quarterbacks.head()"
   ]
  },
  {
   "cell_type": "code",
   "execution_count": 137,
   "metadata": {},
   "outputs": [],
   "source": [
    "quarterbacks = pd.merge(fd_qbs, qb_vs_def, on = ['Week', 'Year', 'Team'])\n",
    "quarterbacks.drop('Opponent', axis = 1, inplace = True)"
   ]
  },
  {
   "cell_type": "code",
   "execution_count": 148,
   "metadata": {},
   "outputs": [],
   "source": [
    "renamed_cols = {'Attempts': 'Opp_Avg_Att_Allowed', \n",
    "                'Completions': 'Opp_Avg_Comp_Allowed', \n",
    "                'Interceptions': 'Opp_Avg_Ints',\n",
    "                'Rank': 'Opp_Rank',\n",
    "                'Touchdowns': 'Opp_Avg_TDs_Allowed',\n",
    "                'Yards': 'Opp_Avg_Yds_Allowed'}\n",
    "\n",
    "quarterbacks.rename(columns = renamed_cols, inplace = True)"
   ]
  },
  {
   "cell_type": "code",
   "execution_count": 185,
   "metadata": {},
   "outputs": [
    {
     "name": "stderr",
     "output_type": "stream",
     "text": [
      "/Users/charleydixon/anaconda3/lib/python3.6/site-packages/pandas/core/frame.py:3781: SettingWithCopyWarning: \n",
      "A value is trying to be set on a copy of a slice from a DataFrame\n",
      "\n",
      "See the caveats in the documentation: http://pandas.pydata.org/pandas-docs/stable/indexing.html#indexing-view-versus-copy\n",
      "  return super(DataFrame, self).rename(**kwargs)\n"
     ]
    }
   ],
   "source": [
    "game_info.rename(columns = {'schedule_season': 'Year', \n",
    "                            'schedule_week': 'Week', \n",
    "                            'team_home': 'Home', \n",
    "                            'team_away': 'Away'}, inplace = True)"
   ]
  },
  {
   "cell_type": "code",
   "execution_count": 165,
   "metadata": {},
   "outputs": [],
   "source": [
    "# create dummy column to replace with home team\n",
    "quarterbacks['Home'] = 'Blah'\n",
    "quarterbacks['Away'] = 'Blah'"
   ]
  },
  {
   "cell_type": "code",
   "execution_count": 181,
   "metadata": {},
   "outputs": [],
   "source": [
    "# creating home & away columns to match with game info\n",
    "for index, player in quarterbacks.iterrows():\n",
    "    if player['h/a'] == 'h':\n",
    "        quarterbacks.loc[index, 'Home'] = player['Team']\n",
    "        quarterbacks.loc[index, 'Away'] = player['Oppt']\n",
    "    else:\n",
    "        quarterbacks.loc[index, 'Home'] = player['Oppt']\n",
    "        quarterbacks.loc[index, 'Away'] = player['Team']"
   ]
  },
  {
   "cell_type": "code",
   "execution_count": 190,
   "metadata": {},
   "outputs": [],
   "source": [
    "quarterbacks = pd.merge(quarterbacks, game_info, on = ['Week', 'Year', 'Home', 'Away'])"
   ]
  },
  {
   "cell_type": "code",
   "execution_count": 195,
   "metadata": {},
   "outputs": [],
   "source": [
    "# drop unwanted columns, rename relevant ones\n",
    "quarterbacks.drop(['Home', 'Away'], axis = 1, inplace = True)"
   ]
  },
  {
   "cell_type": "code",
   "execution_count": 226,
   "metadata": {},
   "outputs": [],
   "source": [
    "quarterbacks.to_csv('../data/quarterbacks.csv', index = False)"
   ]
  },
  {
   "cell_type": "code",
   "execution_count": 197,
   "metadata": {},
   "outputs": [],
   "source": [
    "rename_cols = {'team_favorite_id': 'Favored',\n",
    "                'spread_favorite': 'Spread',\n",
    "                'over_under_line': 'O/U',\n",
    "                'weather_detail': 'Weather',\n",
    "                'weather_temperature': 'Temperature',\n",
    "                'weather_wind_mph': 'Wind'}\n",
    "    \n",
    "quarterbacks.rename(columns = rename_cols, inplace = True)"
   ]
  },
  {
   "cell_type": "code",
   "execution_count": 200,
   "metadata": {},
   "outputs": [
    {
     "name": "stderr",
     "output_type": "stream",
     "text": [
      "/Users/charleydixon/anaconda3/lib/python3.6/site-packages/pandas/core/frame.py:3781: SettingWithCopyWarning: \n",
      "A value is trying to be set on a copy of a slice from a DataFrame\n",
      "\n",
      "See the caveats in the documentation: http://pandas.pydata.org/pandas-docs/stable/indexing.html#indexing-view-versus-copy\n",
      "  return super(DataFrame, self).rename(**kwargs)\n"
     ]
    }
   ],
   "source": [
    "game_info.rename(columns = rename_cols, inplace = True)"
   ]
  },
  {
   "cell_type": "markdown",
   "metadata": {},
   "source": [
    "#### Runningbacks"
   ]
  },
  {
   "cell_type": "code",
   "execution_count": 142,
   "metadata": {
    "scrolled": true
   },
   "outputs": [],
   "source": [
    "runningbacks = pd.merge(fd_rbs, rb_vs_def, on = ['Week', 'Year', 'Team'])\n",
    "runningbacks.drop('Opponent', axis = 1, inplace = True)"
   ]
  },
  {
   "cell_type": "code",
   "execution_count": 150,
   "metadata": {},
   "outputs": [],
   "source": [
    "renamed_cols = {'Attempts': 'Opp_Avg_Carries',\n",
    "                'Rank': 'Opp_Rank',\n",
    "                'Touchdowns': 'Opp_Avg_TDs_Allowed',\n",
    "                'Yards': 'Opp_Avg_Yds_Allowed'}\n",
    "\n",
    "runningbacks.rename(columns = renamed_cols, inplace = True)"
   ]
  },
  {
   "cell_type": "code",
   "execution_count": 218,
   "metadata": {},
   "outputs": [],
   "source": [
    "runningbacks['Home'] = 'Blah'\n",
    "runningbacks['Away'] = 'Blah'"
   ]
  },
  {
   "cell_type": "code",
   "execution_count": 219,
   "metadata": {},
   "outputs": [],
   "source": [
    "# creating home & away columns to match with game info\n",
    "for index, player in runningbacks.iterrows():\n",
    "    if player['h/a'] == 'h':\n",
    "        runningbacks.loc[index, 'Home'] = player['Team']\n",
    "        runningbacks.loc[index, 'Away'] = player['Oppt']\n",
    "    else:\n",
    "        runningbacks.loc[index, 'Home'] = player['Oppt']\n",
    "        runningbacks.loc[index, 'Away'] = player['Team']"
   ]
  },
  {
   "cell_type": "code",
   "execution_count": 220,
   "metadata": {},
   "outputs": [],
   "source": [
    "runningbacks = pd.merge(runningbacks, game_info, on = ['Week', 'Year', 'Home', 'Away'])\n",
    "runningbacks.drop(['Home', 'Away'], axis = 1, inplace = True)"
   ]
  },
  {
   "cell_type": "code",
   "execution_count": 224,
   "metadata": {},
   "outputs": [],
   "source": [
    "runningbacks.to_csv('../data/runningbacks.csv', index = False)"
   ]
  },
  {
   "cell_type": "markdown",
   "metadata": {},
   "source": [
    "#### Wide Receivers"
   ]
  },
  {
   "cell_type": "code",
   "execution_count": 145,
   "metadata": {},
   "outputs": [],
   "source": [
    "receivers = pd.merge(fd_wrs, wr_vs_def, on = ['Week', 'Year', 'Team'])\n",
    "receivers.drop('Opponent', axis = 1, inplace = True)"
   ]
  },
  {
   "cell_type": "code",
   "execution_count": 152,
   "metadata": {},
   "outputs": [],
   "source": [
    "renamed_cols = {'Targets': 'Opp_Avg_Targets_Allowed',\n",
    "                'Receptions': 'Opp_Avg_Rec_Allowed',\n",
    "                'Rank': 'Opp_Rank',\n",
    "                'Touchdowns': 'Opp_Avg_TDs_Allowed',\n",
    "                'Yards': 'Opp_Avg_Yds_Allowed'}\n",
    "\n",
    "receivers.rename(columns = renamed_cols, inplace = True)"
   ]
  },
  {
   "cell_type": "code",
   "execution_count": 227,
   "metadata": {},
   "outputs": [],
   "source": [
    "receivers['Home'] = 'Blah'\n",
    "receivers['Away'] = 'Blah'\n",
    "\n",
    "# creating home & away columns to match with game info\n",
    "for index, player in receivers.iterrows():\n",
    "    if player['h/a'] == 'h':\n",
    "        receivers.loc[index, 'Home'] = player['Team']\n",
    "        receivers.loc[index, 'Away'] = player['Oppt']\n",
    "    else:\n",
    "        receivers.loc[index, 'Home'] = player['Oppt']\n",
    "        receivers.loc[index, 'Away'] = player['Team']\n",
    "        \n",
    "receivers = pd.merge(receivers, game_info, on = ['Week', 'Year', 'Home', 'Away'])\n",
    "receivers.drop(['Home', 'Away'], axis = 1, inplace = True)"
   ]
  },
  {
   "cell_type": "code",
   "execution_count": 228,
   "metadata": {},
   "outputs": [],
   "source": [
    "receivers.to_csv('../data/receivers.csv', index = False)"
   ]
  },
  {
   "cell_type": "markdown",
   "metadata": {},
   "source": [
    "#### Tight Ends"
   ]
  },
  {
   "cell_type": "code",
   "execution_count": 155,
   "metadata": {},
   "outputs": [],
   "source": [
    "tight_ends = pd.merge(fd_tes, te_vs_def, on = ['Week', 'Year', 'Team'])\n",
    "tight_ends.drop('Opponent', axis = 1, inplace = True)"
   ]
  },
  {
   "cell_type": "code",
   "execution_count": 157,
   "metadata": {},
   "outputs": [],
   "source": [
    "renamed_cols = {'Targets': 'Opp_Avg_Targets_Allowed',\n",
    "                'Receptions': 'Opp_Avg_Rec_Allowed',\n",
    "                'Rank': 'Opp_Rank',\n",
    "                'Touchdowns': 'Opp_Avg_TDs_Allowed',\n",
    "                'Yards': 'Opp_Avg_Yds_Allowed'}\n",
    "\n",
    "tight_ends.rename(columns = renamed_cols, inplace = True)"
   ]
  },
  {
   "cell_type": "code",
   "execution_count": 231,
   "metadata": {},
   "outputs": [],
   "source": [
    "tight_ends['Home'] = 'Blah'\n",
    "tight_ends['Away'] = 'Blah'\n",
    "\n",
    "# creating home & away columns to match with game info\n",
    "for index, player in tight_ends.iterrows():\n",
    "    if player['h/a'] == 'h':\n",
    "        tight_ends.loc[index, 'Home'] = player['Team']\n",
    "        tight_ends.loc[index, 'Away'] = player['Oppt']\n",
    "    else:\n",
    "        tight_ends.loc[index, 'Home'] = player['Oppt']\n",
    "        tight_ends.loc[index, 'Away'] = player['Team']\n",
    "        \n",
    "tight_ends = pd.merge(tight_ends, game_info, on = ['Week', 'Year', 'Home', 'Away'])\n",
    "tight_ends.drop(['Home', 'Away'], axis = 1, inplace = True)"
   ]
  },
  {
   "cell_type": "code",
   "execution_count": 233,
   "metadata": {},
   "outputs": [],
   "source": [
    "tight_ends.to_csv('../data/tightends.csv', index = False)"
   ]
  },
  {
   "cell_type": "code",
   "execution_count": null,
   "metadata": {},
   "outputs": [],
   "source": []
  }
 ],
 "metadata": {
  "kernelspec": {
   "display_name": "Python 3",
   "language": "python",
   "name": "python3"
  },
  "language_info": {
   "codemirror_mode": {
    "name": "ipython",
    "version": 3
   },
   "file_extension": ".py",
   "mimetype": "text/x-python",
   "name": "python",
   "nbconvert_exporter": "python",
   "pygments_lexer": "ipython3",
   "version": "3.6.5"
  }
 },
 "nbformat": 4,
 "nbformat_minor": 2
}
